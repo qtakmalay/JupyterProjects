{
 "cells": [
  {
   "cell_type": "code",
   "execution_count": 32,
   "metadata": {},
   "outputs": [
    {
     "name": "stdout",
     "output_type": "stream",
     "text": [
      "C:\\Users\\azatv\\Jupyter\\JupyterProjects\\ML and PC\\mlpc_dataset_with just_words\\other\\2024_15_speech_true.wav\n",
      "C:\\Users\\azatv\\Jupyter\\JupyterProjects\\ML and PC\\mlpc_dataset_with just_words\\other\\1686_6_speech_true.wav\n",
      "C:\\Users\\azatv\\Jupyter\\JupyterProjects\\ML and PC\\mlpc_dataset_with just_words\\other\\1234_6_speech_true.wav\n",
      "C:\\Users\\azatv\\Jupyter\\JupyterProjects\\ML and PC\\mlpc_dataset_with just_words\\other\\1476_7_speech_true.wav\n",
      "C:\\Users\\azatv\\Jupyter\\JupyterProjects\\ML and PC\\mlpc_dataset_with just_words\\other\\1567_1_speech_true.wav\n",
      "C:\\Users\\azatv\\Jupyter\\JupyterProjects\\ML and PC\\mlpc_dataset_with just_words\\other\\1308_5_speech_true.wav\n",
      "C:\\Users\\azatv\\Jupyter\\JupyterProjects\\ML and PC\\mlpc_dataset_with just_words\\other\\493_13_speech_true.wav\n",
      "C:\\Users\\azatv\\Jupyter\\JupyterProjects\\ML and PC\\mlpc_dataset_with just_words\\other\\1147_14_speech_false.wav\n",
      "C:\\Users\\azatv\\Jupyter\\JupyterProjects\\ML and PC\\mlpc_dataset_with just_words\\other\\196_7_speech_true.wav\n",
      "C:\\Users\\azatv\\Jupyter\\JupyterProjects\\ML and PC\\mlpc_dataset_with just_words\\other\\1550_17_speech_false.wav\n"
     ]
    }
   ],
   "source": [
    "import os\n",
    "import random\n",
    "import librosa\n",
    "import numpy as np\n",
    "import soundfile as sf\n",
    "from pydub import AudioSegment\n",
    "from pydub.exceptions import CouldntDecodeError\n",
    "\n",
    "# Define paths\n",
    "base_path = \"C:\\\\Users\\\\azatv\\\\Jupyter\\\\JupyterProjects\\\\ML and PC\\\\mlpc_dataset_with just_words\"\n",
    "output_path = \"C:\\\\Users\\\\azatv\\\\Jupyter\\\\JupyterProjects\\\\ML and PC\\\\dataset\"\n",
    "os.makedirs(output_path, exist_ok=True)\n",
    "os.makedirs(os.path.join(output_path, 'images'), exist_ok=True)\n",
    "os.makedirs(os.path.join(output_path, 'labels'), exist_ok=True)\n",
    "\n",
    "# Define directories\n",
    "directories = [d for d in os.listdir(base_path) if os.path.isdir(os.path.join(base_path, d))]\n",
    "noise_dir = os.path.join(base_path, \"other\")\n",
    "[\"Alarm\", \"Fernseher\",\"Heizung\", \"Licht\", \"Lüftung\", \"Ofen\", \"Radio\", \"Staubsauger\"]\n",
    "[Alarm,\n",
    "an,\n",
    "aus,\n",
    "Brötchen,\n",
    "Fernseher,\n",
    "Haus,\n",
    "Heizung,\n",
    "kann,\n",
    "Leitung,\n",
    "Licht,\n",
    "Lüftung,\n",
    "nicht,\n",
    "Ofen,\n",
    "offen,\n",
    "other,\n",
    "Radio,\n",
    "Schraube,\n",
    "Spiegel,\n",
    "Staubsauger,\n",
    "warm,\n",
    "wunderbar]\n",
    "\n",
    "\n",
    "# Helper function to load audio files\n",
    "def load_audio(file_path):\n",
    "    try:\n",
    "        audio, sr = librosa.load(file_path, sr=None)\n",
    "        return audio, sr\n",
    "    except Exception as e:\n",
    "        print(f\"Error loading {file_path}: {e}\")\n",
    "        return None, None\n",
    "\n",
    "# Helper function to add noise to audio\n",
    "def add_noise(audio, noise_files, sr):\n",
    "    noise_file = random.choice(noise_files)\n",
    "    print(noise_file)\n",
    "    noise_audio, _ = load_audio(noise_file)\n",
    "    if noise_audio is not None:\n",
    "        noise_audio = librosa.util.fix_length(noise_audio, size=len(audio))\n",
    "        return audio + noise_audio * 0.05  # Adjust noise level\n",
    "    return audio\n",
    "\n",
    "# Helper function to save audio and labels\n",
    "def save_audio_and_labels(audio, sr, label, file_name):\n",
    "    output_audio_path = os.path.join(output_path, 'images', file_name + \".wav\")\n",
    "    output_label_path = os.path.join(output_path, 'labels', file_name + \".txt\")\n",
    "    sf.write(output_audio_path, audio, sr)\n",
    "    with open(output_label_path, 'w') as f:\n",
    "        f.write(label)\n",
    "\n",
    "# Get all noise files\n",
    "noise_files = [os.path.join(noise_dir, str(f).replace('._','')) for f in os.listdir(noise_dir) if f.endswith('.wav')]\n",
    "\n",
    "# Process each word directory\n",
    "for _ in range(10):  # Generate 10 samples\n",
    "    selected_words = random.sample(directories, 3)  # Select 3 random words\n",
    "    combined_audio = np.array([])\n",
    "    labels = []\n",
    "\n",
    "    for word in selected_words:\n",
    "        word_dir = os.path.join(base_path, word)\n",
    "        #print(os.listdir(word_dir))\n",
    "        word_files = [os.path.join(word_dir, str(f).replace('._','')) for f in os.listdir(word_dir) if f.endswith('.wav')]\n",
    "        word_file = random.choice(word_files)\n",
    "        audio, sr = load_audio(word_file)\n",
    "        if audio is None:\n",
    "            continue  # Skip if audio couldn't be loaded\n",
    "        audio = librosa.util.fix_length(audio, size=int(10 * sr))  # Ensure each clip is 10 seconds\n",
    "        combined_audio = np.concatenate((combined_audio, audio))\n",
    "        labels.append(f\"{word} 0.5 0.5 1.0 1.0\")  # Dummy coordinates and class\n",
    "\n",
    "    if len(combined_audio) == 0:\n",
    "        continue  # Skip if no valid audio files were found\n",
    "\n",
    "    # Add random noise\n",
    "    combined_audio = add_noise(combined_audio, noise_files, sr)\n",
    "\n",
    "    # Save combined audio and labels\n",
    "    file_name = f\"sample_{random.randint(1000, 9999)}\"\n",
    "    save_audio_and_labels(combined_audio, sr, \"\\n\".join(labels), file_name)\n"
   ]
  },
  {
   "cell_type": "code",
   "execution_count": 11,
   "metadata": {},
   "outputs": [
    {
     "name": "stdout",
     "output_type": "stream",
     "text": [
      "b'c:\\\\Users\\\\azatv\\\\Jupyter\\\\JupyterProjects\\\\ML and PC'\n"
     ]
    }
   ],
   "source": [
    "import os\n",
    "print(os.getcwdb())"
   ]
  },
  {
   "cell_type": "code",
   "execution_count": 34,
   "metadata": {},
   "outputs": [],
   "source": [
    "\n"
   ]
  },
  {
   "cell_type": "code",
   "execution_count": null,
   "metadata": {},
   "outputs": [],
   "source": []
  }
 ],
 "metadata": {
  "kernelspec": {
   "display_name": "base",
   "language": "python",
   "name": "python3"
  },
  "language_info": {
   "codemirror_mode": {
    "name": "ipython",
    "version": 3
   },
   "file_extension": ".py",
   "mimetype": "text/x-python",
   "name": "python",
   "nbconvert_exporter": "python",
   "pygments_lexer": "ipython3",
   "version": "3.10.9"
  }
 },
 "nbformat": 4,
 "nbformat_minor": 2
}
