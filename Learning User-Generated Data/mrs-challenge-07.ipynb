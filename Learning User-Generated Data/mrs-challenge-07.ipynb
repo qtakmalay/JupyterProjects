{
 "cells": [
  {
   "cell_type": "code",
   "execution_count": 2,
   "metadata": {},
   "outputs": [],
   "source": [
    "import pandas as pd\n",
    "import numpy as np"
   ]
  },
  {
   "cell_type": "code",
   "execution_count": 3,
   "metadata": {},
   "outputs": [],
   "source": [
    "def get_dcg_score(predictions: np.ndarray, test_interaction_matrix: np.ndarray, topK: int = 10) -> float:\n",
    "    \"\"\"\n",
    "    predictions - 2D np.ndarray, predictions of the recommendation algorithm for each user;\n",
    "    test_interaction_matrix - 2D np.ndarray, test interaction matrix for each user;\n",
    "    \n",
    "    returns - float, mean dcg score over all user;\n",
    "    \"\"\"\n",
    "    num_users = predictions.shape[0]\n",
    "    dcgs = np.zeros(num_users)\n",
    "\n",
    "    for user_id in range(num_users):\n",
    "        gains = np.zeros(topK)\n",
    "        \n",
    "        for rank in range(min(topK, predictions.shape[1])):\n",
    "            item_id = predictions[user_id, rank]\n",
    "            relevance = test_interaction_matrix[user_id, item_id]\n",
    "            # 1/log(rank+1)\n",
    "            if relevance == 1:\n",
    "                if rank == 0:\n",
    "                    gains[rank] = 1\n",
    "                else:\n",
    "                    gains[rank] = 1 / np.log2(rank + 1)\n",
    "            \n",
    "        dcgs[user_id] = np.sum(gains)\n",
    "\n",
    "    mean_dcg = np.mean(dcgs)\n",
    "    return mean_dcg"
   ]
  },
  {
   "cell_type": "code",
   "execution_count": 4,
   "metadata": {},
   "outputs": [],
   "source": [
    "predictions = np.array([[0, 1, 2, 3], [3, 2, 1, 0]])\n",
    "test_interaction_matrix = np.array([[1, 0, 0, 0], [0, 0, 0, 1]])\n",
    "\n",
    "dcg_score = get_dcg_score(predictions, test_interaction_matrix, topK=4)\n",
    "\n",
    "assert np.isclose(dcg_score, 1), \"1 expected\""
   ]
  },
  {
   "cell_type": "code",
   "execution_count": null,
   "metadata": {},
   "outputs": [],
   "source": []
  }
 ],
 "metadata": {
  "kernelspec": {
   "display_name": "base",
   "language": "python",
   "name": "python3"
  },
  "language_info": {
   "codemirror_mode": {
    "name": "ipython",
    "version": 3
   },
   "file_extension": ".py",
   "mimetype": "text/x-python",
   "name": "python",
   "nbconvert_exporter": "python",
   "pygments_lexer": "ipython3",
   "version": "3.10.9"
  }
 },
 "nbformat": 4,
 "nbformat_minor": 2
}
