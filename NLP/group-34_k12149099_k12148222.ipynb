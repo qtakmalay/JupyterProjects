{
 "cells": [
  {
   "cell_type": "markdown",
   "metadata": {},
   "source": [
    "Information about your group!\n",
    "\n",
    "| <p style=\"text-align: center;\">First Name</p> | <p style=\"text-align: center;\">Family Name</p> | Matr.-No.   |\n",
    "|-----------------------------------------------|------------------------------------------------|-------------|\n",
    "| <p style=\"text-align: left\">*Daniil*</p>      | <p style=\"text-align: left\">*Krechko*</p>      | *k12149099* |\n",
    "| <p style=\"text-align: left\">*Azat*</p>       | <p style=\"text-align: left\">*Vakhitov*</p>        | *k12148222*     |\n"
   ]
  },
  {
   "cell_type": "markdown",
   "metadata": {},
   "source": [
    "<h2 style=\"text-align: center\">344.105/6/7/12/13 UE: Natural Language Processing (WS2024/25)</h2>\n",
    "<h1 style=\"color:rgb(0,120,170)\">Assignment 1</h1>\n",
    "<h2 style=\"color:rgb(0,120,170)\">Document Classification with Standard Machine Learning Methods</h2>"
   ]
  },
  {
   "cell_type": "markdown",
   "metadata": {},
   "source": [
    "<div style=\"background-color:rgb(224, 243, 255)\">\n",
    "<b>Terms of Use</b><br>\n",
    "This  material is prepared for educational purposes at the Johannes Kepler University (JKU) Linz, and is exclusively provided to the registered students of the mentioned course at JKU. It is strictly forbidden to distribute the current file, the contents of the assignment, and its solution. The use or reproduction of this manuscript is only allowed for educational purposes in non-profit organizations, while in this case, the explicit prior acceptance of the author(s) is required.\n",
    "\n",
    "\n",
    "    \n",
    "</div>"
   ]
  },
  {
   "cell_type": "markdown",
   "metadata": {},
   "source": [
    "<h2>Table of contents</h2>\n",
    "<ol>\n",
    "    <a href=\"#section-general-guidelines\"><li style=\"font-size:large;font-weight:bold\">General Guidelines</li></a>\n",
    "    <a href=\"#section-preprocessing\"><li style=\"font-size:large;font-weight:bold\">Task A: Pre-processing & Feature Extraction (15 points)</li></a>\n",
    "    <a href=\"#section-training\"><li style=\"font-size:large;font-weight:bold\">Task B: Training and Results Analysis (15 points)</li></a>\n",
    "    <a href=\"#section-optional\"><li style=\"font-size:large;font-weight:bold\">Task C: Linear Model Interpretability (2 extra point)</li></a>\n",
    "    \n",
    "</ol>"
   ]
  },
  {
   "cell_type": "markdown",
   "metadata": {},
   "source": [
    "<a name=\"section-general-guidelines\"></a><h2 style=\"color:rgb(0,120,170)\">General Guidelines</h2>"
   ]
  },
  {
   "cell_type": "markdown",
   "metadata": {},
   "source": [
    "<div style=\"background-color:rgb(224, 243, 255)\">\n",
    "\n",
    "### Assignment objective\n",
    "\n",
    "The aim of the assignment is to implement a document (sentence) classification model with (standard) machine learning methods. The assignment in total has **30 points**; it also offers **2 extra points** which can cover any missing point.\n",
    "\n",
    "This Notebook encompasses all aspects of the assignment including the descriptions of tasks as well as your solutions and reports. Feel free to add any required cell for solutions. The cells can contain code, reports, charts, tables, or any other material, required for the assignment. Feel free to provide the solutions in an interactive and visual way! \n",
    "\n",
    "Please discuss any unclear point in the assignment in the provided forum available in MOODLE. It is also recommended to provide answers to your peer's questions. However when submitting a post, keep in mind to avoid providing solutions. Please let the tutor(s) know shall you find any error or unclarity in the assignment.\n",
    "\n",
    "</div>\n"
   ]
  },
  {
   "cell_type": "markdown",
   "metadata": {},
   "source": [
    "<div style=\"background-color:rgb(224, 243, 255)\">\n",
    "\n",
    "### Libraries & Dataset\n",
    "\n",
    "The assignment should be implemented with recent versions of `Python` (>3.7). Any standard Python library can be used, so far that the library is free and can be simply installed using `pip` or `conda`. Examples of potentially useful libraries are `scikit-learn`, `numpy`, `scipy`, `gensim`, `nltk`, `spaCy`, and `AllenNLP`. Use the latest stable version of each library.\n",
    "\n",
    "To conduct the experiments, we use a subset of the `HumSet` dataset [1] (https://blog.thedeep.io/humset/). `HumSet` is created by the DEEP (https://www.thedeep.io) project – an open source platform which aims to facilitate processing of textual data for international humanitarian response organizations. The platform enables the classification of text excerpts, extracted from news and reports into a set of domain specific classes. The provided dataset contains the classes (labels) referring to the humanitarian sectors like agriculture, health, and protection. The dataset contains an overall number of 17,301 data points. \n",
    "\n",
    "Download the dataset from the Moodle page of the course.\n",
    "\n",
    "the provided zip file consists of the following files:\n",
    "- `thedeep.subset.train.txt`: Train set in csv format with three fields: sentence_id, text, and label.\n",
    "- `thedeep.subset.validation.txt`: Validation set in csv format with three fields: sentence_id, text, and label.\n",
    "- `thedeep.subset.test.txt`: Test set in csv format with three fields: sentence_id, text, and label.\n",
    "- `thedeep.subset.labels.txt`: Captions of the labels.\n",
    "- `thedeep.ToU.txt`: Terms of use of the dataset.\n",
    "\n",
    "[1] HumSet: Dataset of Multilingual Information Extraction and Classification for Humanitarian Crises Response\n",
    "*Selim Fekih, Nicolo' Tamagnone, Benjamin Minixhofer, Ranjan Shrestha, Ximena Contla, Ewan Oglethorpe and Navid Rekabsaz.* \n",
    "In Findings of the 2022 Conference on Empirical Methods in Natural Language Processing (Findings of EMNLP), December 2022.\n",
    "\n",
    "</div>\n",
    "\n"
   ]
  },
  {
   "cell_type": "markdown",
   "metadata": {},
   "source": [
    "<div style=\"background-color:rgb(224, 243, 255)\">\n",
    "\n",
    "### Submission\n",
    "\n",
    "Each group should submit the following two files:\n",
    "\n",
    "- One Jupyter Notebook file (`.ipynb`), containing all the code, results, visualizations, etc. **In the submitted Notebook, all the results and visualizations should already be present, and can be observed simply by loading the Notebook in a browser.** The Notebook must be self-contained, meaning that (if necessary) one can run all the cells from top to bottom without any error. Do not forget to put in your names and student numbers in the first cell of the Notebook. \n",
    "- The HTML file (`.html`) achieved from exporting the Jupyter Notebook to HTML (Download As HTML).\n",
    "\n",
    "You do not need to include the data files in the submission.\n",
    "\n",
    "\n",
    "</div>"
   ]
  },
  {
   "cell_type": "markdown",
   "metadata": {},
   "source": [
    "<a name=\"section-preprocessing\"></a><h2 style=\"color:rgb(0,120,170)\">Task A: Pre-processing & Feature Extraction (15 points)</h2>"
   ]
  },
  {
   "cell_type": "markdown",
   "metadata": {},
   "source": [
    "<div style=\"background-color:rgb(224, 243, 255)\">\n",
    "    \n",
    "**Preprocessing (5 points).** Load the train, validation, and test sets. Study the text and according to your judgements, apply at least <ins>two text cleaning/preprocessing methods</ins>. Punctuations marks, numbers, dates, case-sensitivity are some examples of the elements which can be potentially considered for cleaning/preprocessing. Tokenize the result text with a tokenizer of your choice. Report your approaches to text cleaning and tokenization and the reasons of your choices. Provide some examples, showing the effects of the applied approaches on the text.\n",
    "\n",
    "**Creating dictionary (5 points).** Create a dictionary of vocabularies following the guidelines discussed in the lecture. Next, reduce the size of dictionary using a method of your choice, for instance by considering a cut-off threshold on the tokens with low frequencies. When removing tokens from the dictionary, consider a strategy for handling Out-Of-Vocabulary (OOV) tokens, namely the ones in the train/validation/test datasets that that are not anymore in the dictionary. Some possible strategies could be to remove OOVs completely from the texts, or to replace them with a special token like <OOV\\>. Explain your approaches and report the statistics of the dictionary before and after the reduction.\n",
    "\n",
    "**Creating sentence vectors (5 points).** Use the dictionary to prepare <ins>two variations of document representation vectors</ins>, separately for train, validation, and test sets. Both variations follow a Bag-of-Words approach with a different token weighting method. One applied weighting must be `tf-idf` and the other one can be any other method discussed in the lecture such as `tc`, `tf`, `BM25`. These term weighting methods should be implemented; using a library to readily calculate the term weightings is not allowed. Report the applied approaches. Calculate and report the sparsity rate of the vectors of train, validation, and test sets, namely what percentages of the vectors in each set are filled with zeros.\n",
    "\n",
    "</div>"
   ]
  },
  {
   "cell_type": "code",
   "execution_count": 69,
   "metadata": {
    "ExecuteTime": {
     "end_time": "2024-11-08T16:18:19.426254Z",
     "start_time": "2024-11-08T16:18:17.408019Z"
    }
   },
   "outputs": [
    {
     "name": "stdout",
     "output_type": "stream",
     "text": [
      "                                                                                                                                                                                                                                                                                                                                                                                                                                                                                                                                                                                                                                                                                                                                                                                                                                                                                                                                                                                                                                                                                                                                      0\n",
      "0                                                                                                                                                                                                                                                                                                                                                                                                                                                                                                                                                                                                                                                                                                                                                                                                                                                                                                                                                             In addition to the immediate life-saving interventions, UNICEF is taking action to protect <num> children who have arrived at the camps in Angola without their families.\n",
      "1                                                                                                                                                                                                                                                                                                                                There are approximately <num> people classified in this phase, of which <num> are already in Emergency (IPC Phase <num>) but do not meet the threshold of more than <num> of the population being in this Phase, for the areas to be classified in Phase <num>. The counties classified in Crisis (IPC Phase <num>) are Turkana, Marsabit, West Pokot, Samburu, Isiolo and Lamu, as well as parts of Mandera, Wajir, Garissa, Baringo, Laikipia, Kilifi and Kwale. Households in this category are marginally able to meet their minimum food needs but only by more rapidly depleting their assets and thus undermining their food consumption. In the absence of adequate cross-sectoral interventions, more areas and households in these counties are expected to fall into this phase by <date> .\n",
      "2                                                                                                                                                                                                                                                                                                                                                                                                                                                                                                                                                                                While aid imports have held up recently, commercial food and fuel imports remain well short of pre-blockade averages. I am particularly concerned about the recent decline of commercial food imports through the Red Sea ports. Pressure on the currency and a liquidity crisis in the Yemeni banking system make imports less viable for traders. Confidence among commercial shipping companies has eroded due to delays, including as a result of inspections undertaken by the Saudiled Coalition after these vessels have been cleared by UNVIM.\n",
      "3                                                                                                                                                                                                                                                                                                                                                                                                                                                                                                                                                                                                     Heavy rainfalls as well as onrush of water from the upstream Meghalaya hills in India have led to the inundation of a vast areas of croplands of Haors and low-lying areas of the northeast. Flood started on <date> affecting six districts (Sylhet, Moulavibazar, Sunamganj, Habiganj, Netrokona and Kishoreganj) in the north east region. Rising water overflow and breched embankment in many places and inundated vast areas of croplands. It destroyed nearly-ready-for-harvesting boro rice in about <num> hectors areas.\n",
      "4   Based on field reports <num> , the main production challenges affecting farmers during this crop growing season included a shortage of insecticides and fungicides, high costs of irrigation (especially in <date> ), lack of access to fertilizers due to high prices and the difficulty of securing quality crop seeds. Due to drastic decline in local production, fertilizers currently available in the country are mostly imported. The price of <num> bags of fertilizers such as urea and phosphorous averaged SYP <num> (USD16) and SYP <num> (USD10) respectively. The cost of irrigation varied by governorate and crops. For example, the cost of irrigation per hectare of wheat ranged between USD150 and USD350 in different governorates, depending on the cost of diesel and the depth of groundwater abstraction. Field reports (<date> ) indicated pest (voles, sunn pest eurygaster integriceps and leaf hoppers) outbreaks in Idleb, Hama and Aleppo. While pest outbreaks were under control in most locations, damage from leafhoppers is likely to cause significant reduction in yields in parts of Idleb.\n",
      "..                                                                                                                                                                                                                                                                                                                                                                                                                                                                                                                                                                                                                                                                                                                                                                                                                                                                                                                                                                                                                                                                                                                                  ...\n",
      "25                                                                                                                                                                                                                                                                                                                                                                                                                                                                                                                                                                                                                                                                                                                                                                           Since the incidence of malaria in Burundi has been increasing. However, the epidemic threshold was reached in <num>. The outbreak was confirmed by a multidisciplinary investigation conducted in <date> which documented an increase in malaria incidence above the expected threshold. The Ministry of Health formally declared the outbreak on <date> .\n",
      "26                                                                                                                                                                                                                                                                                                                                                                                                Access to Eastern Ghouta improved slightly in <date> . Commercial movement into the area resumed, after no commercial deliveries reportedly took place in <date> or <date> . A number of humanitarian aid deliveries took place, and aid that entered in <date> was distributed. However, these deliveries were insufficient to counter the unprecedented price increases in Eastern Ghouta. In <date> , a standard food basket2 was reportedly <num>% more expensive than in nearby areas not considered besieged or hard-to-reach3 . Basic commodities such as salt and sugar were respectively <num>% and <num>% more expensive than in nearby areas. Deaths due to malnutrition and a lack of food also continued to be reported.\n",
      "27                                                                                                                                                                                                                                                                                                                                                                                                                                                                                                                                                                                                                                                                                                                                                                                                                                                                                                                                                                                                                           <num> Estimated number of UAC currently in Greece based on analysis from referrals to EKKA (as of <date> )\n",
      "28                                                                                                                                                                                                                                                                                                                                                                                                                                                                                                                                                                                                                                                                                                                                                                                                                                                         Puntland experienced three consecutive seasons of poor rainfall which resulted in poor crop and livestock production. More than <num> of land is used by pastoralists and total loss of livestock, destitution and displacement has been reported in some parts of the zone.\n",
      "29                                                                                                                                                                                                                                                                                                                                                                                                                                                                                                                                                                                                                                                                                                                                                                                                          Access to latrines: in less than <num>% of all locations it was reported that almost nobody had access to latrines, while in <num>% of locations only some people did. In <num>% of locations, KIs reported that at least half of the population had access to latrines, in <num>% most people and <num>% nearly everybody.\n",
      "\n",
      "[30 rows x 1 columns]\n"
     ]
    }
   ],
   "source": [
    "#Load data\n",
    "import pandas as pd\n",
    "import re\n",
    "train = pd.read_csv(\"nlp2024_25_data/nlp2023_24_data/thedeep.subset.train.txt\", sep=\"\\t\", header=None, quoting=3)\n",
    "validation = pd.read_csv(\"nlp2024_25_data/nlp2023_24_data/thedeep.subset.validation.txt\", sep=\"\\t\", header=None, quoting=3)\n",
    "test = pd.read_csv(\"nlp2024_25_data/nlp2023_24_data/thedeep.subset.test.txt\", sep=\"\\t\", header=None, quoting=3)\n",
    "\n",
    "#Punctuation Cleaning \n",
    "pattern = r'(\\,\\d+|\\d+\\,)'\n",
    "train[0] = train[0].apply(lambda x: re.sub(pattern, '', x))\n",
    "pattern_2 = r'^\"|\"$'\n",
    "train[0] = train[0].apply(lambda x: re.sub(pattern_2, '', x))\n",
    "pattern_3 = r'\\s+'\n",
    "train[0] = train[0].apply(lambda x: re.sub(pattern_3, ' ', x))\n",
    "#Num and Date placeholders (if numbers and dates are not crucual for classification???)\n",
    "written_date_pattern = r'\\b(?:\\d{1,2}(?:st|nd|rd|th)?\\s*)?(?:January|February|March|April|May|June|July|August|September|October|November|December)\\s*(?:\\d{1,2}(?:st|nd|rd|th)?)?\\s*(?:\\d{4})?\\b'\n",
    "train[0] = train[0].apply(lambda x: re.sub(written_date_pattern, '<date> ', x))\n",
    "percent_pattern = r'\\b\\d+(?:\\s*(?:percent|per\\s*cent|%))\\b'\n",
    "number_pattern = r'\\b(?:\\d{1,3}(?:[\\.,\\s]?\\d{3})*(?:[\\.,]?\\d+)?(?:\\s*(?:hundred|thousand|million|billion|trillion))?|\\d+(?:\\.\\d+)?(?:\\s*(?:kg|g|lbs|cm|m|km|ft|in))?)\\b'\n",
    "train[0] = train[0].apply(lambda x: re.sub(percent_pattern, '<num> ' , x))\n",
    "train[0] = train[0].apply(lambda x: re.sub(number_pattern, '<num>' , x))\n",
    "train[0] = train[0].apply(lambda x: re.sub(pattern_3, ' ', x))\n",
    "#print first rows of training set\n",
    "train.head()\n",
    "print(train.head(30))"
   ]
  },
  {
   "cell_type": "code",
   "execution_count": null,
   "metadata": {},
   "outputs": [],
   "source": []
  },
  {
   "cell_type": "markdown",
   "metadata": {},
   "source": [
    "<a name=\"section-training\"></a><h2 style=\"color:rgb(0,120,170)\">Task B: Training and Results Analysis (15 points)</h2>"
   ]
  },
  {
   "cell_type": "markdown",
   "metadata": {},
   "source": [
    "<div style=\"background-color:rgb(224, 243, 255)\">\n",
    "\n",
    "To evaluate the models, use <ins>accuracy</ins> as the metric. \n",
    "\n",
    "**Dummy baseline (2 points).** Create one dummy baseline classifier that predicts the validation/test labels only based on the distribution of the labels in the training set (without any use of the feature vectors). This is a weak baseline and acts as a sanity check for the actual classifiers.\n",
    "\n",
    "**Training and tuning classifiers (5 points).** Select at least <ins>two classification algorithms</ins> from standard machine learning classifiers. Using each classification algorithm, train a machine learning model on each of the variations of feature vectors. This should result in <ins>four experiment sets</ins> (2 variations of feature vectors × 2 classification algorithms). The ML model in each of the experiments possibly have several involving hyper-parameters. For each experiment, select <ins>one of the hyper-parameters and tune its value</ins>. The tuning process is done by first assigning at least <ins>three values</ins> to the hyper-parameter, then training separate models based on each value, and finally using the evaluation results on the validation set to select the best-performing model. Report the studied hyper-parameters, the evaluation results of each on validation set, and finally the selected value of the hyper-parameter. \n",
    "\n",
    "**Evaluation, reporting results, and discussion (3 point).** Evaluate the selected models of the four experiments on the test set. Report the results of <ins>the four experiments on both validation and test sets (side by side) in one table as well as in one plot</ins>. Compare different experiments and models. Are the test results lower(/higher) than the validation results? If it is the case, where can it be rooted from? Among all these models and variations, what are the most important factors improving the classification results?\n",
    "\n",
    "**Confusion matrix (2 point).** Select the best performing model among the experiments and use it to create a confusion matrix. The matrix shows the predicted versus true results per each label. Explain your observations on the matrix. Across which classes do you observe significant confusions?\n",
    "\n",
    "**Features visualization (3 point).** Continue with the best performing model and now take its feature vectors for the *dataitems in the test set*. Project these feature vectors to a 2-dimensional space using the TSNE method.  Using these 2-dimensional vectors, create two plots where the dataitems are shown as points (small circles) on the plots. The plots look exactly the same but only differ in the coloring of the data points. The first plot colors every dataitem with its *true label*, while the second one colors each according to its *predicted label by the model*. Keep in mind to assign the same colors to the classes of the plots, so that the plots are visually comparable. Put these two plots side by side, observe the differences, and compare the results. Report your observations.\n",
    "\n",
    "\n",
    "</div>"
   ]
  },
  {
   "cell_type": "code",
   "execution_count": null,
   "metadata": {},
   "outputs": [],
   "source": []
  },
  {
   "cell_type": "code",
   "execution_count": null,
   "metadata": {},
   "outputs": [],
   "source": []
  },
  {
   "cell_type": "markdown",
   "metadata": {},
   "source": [
    "<a name=\"section-optional\"></a><h2 style=\"color:rgb(0,120,170)\">Task C: Linear Model Interpretability (2 extra points)</h2>"
   ]
  },
  {
   "cell_type": "markdown",
   "metadata": {},
   "source": [
    "<div style=\"background-color:rgb(224, 243, 255)\">\n",
    "Train a logistic regression model on one of the document representations. Take the coefficient weights, learned by the model, on each dimension (which here corresponds to each token in the dictionary). Separately for each class, study what are the tokens that have the highest contributions/importance for the predictions of the model.\n",
    "</div>"
   ]
  },
  {
   "cell_type": "code",
   "execution_count": null,
   "metadata": {},
   "outputs": [],
   "source": []
  },
  {
   "cell_type": "code",
   "execution_count": null,
   "metadata": {},
   "outputs": [],
   "source": []
  }
 ],
 "metadata": {
  "kernelspec": {
   "display_name": "Python 3 (ipykernel)",
   "language": "python",
   "name": "python3"
  },
  "language_info": {
   "codemirror_mode": {
    "name": "ipython",
    "version": 3
   },
   "file_extension": ".py",
   "mimetype": "text/x-python",
   "name": "python",
   "nbconvert_exporter": "python",
   "pygments_lexer": "ipython3",
   "version": "3.9.18"
  }
 },
 "nbformat": 4,
 "nbformat_minor": 4
}
