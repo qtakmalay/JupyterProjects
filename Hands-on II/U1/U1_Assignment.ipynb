{
 "cells": [
  {
   "cell_type": "markdown",
   "id": "a4b5aa9c-0574-49a9-8531-b1bbd355d2c0",
   "metadata": {},
   "source": [
    "Name | Matr.Nr. | Due Date\n",
    ":--- | ---: | ---:\n",
    "Firstname Lastname | 01234567 | 16.03.2023, 08:00 am"
   ]
  },
  {
   "cell_type": "markdown",
   "id": "9a25a8de-dc8d-45b9-be96-9dbfbb2ace48",
   "metadata": {},
   "source": [
    "<h1 style=\"color:rgb(0,120,170)\">Hands-on AI II</h1>\n",
    "<h2 style=\"color:rgb(0,120,170)\">Unit 1 &ndash; Recap Hands-on AI I (Assignment)</h2>"
   ]
  },
  {
   "cell_type": "markdown",
   "id": "western-owner",
   "metadata": {},
   "source": [
    "<b>Authors:</b> B. Schäfl, S. Lehner, J. Brandstetter, A. Schörgenhumer<br>\n",
    "<b>Date:</b> 07-03-2023\n",
    "\n",
    "This file is part of the \"Hands-on AI II\" lecture material. The following copyright statement applies to all code within this file.\n",
    "\n",
    "<b>Copyright statement:</b><br>\n",
    "This material, no matter whether in printed or electronic form, may be used for personal and non-commercial educational use only. Any reproduction of this material, no matter whether as a whole or in parts, no matter whether in printed or in electronic form, requires explicit prior acceptance of the authors."
   ]
  },
  {
   "cell_type": "markdown",
   "id": "2989faf2-4194-4583-af96-717ff48f32eb",
   "metadata": {},
   "source": [
    "<h3 style=\"color:rgb(0,120,170)\">How to use this notebook</h3>\n",
    "\n",
    "This notebook is designed to run from start to finish. There are different tasks (displayed in <span style=\"color:rgb(248,138,36)\">orange boxes</span>) which require your contribution (in form of code, plain text, ...). Most/All of the supplied functions are imported from the file <code>u1_utils.py</code> which can be seen and treated as a black box. However, for further understanding, you can look at the implementations of the helper functions. In order to run this notebook, the packages which are imported at the beginning of <code>u1_utils.py</code> need to be installed."
   ]
  },
  {
   "cell_type": "markdown",
   "id": "6135c2ed-b2bd-4864-9ec2-74af7274d1a1",
   "metadata": {},
   "source": [
    "<div class=\"alert alert-warning\">\n",
    "    <b>Important:</b> Set the random seed with <code>u1.set_seed(17)</code> to enable reproducible results in all tasks that incorporate randomness (e.g., t-SNE, splitting data intro train and test sets, initializing weights of a neural network, running the model optimization with random batches, etc.). You must use <code>17</code> as seed.\n",
    "</div>"
   ]
  },
  {
   "cell_type": "code",
   "execution_count": null,
   "id": "willing-proportion",
   "metadata": {
    "tags": []
   },
   "outputs": [],
   "source": [
    "# Import pre-defined utilities specific to this notebook.\n",
    "import u1_utils as u1\n",
    "\n",
    "# Import additional utilities needed in this notebook.\n",
    "import matplotlib.pyplot as plt\n",
    "import numpy as np\n",
    "import pandas as pd\n",
    "import seaborn as sns\n",
    "import torch\n",
    "\n",
    "from pathlib import Path\n",
    "from PIL import Image\n",
    "from scipy import signal\n",
    "from sklearn.neighbors import KNeighborsClassifier\n",
    "\n",
    "# Set default plotting style.\n",
    "sns.set()\n",
    "\n",
    "# Setup Jupyter notebook (warning: this may affect all Jupyter notebooks running on the same Jupyter server).\n",
    "u1.setup_jupyter()\n",
    "\n",
    "# Check minimum versions.\n",
    "u1.check_module_versions()"
   ]
  },
  {
   "cell_type": "markdown",
   "id": "available-village",
   "metadata": {},
   "source": [
    "<h2>1. Tabular data</h2>"
   ]
  },
  {
   "cell_type": "markdown",
   "id": "infectious-upgrade",
   "metadata": {},
   "source": [
    "<p>In this exercise you'll be working with another famous data set, the <i>breast cancer</i> data set. Features are computed from a digitized image of a fine needle aspirate (FNA) of a breast mass. They describe characteristics of the cell nuclei present in the image [<a href=\"https://archive.ics.uci.edu/ml/datasets/Breast+Cancer+Wisconsin+%28Diagnostic%29\">1</a>]. Publication:\n",
    "\n",
    "<center><cite>W.N. Street, W.H. Wolberg and O.L. Mangasarian. Nuclear feature extraction for breast tumor diagnosis. IS&T/SPIE 1993 International Symposium on Electronic Imaging: Science and Technology, volume 1905, pages 861-870, San Jose, CA, 1993.</cite></center>"
   ]
  },
  {
   "cell_type": "markdown",
   "id": "sustainable-input",
   "metadata": {},
   "source": [
    "<div class=\"alert alert-warning\">\n",
    "    <b>Exercise 1.1. [3 Points]</b>\n",
    "    <ul>\n",
    "        <li>Load the <i>breast cancer</i> data set using the appropriate function as supplied by us.</li>\n",
    "        <li>Split the data set into the feature vector matrix and the label vector.</li>\n",
    "        <li>Visualize the data set in tabular form.</li>\n",
    "    </ul>\n",
    "</div>"
   ]
  },
  {
   "cell_type": "code",
   "execution_count": null,
   "id": "heated-october",
   "metadata": {
    "tags": []
   },
   "outputs": [],
   "source": [
    "# your code goes here"
   ]
  },
  {
   "cell_type": "markdown",
   "id": "3165b33d-6008-491a-b5c2-3abfd1ae8b86",
   "metadata": {},
   "source": [
    "<div class=\"alert alert-warning\">\n",
    "    <b>Exercise 1.2. [3 Points]</b>\n",
    "    <ul>\n",
    "        <li>How many samples does the data set contain?</li>\n",
    "        <li>How many features does the data set consist of (not counting the class label column <i>class</i>)?</li>\n",
    "        <li>How many different classes are there?</li>\n",
    "    </ul>\n",
    "</div>"
   ]
  },
  {
   "cell_type": "markdown",
   "id": "d6d355b9-c414-4046-b0dc-0e4a9d6f0987",
   "metadata": {},
   "source": [
    "your answer goes here"
   ]
  },
  {
   "cell_type": "markdown",
   "id": "fundamental-empire",
   "metadata": {},
   "source": [
    "<div class=\"alert alert-warning\">\n",
    "    <b>Exercise 1.3. [3 Points]</b>\n",
    "    <ul>\n",
    "        <li>Compute a pairplot of the data set with respect to all features that contain the <i>mean</i> value.</li>\n",
    "    </ul>\n",
    "</div>"
   ]
  },
  {
   "cell_type": "code",
   "execution_count": null,
   "id": "french-praise",
   "metadata": {
    "tags": []
   },
   "outputs": [],
   "source": [
    "# your code goes here"
   ]
  },
  {
   "cell_type": "markdown",
   "id": "acd36638-b8ed-47ec-bd38-5ebc7d216d83",
   "metadata": {},
   "source": [
    "<div class=\"alert alert-warning\">\n",
    "    <b>Exercise 1.4. [2 Points]</b>\n",
    "    <ul>\n",
    "        <li>Name one feature which might indicate linear separability of the classes.</li>\n",
    "    </ul>\n",
    "</div>"
   ]
  },
  {
   "cell_type": "markdown",
   "id": "5715c987-d7cc-450e-b375-34b968005222",
   "metadata": {},
   "source": [
    "your answer goes here"
   ]
  },
  {
   "cell_type": "markdown",
   "id": "allied-spouse",
   "metadata": {},
   "source": [
    "<div class=\"alert alert-warning\">\n",
    "    <b>Exercise 1.5. [3 Points]</b>\n",
    "    <ul>\n",
    "        <li>Reduce the dimensionality of the data set using <i>PCA</i> with 2 components and visualize the downprojection.</li>\n",
    "    </ul>\n",
    "</div>"
   ]
  },
  {
   "cell_type": "code",
   "execution_count": null,
   "id": "related-proportion",
   "metadata": {
    "tags": []
   },
   "outputs": [],
   "source": [
    "# your code goes here"
   ]
  },
  {
   "cell_type": "markdown",
   "id": "4c2ef16f-6d6b-4607-9fa3-67138b994f9f",
   "metadata": {},
   "source": [
    "<div class=\"alert alert-warning\">\n",
    "    <b>Exercise 1.6. [3 Points]</b>\n",
    "    <ul>\n",
    "        <li>Apply <i>$k$-means</i> on the original data set and plot the resulting clusters (the plotting must be done using the PCA-downprojected data).</li>\n",
    "    </ul>\n",
    "</div>"
   ]
  },
  {
   "cell_type": "code",
   "execution_count": null,
   "id": "acquired-component",
   "metadata": {
    "tags": []
   },
   "outputs": [],
   "source": [
    "# your code goes here"
   ]
  },
  {
   "cell_type": "markdown",
   "id": "86412df3-dde8-40cd-ac89-04f1eadff959",
   "metadata": {},
   "source": [
    "<div class=\"alert alert-warning\">\n",
    "    <b>Exercise 1.7. [3 Points]</b>\n",
    "    <ul>\n",
    "        <li>Apply <i>$k$-means</i> on the PCA-downprojected data set and plot the resulting clusters.</li>\n",
    "    </ul>\n",
    "</div>"
   ]
  },
  {
   "cell_type": "code",
   "execution_count": null,
   "id": "exciting-processor",
   "metadata": {
    "tags": []
   },
   "outputs": [],
   "source": [
    "# your code goes here"
   ]
  },
  {
   "cell_type": "markdown",
   "id": "7e148891-9235-4f30-a79e-08e321ff9c0e",
   "metadata": {},
   "source": [
    "<div class=\"alert alert-warning\">\n",
    "    <b>Exercise 1.8. [3 Points]</b>\n",
    "    <ul>\n",
    "        <li>Reduce the dimensionality of the data set using <i>t-SNE</i> with 2 components and visualize the downprojection.</li>\n",
    "        <li>Choose a fitting perplexity.</li>\n",
    "    </ul>\n",
    "</div>"
   ]
  },
  {
   "cell_type": "code",
   "execution_count": null,
   "id": "enabling-chosen",
   "metadata": {
    "tags": []
   },
   "outputs": [],
   "source": [
    "# your code goes here"
   ]
  },
  {
   "cell_type": "markdown",
   "id": "83aa8a95-5c47-42b5-8bac-c09f7ab29e4c",
   "metadata": {},
   "source": [
    "<div class=\"alert alert-warning\">\n",
    "    <b>Exercise 1.9. [3 Points]</b>\n",
    "    <ul>\n",
    "        <li>Apply <i>$k$-means</i> on the original data set and plot the resulting clusters (the plotting must be done using the t-SNE-downprojected data).</li>\n",
    "    </ul>\n",
    "</div>"
   ]
  },
  {
   "cell_type": "code",
   "execution_count": null,
   "id": "celtic-atlanta",
   "metadata": {
    "tags": []
   },
   "outputs": [],
   "source": [
    "# your code goes here"
   ]
  },
  {
   "cell_type": "markdown",
   "id": "625e62f5-af96-4b6d-abba-096758221bcd",
   "metadata": {},
   "source": [
    "<div class=\"alert alert-warning\">\n",
    "    <b>Exercise 1.10. [3 Points]</b>\n",
    "    <ul>\n",
    "        <li>Apply <i>$k$-means</i> on the t-SNE-downprojected data set and plot the resulting clusters.</li>\n",
    "    </ul>\n",
    "</div>"
   ]
  },
  {
   "cell_type": "code",
   "execution_count": null,
   "id": "pharmaceutical-consumption",
   "metadata": {
    "tags": []
   },
   "outputs": [],
   "source": [
    "# your code goes here"
   ]
  },
  {
   "cell_type": "markdown",
   "id": "a83482d3-219a-41cd-aa39-9ee6abca1ad8",
   "metadata": {},
   "source": [
    "<div class=\"alert alert-warning\">\n",
    "    <b>Exercise 1.11. [2 Points]</b>\n",
    "    <ul>\n",
    "        <li>Compare and interpret the results.</li>\n",
    "    </ul>\n",
    "</div>"
   ]
  },
  {
   "cell_type": "markdown",
   "id": "1e3f50b4-14b6-4ac5-8e54-0390d5bed3ba",
   "metadata": {},
   "source": [
    "your answer goes here"
   ]
  },
  {
   "cell_type": "markdown",
   "id": "dying-advisory",
   "metadata": {},
   "source": [
    "<h2>2. Sequence data</h2>\n",
    "<p>In this exercise you'll be working with <i>electricity demand</i> data as collected from the <i>Australian New South Wales Electricity Market</i>. It was first published/described by:</p>\n",
    "\n",
    "<p><center><cite>M. Harries. Splice-2 comparative evaluation: Electricity pricing. Technical report, The University of South Wales, 1999. </cite></center></p>\n",
    "\n",
    "Currently, it is maintained by the <a href=\"https://www.openml.org/d/151\">OpenML</a> project:\n",
    "\n",
    "<center><cite>Joaquin Vanschoren, Jan N. van Rijn, Bernd Bischl, and Luis Torgo. OpenML: networked science in machine learning. SIGKDD Explorations 15(2), pp 49-60, 2013.</cite></center></p>\n",
    "<center><cite>Matthias Feurer, Jan N. van Rijn, Arlind Kadra, Pieter Gijsbers, Neeratyoy Mallik, Sahithya Ravi, Andreas Mueller, Joaquin Vanschoren, Frank Hutter. OpenML-Python: an extensible Python API for OpenML. arXiv:1911.02490 [cs.LG], 2019</cite></center></p>"
   ]
  },
  {
   "cell_type": "markdown",
   "id": "detailed-shareware",
   "metadata": {},
   "source": [
    "<div class=\"alert alert-warning\">\n",
    "    <b>Exercise 2.1. [2 Points]</b>\n",
    "    <ul>\n",
    "        <li>Load the <i>electricty</i> data set using the appropriate function as supplied by us.</li>\n",
    "        <li>Visualize the electricity data set in tabular form.</li>\n",
    "    </ul>\n",
    "</div>"
   ]
  },
  {
   "cell_type": "code",
   "execution_count": null,
   "id": "f3b3263e-0fd3-486b-b1c6-969680099ae3",
   "metadata": {
    "tags": []
   },
   "outputs": [],
   "source": [
    "# your code goes here"
   ]
  },
  {
   "cell_type": "markdown",
   "id": "992bf6fc-73c9-4d11-8b89-669c52986d28",
   "metadata": {},
   "source": [
    "<div class=\"alert alert-warning\">\n",
    "    <b>Exercise 2.2. [2 Points]</b>\n",
    "    <ul>\n",
    "        <li>How many samples does the data set contain?</li>\n",
    "        <li>How many features does the data set consist of (not counting the class label column <i>demand</i>)?</li>\n",
    "    </ul>\n",
    "</div>"
   ]
  },
  {
   "cell_type": "markdown",
   "id": "92c0409f-59bd-46a8-b8b0-397028eb6732",
   "metadata": {},
   "source": [
    "your answer goes here"
   ]
  },
  {
   "cell_type": "markdown",
   "id": "sticky-arena",
   "metadata": {},
   "source": [
    "<div class=\"alert alert-warning\">\n",
    "    <b>Exercise 2.3. [5 Points]</b>\n",
    "    <ul>\n",
    "        <li>Visualize the electricity data set using <i>lineplots</i> with <i>period</i> as the x-axis, once <i>vicdemand</i> and once <i>vicprice</i> as the y-axis, colored by the feature <i>day</i>.</li>\n",
    "        <li>Do you observe any correlations between both plots?</li>\n",
    "    </ul>\n",
    "</div>"
   ]
  },
  {
   "cell_type": "code",
   "execution_count": null,
   "id": "written-demographic",
   "metadata": {
    "tags": []
   },
   "outputs": [],
   "source": [
    "# your code goes here"
   ]
  },
  {
   "cell_type": "markdown",
   "id": "6375b5e0-15c0-4b67-86f3-2371b049dbb7",
   "metadata": {},
   "source": [
    "<div class=\"alert alert-warning\">\n",
    "    <b>Exercise 2.4. [2 Points]</b>\n",
    "    <ul>\n",
    "        <li>Do you observe any correlations between both plots?</li>\n",
    "    </ul>\n",
    "</div>"
   ]
  },
  {
   "cell_type": "markdown",
   "id": "500447e3-4cc9-4b61-99fb-3ec19cfcde0d",
   "metadata": {},
   "source": [
    "your answer goes here"
   ]
  },
  {
   "cell_type": "markdown",
   "id": "massive-transsexual",
   "metadata": {},
   "source": [
    "<div class=\"alert alert-warning\">\n",
    "    <b>Exercise 2.5. [5 Points]</b>\n",
    "    <ul>\n",
    "        <li>Compute the average electricity demand <i>per day</i> for <i>NSW</i> and <i>VIC</i>, as well as the average electricity transfer. Hint: have a look at the <a href=\"https://pandas.pydata.org/docs/user_guide/groupby.html#splitting-an-object-into-groups\">pandas documentation</a> to group by <i>day</i>.</li>\n",
    "        <li>Visualize the average electricity demand for <i>NSW</i> and <i>VIC</i>, as well as the average electricity transfer (the <i>day</i> should be on the x-axis).</li>\n",
    "    </ul>\n",
    "</div>"
   ]
  },
  {
   "cell_type": "code",
   "execution_count": null,
   "id": "2b098f87-c3ac-43ed-961d-160850b98046",
   "metadata": {
    "tags": []
   },
   "outputs": [],
   "source": [
    "# your code goes here"
   ]
  },
  {
   "cell_type": "markdown",
   "id": "c01c9926-df91-4693-be51-e1b130fa8810",
   "metadata": {},
   "source": [
    "<div class=\"alert alert-warning\">\n",
    "    <b>Exercise 2.6. [2 Points]</b>\n",
    "    <ul>\n",
    "        <li>Does the above plot make sense?</li>\n",
    "    </ul>\n",
    "</div>"
   ]
  },
  {
   "cell_type": "markdown",
   "id": "ea3998c4-d053-4f47-9453-757991af04cf",
   "metadata": {},
   "source": [
    "your answer goes here"
   ]
  },
  {
   "cell_type": "markdown",
   "id": "leading-bidder",
   "metadata": {},
   "source": [
    "<h2>3. Image data</h2>"
   ]
  },
  {
   "cell_type": "markdown",
   "id": "confidential-fever",
   "metadata": {},
   "source": [
    "<p>In this exercice you'll be working with a data set composed of various <i>images</i> of fashion items (e.g. shoes or shirts). The data set distinguishes <i>ten</i> different classes, one for each type of fashion item. For curious minds, more information regarding this data set can be found at:\n",
    "\n",
    "<center><cite>Fashion-MNIST: a Novel Image Dataset for Benchmarking Machine Learning Algorithms. Han Xiao, Kashif Rasul, Roland Vollgraf. arXiv:1708.07747</cite></center>"
   ]
  },
  {
   "cell_type": "markdown",
   "id": "technological-issue",
   "metadata": {},
   "source": [
    "<div class=\"alert alert-warning\">\n",
    "    <b>Exercise 3.1. [2 Points]</b>\n",
    "    <ul>\n",
    "        <li>Load the <i>Fashion-MNIST</i> data set using the appropriate function as supplied by us.</li>\n",
    "        <li>Visualize the Fashion-MNIST data set in tabular form.</li>\n",
    "    </ul>\n",
    "</div>"
   ]
  },
  {
   "cell_type": "code",
   "execution_count": null,
   "id": "third-nirvana",
   "metadata": {
    "tags": []
   },
   "outputs": [],
   "source": [
    "# your code goes here"
   ]
  },
  {
   "cell_type": "markdown",
   "id": "5db43d4c-de53-48f1-8399-aa388073330e",
   "metadata": {},
   "source": [
    "<div class=\"alert alert-warning\">\n",
    "    <b>Exercise 3.2. [10 Points]</b>\n",
    "    <ul>\n",
    "        <li>Define the following two $3 \\times 3$ filters (shown in the formulae below) and apply them on 12 random images $A$ from the above data set (with $*$ as the convolution and $\\sigma{}$ as the sigmoid operation) to produce the following 4 outputs $G_x, G'_x, G_y, G'_y$:</li>\n",
    "    </ul>\n",
    "    <p>\n",
    "        \\begin{equation}G_x = \\left(\n",
    "            \\begin{array}{rrr}\n",
    "                -2 & 0 & 2 \\\\\n",
    "                -2 & 0 & 2 \\\\\n",
    "                -2 & 0 & 2\n",
    "            \\end{array}\\right) * A\n",
    "            \\qquad\n",
    "            G'_x = \\sigma (G_x)\n",
    "        \\end{equation}\n",
    "    </p>\n",
    "    <p>\n",
    "        \\begin{equation}G_y = \\left(\n",
    "            \\begin{array}{rrr}\n",
    "                -2 & -2 & -2 \\\\\n",
    "                 0 &  0 &  0 \\\\\n",
    "                 2 &  2 &  2\n",
    "            \\end{array}\\right) * A\n",
    "            \\qquad\n",
    "            G'_y = \\sigma (G_y)\n",
    "        \\end{equation}\n",
    "    </p>\n",
    "    <ul>\n",
    "        <li>Hint: Make sure to exclude the class label column <i>item_type</i> before processing your data.</li>\n",
    "    </ul>\n",
    "</div>"
   ]
  },
  {
   "cell_type": "code",
   "execution_count": null,
   "id": "78caacf8-d5cf-4184-8c85-46044fff9206",
   "metadata": {
    "tags": []
   },
   "outputs": [],
   "source": [
    "# your code goes here"
   ]
  },
  {
   "cell_type": "markdown",
   "id": "0ceb388b-a538-4191-9f1c-5eda9d5524d6",
   "metadata": {},
   "source": [
    "<div class=\"alert alert-warning\">\n",
    "    <b>Exercise 3.3. [5 Points]</b>\n",
    "    <ul>\n",
    "        <li>Using the data of the 12 samples from above, create a plot with 5 rows (or 5 columns, choose what you like), where</li>\n",
    "        <ul>\n",
    "            <li>(1) shows the original samples</li>\n",
    "            <li>(2) shows the samples after the convolution using the first filter, i.e., $G_x$</li>\n",
    "            <li>(3) shows the samples after the convolution using the first filter and after the application of sigmoid, i.e., $G'_x$</li>\n",
    "            <li>(4) shows the samples after the convolution using the second filter, i.e., $G_y$</li>\n",
    "            <li>(5) shows the samples after the convolution using the second filter and after the application of sigmoid, i.e., $G'_y$</li>\n",
    "        </ul>\n",
    "    </ul>\n",
    "</div>"
   ]
  },
  {
   "cell_type": "code",
   "execution_count": null,
   "id": "3f548d1d-3524-452e-9d89-a68b2f0eb4c3",
   "metadata": {
    "tags": []
   },
   "outputs": [],
   "source": [
    "# your code goes here"
   ]
  },
  {
   "cell_type": "markdown",
   "id": "prostate-nightmare",
   "metadata": {},
   "source": [
    "<div class=\"alert alert-warning\">\n",
    "    <b>Exercise 3.5. [8 Points]</b>\n",
    "    <ul>\n",
    "        <li>Implement a class <code>FNN</code> that derives from <code>torch.nn.Module</code> with the following architecture:</li>\n",
    "    </ul>\n",
    "    <table style=\"text-align:center;vertical-align:middle\">\n",
    "        <th>Position</th>\n",
    "        <th>Element</th>\n",
    "        <th>Comment</th>\n",
    "        <tr>\n",
    "            <td>0</td>\n",
    "            <td>input</td>\n",
    "            <td>input size = $28\\times{}28$ (flattened)</td>\n",
    "        </tr>\n",
    "        <tr>\n",
    "            <td>1</td>\n",
    "            <td>fully connected</td>\n",
    "            <td>$1000$ output features</td>\n",
    "        </tr>\n",
    "        <tr>\n",
    "            <td>2</td>\n",
    "            <td>ReLU</td>\n",
    "            <td>-</td>\n",
    "        </tr>\n",
    "        <tr>\n",
    "            <td>3</td>\n",
    "            <td>fully connected</td>\n",
    "            <td>$1000$ output features</td>\n",
    "        </tr>\n",
    "        <tr>\n",
    "            <td>4</td>\n",
    "            <td>ReLU</td>\n",
    "            <td>-</td>\n",
    "        </tr>\n",
    "        <tr>\n",
    "            <td>5</td>\n",
    "            <td>fully connected</td>\n",
    "            <td>$10$ output features</td>\n",
    "        </tr>\n",
    "    </table>\n",
    "</div>"
   ]
  },
  {
   "cell_type": "code",
   "execution_count": null,
   "id": "4f88f3ec-de6d-407b-b3c0-47248547a358",
   "metadata": {},
   "outputs": [],
   "source": [
    "# your code goes here"
   ]
  },
  {
   "cell_type": "markdown",
   "id": "fd50a90a-ccda-45ed-8e6f-4ef7e34eb162",
   "metadata": {},
   "source": [
    "<div class=\"alert alert-warning\">\n",
    "    <b>Exercise 3.5. [8 Points]</b>\n",
    "    <ul>\n",
    "        <li>Implement a class <code>CNN</code> that derives from <code>torch.nn.Module</code> with the following architecture:</li>\n",
    "    </ul>\n",
    "    <table style=\"text-align:center;vertical-align:middle\">\n",
    "        <th>Position</th>\n",
    "        <th>Element</th>\n",
    "        <th>Comment</th>\n",
    "        <tr>\n",
    "            <td>0</td>\n",
    "            <td>input</td>\n",
    "            <td>input size = $28\\times{}28$</td>\n",
    "        </tr>\n",
    "        <tr>\n",
    "            <td>1</td>\n",
    "            <td>2D convolution</td>\n",
    "            <td>$64$ output channels and a kernel size of $3\\times{}3$</td>\n",
    "        </tr>\n",
    "        <tr>\n",
    "            <td>2</td>\n",
    "            <td>ReLU</td>\n",
    "            <td>-</td>\n",
    "        </tr>\n",
    "        <tr>\n",
    "            <td>3</td>\n",
    "            <td>max pooling</td>\n",
    "            <td>kernel size of $2\\times{}2$</td>\n",
    "        </tr>\n",
    "        <tr>\n",
    "            <td>4</td>\n",
    "            <td>fully connected</td>\n",
    "            <td>$1000$ output features</td>\n",
    "        </tr>\n",
    "        <tr>\n",
    "            <td>5</td>\n",
    "            <td>ReLU</td>\n",
    "            <td>-</td>\n",
    "        </tr>\n",
    "        <tr>\n",
    "            <td>6</td>\n",
    "            <td>fully connected</td>\n",
    "            <td>$10$ output features</td>\n",
    "        </tr>\n",
    "    </table>\n",
    "</div>"
   ]
  },
  {
   "cell_type": "code",
   "execution_count": null,
   "id": "fdee0a5c-b316-4ba0-b7db-a2e51b46a66e",
   "metadata": {},
   "outputs": [],
   "source": [
    "# your code goes here"
   ]
  },
  {
   "cell_type": "markdown",
   "id": "66240265-7d98-473e-89cd-37e3ce3859a3",
   "metadata": {},
   "source": [
    "<div class=\"alert alert-warning\">\n",
    "    <b>Exercise 3.6. [3 Points]</b>\n",
    "    <ul>\n",
    "        <li>Split the Fashion-MNIST data set in a <i>training</i> set ($80\\%$) as well as <i>test</i> set ($20\\%$).</li>\n",
    "        <li>Print the size of the full data set, the training set and the test set.</li>\n",
    "    </ul>\n",
    "</div>"
   ]
  },
  {
   "cell_type": "code",
   "execution_count": null,
   "id": "respective-humanitarian",
   "metadata": {},
   "outputs": [],
   "source": [
    "# your code goes here"
   ]
  },
  {
   "cell_type": "markdown",
   "id": "rental-register",
   "metadata": {},
   "source": [
    "<div class=\"alert alert-warning\">\n",
    "    <b>Exercise 3.7. [5 Points]</b>\n",
    "    <ul>\n",
    "        <li>Create a corresponding <tt>TensorDataset</tt> for the training as well as the test set.</li>\n",
    "        <li>Wrap the previously defined <tt>TensorDataset</tt> instances in separate <tt>DataLoader</tt> instances with a batch size of $64$ (shuffle the training data set).</li>\n",
    "    </ul>\n",
    "</div>"
   ]
  },
  {
   "cell_type": "code",
   "execution_count": null,
   "id": "favorite-kernel",
   "metadata": {},
   "outputs": [],
   "source": [
    "# your code goes here"
   ]
  },
  {
   "cell_type": "markdown",
   "id": "16bca898-16fe-4e9f-8e9b-791be428ab98",
   "metadata": {},
   "source": [
    "<div class=\"alert alert-warning\">\n",
    "    <b>Exercise 3.8. [10 Points]</b>\n",
    "    <ul>\n",
    "        <li>For both an instance of your <code>FNN</code> and <code>CNN</code> model from above, train for $5$ epochs, print the training accuracy as well as the loss per epoch, and afterwards, print the final test set loss and accuracy.</li>\n",
    "    </ul>\n",
    "</div>"
   ]
  },
  {
   "cell_type": "code",
   "execution_count": null,
   "id": "statistical-village",
   "metadata": {},
   "outputs": [],
   "source": [
    "# your code goes here"
   ]
  }
 ],
 "metadata": {
  "kernelspec": {
   "display_name": "Python 3 (ipykernel)",
   "language": "python",
   "name": "python3"
  },
  "language_info": {
   "codemirror_mode": {
    "name": "ipython",
    "version": 3
   },
   "file_extension": ".py",
   "mimetype": "text/x-python",
   "name": "python",
   "nbconvert_exporter": "python",
   "pygments_lexer": "ipython3",
   "version": "3.9.7"
  }
 },
 "nbformat": 4,
 "nbformat_minor": 5
}
