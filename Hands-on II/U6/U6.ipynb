{
 "cells": [
  {
   "cell_type": "markdown",
   "id": "cd389a93",
   "metadata": {},
   "source": [
    "<h1 style=\"color:rgb(0,120,170)\">Hands-on AI II</h1>\n",
    "<h2 style=\"color:rgb(0,120,170)\">Unit 6 &ndash; Introduction to Reinforcement Learning</h2>"
   ]
  },
  {
   "cell_type": "markdown",
   "id": "e7c78153",
   "metadata": {},
   "source": [
    "<b>Authors:</b> B. Schäfl, S. Lehner, J. Brandstetter, A. Schörgenhumer<br>\n",
    "<b>Date:</b> 13-06-2023\n",
    "\n",
    "This file is part of the \"Hands-on AI II\" lecture material. The following copyright statement applies to all code within this file.\n",
    "\n",
    "<b>Copyright statement:</b><br>\n",
    "This material, no matter whether in printed or electronic form, may be used for personal and non-commercial educational use only. Any reproduction of this material, no matter whether as a whole or in parts, no matter whether in printed or in electronic form, requires explicit prior acceptance of the authors."
   ]
  },
  {
   "cell_type": "markdown",
   "id": "be14e39a",
   "metadata": {},
   "source": [
    "<h2>Table of contents</h2>\n",
    "<ol>\n",
    "    <a href=\"#reinforcement-learning-overview\"><li style=\"font-size:large;font-weight:bold\">Reinforcement Learning: An Overview</li></a>\n",
    "    <ol style=\"margin-bottom:15px\">\n",
    "        <a href=\"#reinforcement-learning-overview-elements\"><li style=\"font-size:medium\">Elements and basic concepts</li></a>\n",
    "        <a href=\"#reinforcement-learning-overview-openai\"><li style=\"font-size:medium\">OpenAI Gym: installation and import</li></a>\n",
    "    </ol>\n",
    "    <a href=\"#reinforcement-learning-environment\"><li style=\"font-size:large;font-weight:bold\">Dissection of an Environment</li></a>\n",
    "    <ol style=\"margin-bottom:15px\">\n",
    "        <a href=\"#reinforcement-learning-environment-states\"><li style=\"font-size:medium\">States and actions</li></a>\n",
    "        <a href=\"#reinforcement-learning-environment-rewards\"><li style=\"font-size:medium\">Rewards</li></a>\n",
    "        <a href=\"#reinforcement-learning-tasks-one\"><li style=\"font-size:medium\">Tasks</li></a>\n",
    "    </ol>\n",
    "    <a href=\"#reinforcement-learning-random\"><li style=\"font-size:large;font-weight:bold\">Tackling the Environment with Random Exploration</li></a>\n",
    "    <ol style=\"margin-bottom:15px\">\n",
    "        <a href=\"#reinforcement-learning-random-problem\"><li style=\"font-size:medium\">The problem with random search</li></a>\n",
    "        <a href=\"#reinforcement-learning-tasks-two\"><li style=\"font-size:medium\">Tasks</li></a>\n",
    "    </ol>\n",
    "    <a href=\"#reinforcement-learning-qlearning\"><li style=\"font-size:large;font-weight:bold\">Tackling the Environment with $Q$-Learning</li></a>\n",
    "    <ol style=\"margin-bottom:15px\">\n",
    "        <a href=\"#reinforcement-learning-qlearning-evaluation\"><li style=\"font-size:medium\">Evaluate the agent's performance</li></a>\n",
    "        <a href=\"#reinforcement-learning-tasks-three\"><li style=\"font-size:medium\">Tasks</li></a>\n",
    "    </ol>\n",
    "</ol>"
   ]
  },
  {
   "cell_type": "markdown",
   "id": "4f7e0026",
   "metadata": {},
   "source": [
    "<h3 style=\"color:rgb(0,120,170)\">How to use this notebook</h3>\n",
    "\n",
    "This notebook is designed to run from start to finish. There are different tasks (displayed in <span style=\"color:rgb(248,138,36)\">orange boxes</span>) which might require small code modifications. Most/All of the used functions are imported from the file <code>u6_utils.py</code> which can be seen and treated as a black box. However, for further understanding, you can look at the implementations of the helper functions. In order to run this notebook, the packages which are imported at the beginning of <code>u6_utils.py</code> need to be installed. One new package is required: <code>gymnasium</code> (install with, e.g., <code>pip install gymnasium</code>)."
   ]
  },
  {
   "cell_type": "code",
   "execution_count": 1,
   "id": "95b46a67",
   "metadata": {
    "tags": []
   },
   "outputs": [
    {
     "data": {
      "text/html": [
       "\n",
       "    <style>\n",
       "        .output_png {\n",
       "            display: table-cell;\n",
       "            text-align: center;\n",
       "            vertical-align: middle;\n",
       "        }\n",
       "        .jp-RenderedImage {\n",
       "            display: table-cell;\n",
       "            text-align: center;\n",
       "            vertical-align: middle;\n",
       "        }\n",
       "    </style>\n",
       "    <p>Setting up notebook ... finished.</p>\n",
       "    "
      ],
      "text/plain": [
       "<IPython.core.display.HTML object>"
      ]
     },
     "execution_count": 1,
     "metadata": {},
     "output_type": "execute_result"
    }
   ],
   "source": [
    "# Import pre-defined utilities specific to this notebook.\n",
    "import u6_utils as u6\n",
    "\n",
    "# Import additional utilities needed in this notebook.\n",
    "import matplotlib.pyplot as plt\n",
    "import numpy as np\n",
    "import pandas as pd\n",
    "import seaborn as sns\n",
    "import sys\n",
    "import time\n",
    "import gymnasium as gym\n",
    "\n",
    "from IPython import display\n",
    "from typing import Tuple\n",
    "\n",
    "# Set default plotting style.\n",
    "sns.set()\n",
    "\n",
    "# Setup Jupyter notebook (warning: this may affect all Jupyter notebooks running on the same Jupyter server).\n",
    "u6.setup_jupyter()"
   ]
  },
  {
   "cell_type": "markdown",
   "id": "13d3fabd",
   "metadata": {},
   "source": [
    "<h3 style=\"color:rgb(0,120,170)\">Module versions</h3>\n",
    "\n",
    "As mentioned in the introductory slides, specific minimum versions of Python itself as well as of used modules are recommended."
   ]
  },
  {
   "cell_type": "code",
   "execution_count": 2,
   "id": "e5b7b42b",
   "metadata": {
    "tags": []
   },
   "outputs": [
    {
     "name": "stdout",
     "output_type": "stream",
     "text": [
      "Installed Python version: 3.9 (✓)\n",
      "Installed numpy version: 1.23.5 (✓)\n",
      "Installed pandas version: 1.5.3 (✓)\n",
      "Installed PyTorch version: 1.13.1+cu117 (✓)\n",
      "Installed matplotlib version: 3.7.1 (✓)\n",
      "Installed seaborn version: 0.12.2 (✓)\n",
      "Installed gym version: 0.28.1 (✓)\n"
     ]
    }
   ],
   "source": [
    "u6.check_module_versions()"
   ]
  },
  {
   "cell_type": "markdown",
   "id": "390cb048",
   "metadata": {},
   "source": [
    "<a name=\"reinforcement-learning-overview\"></a><h2>Reinforcement Learning: An Overview</h2>\n",
    "<p>This chapter should convey only the <i>very</i> basics of <i>Reinforcement Learning (RL)</i>, it is based on <cite>Sutton and Barto</cite> (for interested readers, this reference provides a more in depth introduction to RL).\n",
    "<center>\n",
    "    <cite>Sutton, R.S. and Barto, A.G., 2018. Reinforcement learning: An introduction. MIT press.</cite>\n",
    "</center></p>\n",
    "\n",
    "<p>Before diving into concrete details of this topic, it is probably best and more accessible to explain the problem setting via examples (taken from <cite>Sutton and Barto</cite>).\n",
    "\n",
    "<ul>\n",
    "    <li><cite>A master chess player makes a move.</cite></li>\n",
    "    <li><cite>The choice is informed both by planning – anticipating possible replies and counterreplies – and</cite></li>\n",
    "    <li><cite>by immediate, intuitive judgments of the desirability of particular positions and moves.</cite></li>\n",
    "</ul>\n",
    "\n",
    "Another example, translated to the domain of <i>robotics</i>, would be the following:\n",
    "\n",
    "<ul>\n",
    "    <li><cite>A mobile robot decides whether it should enter a new room in search of more trash to collect or start trying to find its way back to its battery recharging station.</cite></li>\n",
    "    <li><cite>It makes its decision based on the current charge level of its battery and how quickly and easily it has been able to find the recharger in the past.</cite></li>\n",
    "</ul>\n",
    "\n",
    "Although both examples may sound completely different, they have a lot of basic concepts in common.\n",
    "\n",
    "<figure style=\"text-align:center;\">\n",
    "  <img src=\"resources/reinforcement_learning_overview.gif\" alt=\"Resource not found!\">\n",
    "  <figcaption>Animation taken from <a href=\"https://www.learndatasci.com/tutorials/reinforcement-q-learning-scratch-python-openai-gym/\">this source</a>.</figcaption>\n",
    "</figure>\n",
    "\n",
    "Both examples comprise an <i>agent</i> (the <i>master chess player</i> as well as the <i>mobile robot</i>) which interacts with the respective <i>environment</i> (the <i>chess board</i> for the former, and e.g. a <i>house</i> or <i>flat</i> for the latter). None of them know exactly how their <i>actions</i> will affect the future, only that it <i>will</i> in some way. The <i>response</i> or <i>reward</i> reflects the \"quality\" of their actions with respect to the respective states they were executed in. Last but not least, both agents try to reach a specific <i>goal</i>, either to win a chess game or to remove as much trash as possible before a recharge of the battery is necessary.</p>"
   ]
  },
  {
   "cell_type": "markdown",
   "id": "242a7e74",
   "metadata": {},
   "source": [
    "<a name=\"reinforcement-learning-overview-elements\"></a><h3 style=\"color:rgb(0,120,170)\">Elements and basic concepts</h3>\n",
    "<p>Both examples already reveal the basic concepts, or elements, inherent in most reinforcement learning settings (there are exceptions, especially for the last <i>element</i>, the <i>model</i>). Referring to the technical terminology in this domain, the following <i>elements</i> are introduced:\n",
    "\n",
    "<table style=\"text-align:center;vertical-align:middle\">\n",
    "    <tr>\n",
    "        <th style=\"width:150px\">Element/Concept</th>\n",
    "        <th>Description</th>\n",
    "    </tr>\n",
    "    <tr>\n",
    "        <td><b>Policy</b></td>\n",
    "        <td>This can be seen as the <i>heart</i> and <i>brain</i> of an agent. The <i>policy</i> specifies the <i>behaviour</i> of an <i>agent</i> for each specific <i>state</i>, i.e. determines the <i>actions</i> to be executed.</td>\n",
    "    </tr>\n",
    "    <tr>\n",
    "        <td><b>Reward signal</b></td>\n",
    "        <td>Each <i>action</i> executed by the <i>agent</i> leads to a responding <i>reward</i> (<i>positive</i> or <i>negative</i>, i.e. a <i>penalty</i>) reflecting the \"quality\" of said action with respect to the corresponing <i>state</i>. The objective of the <i>agent</i> is the maximization of the <i>total reward</i>.</td>\n",
    "    </tr>\n",
    "    <tr>\n",
    "        <td><b>Value function</b></td>\n",
    "        <td>Whereas the <i>reward</i> can be seen as an <i>immediate assessment</i>, the <i>value</i> of a <i>state</i> reflects the <i>assessment</i> until the <i>goal</i> of the task (i.e. the <i>expected accumulated reward</i> with respect to the <i>current</i> state).</td>\n",
    "    </tr>\n",
    "    <tr>\n",
    "        <td><b>Model</b></td>\n",
    "        <td>An <i>agent</i> always interacts with an <i>environment</i>, hence a <i>model</i> reflects said environment and enables to <i>infer</i> its behaviour with respect to the agent's <i>actions</i>. Not all reinforcement learning settings make use of a <i>model</i>, i.e. are <i>model-free</i>.</td>\n",
    "    </tr>\n",
    "</table>\n",
    "\n",
    "<i>Theory</i> is often best processed when accompanied by <i>practice</i>. For this very reason, a prominent collection of reinforcement learning environments, <a href=\"https://gymnasium.farama.org/\"><i>Gymnasium</i> (<a href=\"https://github.com/Farama-Foundation/Gymnasium\">Github link</a>)</a>, is introduced:\n",
    "<center>\n",
    "    <cite>Gymnasium is an open source Python library for developing and comparing reinforcement learning algorithms by providing a standard API to communicate between learning algorithms and environments, as well as a standard set of environments compliant with that API.</cite>\n",
    "</center></p>\n",
    "    \n",
    "<p>For the beginning of the reinforcement learning journey, we are focusing on the <a href=\"https://gymnasium.farama.org/environments/toy_text/taxi/\"><i>Taxi</i></a> environment in this notebook. It was introduced by <cite>Dietterich</cite>:\n",
    "<center>\n",
    "    <cite>Dietterich, T.G., 2000. Hierarchical reinforcement learning with the MAXQ value function decomposition. Journal of artificial intelligence research, 13, pp.227-303.</cite>\n",
    "</center></p>"
   ]
  },
  {
   "cell_type": "markdown",
   "id": "1ea2fc03",
   "metadata": {},
   "source": [
    "<a name=\"reinforcement-learning-environment\"></a><h2>Dissection of an Environment</h2>"
   ]
  },
  {
   "cell_type": "code",
   "execution_count": 3,
   "id": "6cfa20e5",
   "metadata": {
    "tags": []
   },
   "outputs": [],
   "source": [
    "environment_taxi = gym.make('Taxi-v3', max_episode_steps=100_000, render_mode='ansi')\n",
    "u6.set_environment_seed(environment=environment_taxi, seed=42)"
   ]
  },
  {
   "cell_type": "markdown",
   "id": "6101dda6",
   "metadata": {},
   "source": [
    "<a name=\"reinforcement-learning-environment-states\"></a><h3 style=\"color:rgb(0,120,170)\">States and actions</h3>\n",
    "<p>To display the current state of an environment in a visually pleasing way, the <code>render</code> function comes in pretty handy. According to <cite>Dietterich</cite>, the visualisation of the <i>Taxi</i> environment comprises the following type of information:\n",
    "\n",
    "<center>\n",
    "    <cite>There are four specially-designated locations in this world, marked as</cite>\n",
    "    <ul>\n",
    "        <li style=\"display:inline-block;width:125px;text-align:left;vertical-top:sub;\">\n",
    "            <span style=\"font-size:26px;vertical-align:sub\">&bull;</span>\n",
    "            R(ed)\n",
    "        </li>\n",
    "        <li style=\"display:inline-block;width:125px;text-align:left;vertical-top:sub;\">\n",
    "            <span style=\"font-size:26px;vertical-align:sub\">&bull;</span>\n",
    "            B(lue)\n",
    "        </li>\n",
    "        <li style=\"display:inline-block;width:125px;text-align:left;vertical-top:sub;\">\n",
    "            <span style=\"font-size:26px;vertical-align:sub\">&bull;</span>\n",
    "            G(reen)\n",
    "        </li>\n",
    "        <li style=\"display:inline-block;width:125px;text-align:left;vertical-top:sub;\">\n",
    "            <span style=\"font-size:26px;vertical-align:sub\">&bull;</span>\n",
    "            Y(ellow)\n",
    "        </li>\n",
    "    </ul>\n",
    "</center>\n",
    "\n",
    "<center>\n",
    "    <cite>[...] In each episode, the taxi starts in a randomly chosen square. There is a <span style=\"color:rgb(0,0,255)\">passenger</span> at one of the four locations (chosen randomly), and that passenger wishes to be transported to one of the four locations (also chosen randomly). The taxi must go to the passenger's location (the \"source\"), pickup the passenger, go to the <span style=\"color:rgb(255,0,255)\">destination</span> location (the \"destination\"), and put down the passenger there.</cite>\n",
    "</center>\n",
    "\n",
    "One such repetition is called an <i>episode</i>, the taxi itself is displayed as a <i>filled rectangle</i>, changing the colour from <span style=\"color:rgb(255,255,0)\">yellow</span> to <span style=\"color:rgb(0,255,0)\">green</span> if a passenger is picked up.</p>"
   ]
  },
  {
   "cell_type": "markdown",
   "id": "39b9ca62",
   "metadata": {},
   "source": [
    "<div class=\"alert alert-warning\">\n",
    "    Note that colours in the following visualisation might be displayed differently than the previous enumeration might suggest. The reason for this peculiarity is the behaviour of the underlying <tt>render</tt> function, which parses the corresponding colour code using the colour mapping of the environment (the environment the code is executed in, <i>not</i> the RL environment). Settings like <i>dark themes</i> might override specific colour codes, displaying <i>green</i> as e.g. <i>blue</i>. But don't worry, this does not influence the experience of this notebook by any means.\n",
    "</div>"
   ]
  },
  {
   "cell_type": "code",
   "execution_count": 4,
   "id": "5af56ddc",
   "metadata": {
    "tags": []
   },
   "outputs": [
    {
     "name": "stdout",
     "output_type": "stream",
     "text": [
      "+---------+\n",
      "|R: | : :\u001b[34;1mG\u001b[0m|\n",
      "| : | : : |\n",
      "| : : : : |\n",
      "| | : | :\u001b[43m \u001b[0m|\n",
      "|\u001b[35mY\u001b[0m| : |B: |\n",
      "+---------+\n",
      "\n",
      "\n",
      "Current state ID: 386\n"
     ]
    }
   ],
   "source": [
    "print(environment_taxi.render())\n",
    "current_state_id = environment_taxi.s\n",
    "print(f'Current state ID: {current_state_id}')"
   ]
  },
  {
   "cell_type": "markdown",
   "id": "d4cdde74",
   "metadata": {},
   "source": [
    "<p>The first and na&#xEF;ve approach to solve this task is by simply <i>brute forcing</i> it applying <i>random search</i>. The outline of this approach is the following:\n",
    "<table style=\"text-align:center;vertical-align:middle\">\n",
    "    <tr>\n",
    "        <th style=\"width:75px\">Step</th>\n",
    "        <th>Description</th>\n",
    "    </tr>\n",
    "    <tr>\n",
    "        <td>0</td>\n",
    "        <td>Choose a random <i>action</i> with respect to the <i>current</i> state.</td>\n",
    "    </tr>\n",
    "    <tr>\n",
    "        <td>1</td>\n",
    "        <td>Execute previously chosen <i>action</i> and transition into a <i>new</i> state.</td>\n",
    "    </tr>\n",
    "    <tr>\n",
    "        <td>2</td>\n",
    "        <td>Repeat the previous steps as long as the current episode is still ongoing.</td>\n",
    "    </tr>\n",
    "</table>\n",
    "\n",
    "For such an approach to be at least remotely applicable, the number of possible <i>actions</i> and <i>states</i> is of utter importance. Otherwise, we are lost in the depth of combinatorial explosion. The property <code>n</code> of the <code>action_space</code> and <code>observation_space</code> of the respective environment gives the amount of <i>actions</i> as well as <i>states</i>.</p>"
   ]
  },
  {
   "cell_type": "code",
   "execution_count": 5,
   "id": "5e86eb7d",
   "metadata": {
    "tags": []
   },
   "outputs": [
    {
     "name": "stdout",
     "output_type": "stream",
     "text": [
      "The Taxi-v3 environment comprises 6 actions and 500 states.\n"
     ]
    }
   ],
   "source": [
    "num_actions = environment_taxi.action_space.n\n",
    "num_states = environment_taxi.observation_space.n\n",
    "print(f'The Taxi-v3 environment comprises {num_actions} actions and {num_states} states.')"
   ]
  },
  {
   "cell_type": "markdown",
   "id": "8b7527cf",
   "metadata": {},
   "source": [
    "<p>We see that there are $6$ actions in total:\n",
    "<table style=\"text-align:center;vertical-align:middle\">\n",
    "    <tr>\n",
    "        <th style=\"width:75px\">Action</th>\n",
    "        <th style=\"width:150px\">Description</th>\n",
    "    </tr>\n",
    "    <tr>\n",
    "        <td>$0$</td>\n",
    "        <td>move <i>south</i> (&#8595;)</td>\n",
    "    </tr>\n",
    "    <tr>\n",
    "        <td>$1$</td>\n",
    "        <td>move <i>north</i> (&#8593;)</td>\n",
    "    </tr>\n",
    "    <tr>\n",
    "        <td>$2$</td>\n",
    "        <td>move <i>east</i> (&#8594;)</td>\n",
    "    </tr>\n",
    "    <tr>\n",
    "        <td>$3$</td>\n",
    "        <td>move <i>west</i> (&#8592;)</td>\n",
    "    </tr>\n",
    "    <tr>\n",
    "        <td>$4$</td>\n",
    "        <td><i>pick up</i> passenger (&#10557;)</td>\n",
    "    </tr>\n",
    "    <tr>\n",
    "        <td>$5$</td>\n",
    "        <td><i>drop off</i> passenger (&#10556;)</td>\n",
    "    </tr>\n",
    "</table>\n",
    "\n",
    "Whereas the $500$ states are a combination of\n",
    "<ul>\n",
    "    <li>$4$ possible sources/destinations</li>\n",
    "    <li>$5$ possible passenger locations (one of the $4$ sources/destination plus the taxi itself)</li>\n",
    "    <li>$25$ different taxi positions on the grid</li>\n",
    "</ul>\n",
    "\n",
    "leading to said $4 \\times 5 \\times 25 = 500$ different states.</p>"
   ]
  },
  {
   "cell_type": "markdown",
   "id": "819dae58",
   "metadata": {},
   "source": [
    "<a name=\"reinforcement-learning-environment-rewards\"></a><h3 style=\"color:rgb(0,120,170)\">Rewards</h3>\n",
    "<p>Each <i>action</i> triggers a <i>reaction</i> (at least in the domain of reinforcement learning), in this case in the form of a <i>reward</i> or a <i>penalty</i>. The latter, the <i>penalty</i>, is simply a <i>negative reward</i>. According to the description of the <a href=\"https://gymnasium.farama.org/environments/toy_text/taxi/\">environment's website</a>, the following rewards are given:\n",
    "    \n",
    "<ul>\n",
    "    <li>$-1$ per step unless other reward is triggered.</li>\n",
    "    <li>$+20$ delivering passenger.</li>\n",
    "    <li>$-10$ executing \"pickup\" and \"drop off\" actions illegally.</li>\n",
    "</ul>\n",
    "\n",
    "<p>The goal of our <i>agent</i> is to maximize the reward by still solving the task. In this setting, this would translate to the following premises:\n",
    "<ul>\n",
    "    <li>Take as few steps as possible.</li>\n",
    "    <li>Take as many steps as necessary.</li>\n",
    "    <li>Do not pick up non-existent passengers.</li>\n",
    "    <li>Do not drop off passengers at invalid locations.</li>\n",
    "</ul>\n",
    "\n",
    "As already discussed, every action leads to a reward which reflects in some way the \"quality\" of this action with respect to the current state. The problem in reinforcement learning (or more generally in the domain of <i>pathfinding </i>algorithms) is <i>greediness</i>: a high short-term reward might lead to a low long-term reward. To stick with <i>pathfinding</i> algorithms, <a href=\"https://en.wikipedia.org/wiki/Dijkstra%27s_algorithm\">Dijkstra's algorithm</a> is one of the (if not <i>the</i>) most prominent example in terms of <i>greediness</i>.\n",
    "\n",
    "The mapping <i>state</i>$\\rightarrow$<i>action</i> for all possible combinations of <i>state</i> and <i>actions</i> is defined in a <i>reward table</i>. When investigating the reward table with respect to one of these states, in our case the <i>current state</i> of our instantiated <i>Taxi</i> environment, we are getting a lot of useful information.</p>"
   ]
  },
  {
   "cell_type": "code",
   "execution_count": 6,
   "id": "842bbd96",
   "metadata": {
    "tags": []
   },
   "outputs": [
    {
     "data": {
      "text/plain": [
       "{0: [(1.0, 486, -1, False)],\n",
       " 1: [(1.0, 286, -1, False)],\n",
       " 2: [(1.0, 386, -1, False)],\n",
       " 3: [(1.0, 366, -1, False)],\n",
       " 4: [(1.0, 386, -10, False)],\n",
       " 5: [(1.0, 386, -10, False)]}"
      ]
     },
     "execution_count": 6,
     "metadata": {},
     "output_type": "execute_result"
    }
   ],
   "source": [
    "current_state_id = environment_taxi.s\n",
    "environment_taxi.P[current_state_id]"
   ]
  },
  {
   "cell_type": "markdown",
   "id": "1b18d888",
   "metadata": {},
   "source": [
    "<p>Each entry of the <i>reward table</i> contains a dictionary of the form <code>A: [(B, C, D, E)]</code>.\n",
    "<table style=\"text-align:center;vertical-align:middle\">\n",
    "    <tr>\n",
    "        <th style=\"width:75px\">Element</th>\n",
    "        <th>Description</th>\n",
    "    </tr>\n",
    "    <tr>\n",
    "        <td><code>A</code></td>\n",
    "        <td>The corresponding <i>action</i> identifier as introduced earlier.</td>\n",
    "    </tr>\n",
    "    <tr>\n",
    "        <td><code>B</code></td>\n",
    "        <td>The <i>probability</i> of this action being triggered (initialized to be $1.0$).</td>\n",
    "    </tr>\n",
    "    <tr>\n",
    "        <td><code>C</code></td>\n",
    "        <td>The <i>next state</i> if the corresponding action would be triggered.</td>\n",
    "    </tr>\n",
    "    <tr>\n",
    "        <td><code>D</code></td>\n",
    "        <td>The <i>reward/penalty</i> tied to the corresponding action.</td>\n",
    "    </tr>\n",
    "    <tr>\n",
    "        <td><code>E</code></td>\n",
    "        <td>Flag, indicating if the current episode is <i>finished</i> or <i>not</i>.</td>\n",
    "    </tr>\n",
    "</table></p>"
   ]
  },
  {
   "cell_type": "markdown",
   "id": "347671fb",
   "metadata": {},
   "source": [
    "<a name=\"reinforcement-learning-tasks-one\"></a><h3 style=\"color:rgb(0,120,170)\">Tasks</h3>\n",
    "    <div class=\"alert alert-warning\">\n",
    "        Execute the notebook until here and try to solve the following tasks:\n",
    "        <ul>\n",
    "            <li>Using the previously generated <i>Taxi-v3</i> environment ($42$-seeded), how <i>many</i> and <i>which</i> actions are necessary to solve the task?</li>\n",
    "            <li>Using the previously generated <i>Taxi-v3</i> environment ($42$-seeded), what is the <i>highest</i> reward possible for any agent?</li>\n",
    "            <li>With respect to every possible state the <i>Taxi-v3</i> environment could adopt, what would the <i>highest possible reward</i> be?</li>\n",
    "        </ul>\n",
    "</div>"
   ]
  },
  {
   "cell_type": "markdown",
   "id": "114567ef",
   "metadata": {},
   "source": [
    "<a name=\"reinforcement-learning-random\"></a><h2>Tackling the Environment with Random Exploration</h2>\n",
    "<p>Previously, we talked about solving this task in a na&#xEF;ve way by simply applying <i>brute force</i>: using <i>random search</i>. To repeat the outline of such an approach:\n",
    "<ul>\n",
    "    <li><code>I</code> $\\rightarrow$ Choose a random <i>action</i> with respect to the <i>current</i> state.</li>\n",
    "    <li><code>II</code> $\\rightarrow$ Execute previously chosen <i>action</i> and transition into a <i>new</i> state.</li>\n",
    "</ul>\n",
    "\n",
    "This procedure is repeated as long as the episode is still ongoing (<code>III</code>).</p>"
   ]
  },
  {
   "cell_type": "code",
   "execution_count": 7,
   "id": "36c8a13d",
   "metadata": {
    "tags": []
   },
   "outputs": [],
   "source": [
    "def apply_random_search(environment: gym.Env, animate: bool = False,\n",
    "                        delay: float = 0.01) -> Tuple[int, int, int]:\n",
    "    \"\"\"\n",
    "    Solve specified environment by applying random search.\n",
    "    \n",
    "    :param environment: the environment on which to apply random search\n",
    "    :param animate: animate the random search process\n",
    "    :param delay: the minimum delay in milliseconds between each rendered frame (ignored if not animated)\n",
    "    :return: amount of steps performed, penalties inflicted and final reward\n",
    "    \"\"\"\n",
    "    num_steps, num_penalties, final_reward = 0, 0, 0\n",
    "    \n",
    "    # <III>: repeat random search procedure as long as the episode is still ongoing.\n",
    "    done = False\n",
    "    while not done:\n",
    "        \n",
    "        # <I>: choose a random action with respect to the current state.\n",
    "        current_action = environment.action_space.sample()\n",
    "        \n",
    "        # <II>: execute previously chosen action and transition into a new state.\n",
    "        current_state, current_reward, terminated, truncated, _ = environment.step(current_action)\n",
    "        done = terminated or truncated\n",
    "        \n",
    "        # Update counter for inflicted penalties.\n",
    "        final_reward += current_reward\n",
    "        if current_reward == -10:\n",
    "            num_penalties += 1\n",
    "        num_steps += 1\n",
    "        \n",
    "        # Optionally display current state.\n",
    "        if animate:\n",
    "            display.clear_output(wait=True)\n",
    "            print(environment.render())\n",
    "            print(f'Step No.: {num_steps}'\n",
    "                  f'\\nState ID: {current_state}'\n",
    "                  f'\\nAction ID: {current_action}'\n",
    "                  f'\\nReward: {current_reward}')\n",
    "            time.sleep(delay)\n",
    "    \n",
    "    return num_steps, num_penalties, final_reward"
   ]
  },
  {
   "cell_type": "markdown",
   "id": "803ef989",
   "metadata": {},
   "source": [
    "<p>Now everything is set up and the <i>random search</i> procedure is eagerly waiting to explore the exciting world of <i>Taxi-v3</i>! To get a better feeling about the <i>exploration</i>, we're reporting\n",
    "<ul>\n",
    "    <li>the amount of steps performed,</li>\n",
    "    <li>the penalties inflicted</li>\n",
    "    <li>and the final reward.</li>\n",
    "</ul>\n",
    "\n",
    "Let's get started!</p>"
   ]
  },
  {
   "cell_type": "code",
   "execution_count": 8,
   "id": "ac09fa2d",
   "metadata": {
    "tags": []
   },
   "outputs": [
    {
     "name": "stdout",
     "output_type": "stream",
     "text": [
      "+---------+\n",
      "|R: | : :G|\n",
      "| : | : : |\n",
      "| : : : : |\n",
      "| | : | : |\n",
      "|\u001b[35m\u001b[34;1m\u001b[43mY\u001b[0m\u001b[0m\u001b[0m| : |B: |\n",
      "+---------+\n",
      "  (Dropoff)\n",
      "\n",
      "Step No.: 683\n",
      "State ID: 410\n",
      "Action ID: 5\n",
      "Reward: 20\n"
     ]
    }
   ],
   "source": [
    "u6.set_environment_seed(environment=environment_taxi, seed=42)\n",
    "num_steps, num_penalties, final_reward = apply_random_search(\n",
    "    environment=environment_taxi,\n",
    "    animate=True,\n",
    "    delay=0.01\n",
    ")"
   ]
  },
  {
   "cell_type": "markdown",
   "id": "60d37ed4",
   "metadata": {},
   "source": [
    "<p>To put it politely, the results are not quite what we have anticipated. On the positive side, however, our <i>random search</i> approach did <i>indeed</i> find a solution for the task. So that is a win! Maybe the animation made the search procedure look more intense than it really was. For this very purpose, let's print some statistics of the current search:</p>"
   ]
  },
  {
   "cell_type": "code",
   "execution_count": 9,
   "id": "193a0240",
   "metadata": {
    "tags": []
   },
   "outputs": [
    {
     "name": "stdout",
     "output_type": "stream",
     "text": [
      "683 steps taken and 226 penalties inflicted during randomly searching the goal, with a final reward of -2696.\n"
     ]
    }
   ],
   "source": [
    "print(f'{num_steps} steps taken and {num_penalties} penalties inflicted'\n",
    "      f' during randomly searching the goal, with a final reward of {final_reward}.')"
   ]
  },
  {
   "cell_type": "markdown",
   "id": "1d9e4765",
   "metadata": {},
   "source": [
    "<p>One might be a little bit suspicious that this was <i>not</i> the most optimal path.</p>"
   ]
  },
  {
   "cell_type": "markdown",
   "id": "11ce18c7",
   "metadata": {},
   "source": [
    "<a name=\"reinforcement-learning-random-problem\"></a><h3 style=\"color:rgb(0,120,170)\">The problem with random search</h3>\n",
    "<p>To drill down on the drawbacks of plain <i>random search</i>, we are designing the following experimental setup:\n",
    "<ul>\n",
    "    <li>Repeat the previous <i>random search</i> procedure a specified amount of times, e.g. $100$ times.</li>\n",
    "    <li>Aggregate the results of each run for later analysis.</li>\n",
    "    <li>Visualise the aggegrated results using e.g. <i>box-</i> and <i>strip-plots</i> (or <i>swarm-plots</i>).</li>\n",
    "</ul>\n",
    "Once again, we are setting the <i>random seed</i>, but take care of setting it <i>outside</i> the loop, otherwise the same result is reported with each iteration (and an aggregation of the results would not give us any more insights).</p>"
   ]
  },
  {
   "cell_type": "code",
   "execution_count": 10,
   "id": "b70347ca",
   "metadata": {
    "tags": []
   },
   "outputs": [],
   "source": [
    "u6.set_environment_seed(environment=environment_taxi, seed=42)\n",
    "num_steps_total, num_penalties_total, final_reward_total = [], [], []\n",
    "num_repetitions = 100\n",
    "\n",
    "# Collect information over multiple repetitions.\n",
    "for repetition in range(num_repetitions):\n",
    "    environment_taxi.reset()\n",
    "    num_steps, num_penalties, final_reward = apply_random_search(environment=environment_taxi)\n",
    "    num_steps_total.append(num_steps)\n",
    "    num_penalties_total.append(num_penalties)\n",
    "    final_reward_total.append(final_reward)\n",
    "\n",
    "# Combine collected information to a data frame for further downstream analysis.\n",
    "collected_experiment_info = pd.DataFrame({\n",
    "    'Steps performed': num_steps_total,\n",
    "    'Penalties inflicted': num_penalties_total,\n",
    "    'Final reward': final_reward_total\n",
    "})"
   ]
  },
  {
   "cell_type": "code",
   "execution_count": 11,
   "id": "72998fe1",
   "metadata": {
    "tags": []
   },
   "outputs": [
    {
     "data": {
      "image/png": "[encoded data removed]",
      "text/plain": [
       "<Figure size 1440x504 with 1 Axes>"
      ]
     },
     "metadata": {
      "needs_background": "light"
     },
     "output_type": "display_data"
    }
   ],
   "source": [
    "# Visualize aggregated results of the random search procedure.\n",
    "fig, ax = plt.subplots(figsize=(20, 7))\n",
    "ax.set_xscale('symlog')\n",
    "sns.boxplot(data=collected_experiment_info, ax=ax, orient='h')\n",
    "sns.stripplot(data=collected_experiment_info, ax=ax, orient='h', linewidth=1)\n",
    "plt.show()"
   ]
  },
  {
   "cell_type": "markdown",
   "id": "024f811d",
   "metadata": {},
   "source": [
    "<a name=\"reinforcement-learning-tasks-two\"></a><h3 style=\"color:rgb(0,120,170)\">Tasks</h3>\n",
    "    <div class=\"alert alert-warning\">\n",
    "        Execute the notebook until here and try to solve the following tasks:\n",
    "        <ul>\n",
    "            <li>Try to interpret the visualization (e.g. the span of the boxes) and keep in mind, that the <i>x-axis</i> is scaled <i>logarithmically</i>.</li>\n",
    "            <li>Which kind of information does a <i>random search</i> procedure <i>not</i> incorporate (<i>hint:</i> think in terms of <i>steps</i>)?</li>\n",
    "            <li>Which kind of information would be necessary to be incorporated by an <i>RL algorithm</i> to be more efficient?</li>\n",
    "        </ul>\n",
    "</div>"
   ]
  },
  {
   "cell_type": "markdown",
   "id": "423dd3ba",
   "metadata": {},
   "source": [
    "<a name=\"reinforcement-learning-qlearning\"></a><h2>Tackling the Environment with $Q$-Learning</h2>\n",
    "<p>In a simplified version of $Q$-learning, the <b>$\\boldsymbol{Q}$-value</b>\n",
    "\\begin{equation}\n",
    "    Q(s,a)\n",
    "\\end{equation}</p>\n",
    "\n",
    "<p>is the expected future reward of being in state $s$ and taking action $a$. Intuitively, if the $Q$-values are learned correctly, a good policy would be to take the action which maximizes the expected future reward. This is what $Q$-learning is doing. $Q$-learning lets the agent <b>use the environment's rewards to learn</b>, over time, the best action to take in a given state. $Q$-values are initialized to an arbitrary value, and as the agent exposes itself to the environment and receives different rewards by executing different actions, the $Q$-values are updated using the equation:\n",
    "\\begin{equation}\n",
    "    Q(s_t,a_t) \\leftarrow (1 - \\alpha) \\cdot Q(s_t,a_t) + \\alpha \\cdot \\left( r_t + \\gamma \\max_{a_{t+1}} Q(s_{t+1}, a_{t+1})\\right)\n",
    "\\end{equation}</p>\n",
    "\n",
    "<p>We are assigning $\\leftarrow$, or updating, the $Q$-value of the agent's current state and action, denoted as $Q(s_t,a_t)$ with $\\alpha$ as the learning rate, i.e the extent to which our $Q$-values are being updated in every iteration.</p>\n",
    "\n",
    "<p>The <b>$\\boldsymbol{Q}$-table</b> is a matrix where we have a row for every state and a column for every action: $500$ and $6$, respectively, when referring to the current <i>Taxi-v3</i> example. It's first initialized to $0$, and then values are updated during training.</p>\n",
    "\n",
    "<p>Previously, we talked about solving this task in a na&#xEF;ve way by simply applying <i>brute force</i> using <i>random search</i>. This time, we want to apply a more sophisticated algorithm, namely $Q$-learning:\n",
    "<ul>\n",
    "    <li><code>I</code> $\\rightarrow$ Choose action $a_t$.</li>\n",
    "    <li><code>II</code> $\\rightarrow$ Go from state $s_t$ to state $s_{t+1}$ by taking action $a_{t}$.</li>\n",
    "    <li><code>III</code> $\\rightarrow$ For all possible $Q$-values from the state $s_{t+1}$, select the highest.</li>\n",
    "    <li><code>IV</code> $\\rightarrow$ Update $Q$-table values using the equation from above.</li>\n",
    "    <li><code>V</code> $\\rightarrow$ Set the next state as the current state and go back to <code>I</code> until a final state is reached (end of episode).</li>\n",
    "</ul>\n",
    "\n",
    "This procedure is repeated for as many episodes as specified (<code>VI</code>).</p>"
   ]
  },
  {
   "cell_type": "code",
   "execution_count": 12,
   "id": "2512b01f",
   "metadata": {
    "tags": []
   },
   "outputs": [],
   "source": [
    "def visualize_q_table(q_table: np.ndarray, title: str = '') -> None:\n",
    "    \"\"\"\n",
    "    Visualize Q-table using a heatmap plot.\n",
    "    \n",
    "    :param q_table: Q-table to visualize\n",
    "    \"\"\"\n",
    "    fig, ax = plt.subplots(figsize=(20, 7))\n",
    "    sns.heatmap(data=q_table, ax=ax)\n",
    "    ax.set(xlabel='Action', ylabel='State', title=title)\n",
    "    display.clear_output(wait=True)\n",
    "    display.display(fig)\n",
    "    plt.close(fig=fig)\n",
    "\n",
    "\n",
    "def apply_q_learning(environment: gym.Env, num_episodes: int = 1000, alpha: float = 0.1, gamma: float = 1.0,\n",
    "                     animate: bool = False, delay_steps: int = 100) -> np.ndarray:\n",
    "    \"\"\"\n",
    "    Solve specified environment by applying Q-learning.\n",
    "    \n",
    "    :param environment: the environment on which to apply Q-learning\n",
    "    :param num_episodes: the total amount of episodes used to adapt the Q-table\n",
    "    :param alpha: the learning rate to be applied by Q-learning\n",
    "    :param gamma: the discount factor of future rewards\n",
    "    :param animate: animate the Q-learning process\n",
    "    :param delay_steps: the steps between each Q-table visualization (ignored if not animated)\n",
    "    :return: adapted Q-table\n",
    "    \"\"\"\n",
    "    q_table = np.zeros(shape=(environment.observation_space.n, environment.action_space.n))\n",
    "    \n",
    "    # <VI>: repeat Q-learning as long as the total amount of episodes is not yet reached.\n",
    "    for episode in range(num_episodes):\n",
    "        state, _ = environment.reset()\n",
    "        \n",
    "        done = False\n",
    "        while not done:\n",
    "            \n",
    "            # <I>: choose next action according to current Q-table.\n",
    "            action = np.argmax(q_table[state])\n",
    "            \n",
    "            # <II>: go from the current state to the next by applying chosen action.\n",
    "            next_state, reward, terminated, truncated, _ = environment.step(action)\n",
    "            done = terminated or truncated\n",
    "            \n",
    "            # <III>: from all possible Q-values w.r.t. the new state, select the highest.\n",
    "            next_max = np.max(q_table[next_state])\n",
    "            \n",
    "            # <IV>: update the Q-table accordingly.\n",
    "            old_value = q_table[state, action]\n",
    "            new_value = (1 - alpha) * old_value + alpha * (reward + gamma * next_max)\n",
    "            q_table[state, action] = new_value\n",
    "            \n",
    "            # <V>: update the next step with the current one.\n",
    "            state = next_state\n",
    "        \n",
    "        # Optionally visualize the current Q-table.\n",
    "        if animate and any(((episode + 1) % delay_steps == 0, (episode + 1) == num_episodes)):\n",
    "            visualize_q_table(q_table=q_table, title=f'Episode {episode + 1}')\n",
    "    \n",
    "    return q_table"
   ]
  },
  {
   "cell_type": "code",
   "execution_count": 13,
   "id": "0787fc3b",
   "metadata": {
    "tags": []
   },
   "outputs": [
    {
     "data": {
      "image/png": "[encoded data removed]",
      "text/plain": [
       "<Figure size 1440x504 with 2 Axes>"
      ]
     },
     "metadata": {},
     "output_type": "display_data"
    }
   ],
   "source": [
    "u6.set_environment_seed(environment=environment_taxi, seed=42)\n",
    "q_table = apply_q_learning(\n",
    "    environment=environment_taxi,\n",
    "    num_episodes=10000,\n",
    "    alpha=0.1,\n",
    "    animate=True,\n",
    "    delay_steps=1000\n",
    ")"
   ]
  },
  {
   "cell_type": "markdown",
   "id": "660df5eb",
   "metadata": {},
   "source": [
    "<a name=\"reinforcement-learning-qlearning-evaluation\"></a><h3 style=\"color:rgb(0,120,170)\">Evaluate the agent's performance</h3>"
   ]
  },
  {
   "cell_type": "code",
   "execution_count": 14,
   "id": "9ff7e588",
   "metadata": {
    "tags": []
   },
   "outputs": [],
   "source": [
    "def apply_q_table(environment: gym.Env, q_table: np.ndarray, animate: bool = False,\n",
    "                  delay: float = 0.01) -> Tuple[int, int, int]:\n",
    "    \"\"\"\n",
    "    Solve specified environment by applying specified Q-table.\n",
    "    \n",
    "    :param environment: the environment on which to apply Q-table guided search\n",
    "    :param q_table: the Q-table used during Q-table guided search\n",
    "    :param animate: animate the Q-table guided search process\n",
    "    :param delay: the minimum delay in milliseconds between each rendered frame (ignored if not animated)\n",
    "    :return: amount of steps performed, penalties inflicted and final reward\n",
    "    \"\"\"\n",
    "    num_steps, num_penalties, final_reward = 0, 0, 0\n",
    "    \n",
    "    # <III>: repeat Q-table guided search procedure as long as the episode is still ongoing.\n",
    "    done = False\n",
    "    while not done:\n",
    "        \n",
    "        # <I>: choose action according to the Q-table with respect to the current state.\n",
    "        current_action = np.argmax(q_table[environment.s])\n",
    "        \n",
    "        # <II>: execute previously chosen action and transition into a new state.\n",
    "        current_state, current_reward, terminated, truncated, _ = environment.step(current_action)\n",
    "        done = terminated or truncated\n",
    "        \n",
    "        # Update counter for inflicted penalties.\n",
    "        final_reward += current_reward\n",
    "        if current_reward == -10:\n",
    "            num_penalties += 1\n",
    "        num_steps += 1\n",
    "        \n",
    "        # Optionally display current state.\n",
    "        if animate:\n",
    "            display.clear_output(wait=True)\n",
    "            print(environment.render())\n",
    "            print(f'Step No.: {num_steps}'\n",
    "                  f'\\nState ID: {current_state}'\n",
    "                  f'\\nAction ID: {current_action}'\n",
    "                  f'\\nReward: {current_reward}')\n",
    "            time.sleep(delay)\n",
    "    \n",
    "    return num_steps, num_penalties, final_reward"
   ]
  },
  {
   "cell_type": "code",
   "execution_count": 15,
   "id": "85256398",
   "metadata": {
    "tags": []
   },
   "outputs": [
    {
     "name": "stdout",
     "output_type": "stream",
     "text": [
      "+---------+\n",
      "|R: | : :G|\n",
      "| : | : : |\n",
      "| : : : : |\n",
      "| | : | : |\n",
      "|\u001b[35m\u001b[34;1m\u001b[43mY\u001b[0m\u001b[0m\u001b[0m| : |B: |\n",
      "+---------+\n",
      "  (Dropoff)\n",
      "\n",
      "Step No.: 13\n",
      "State ID: 410\n",
      "Action ID: 5\n",
      "Reward: 20\n"
     ]
    }
   ],
   "source": [
    "u6.set_environment_seed(environment=environment_taxi, seed=42)\n",
    "num_steps, num_penalties, final_reward = apply_q_table(\n",
    "    environment=environment_taxi,\n",
    "    q_table=q_table,\n",
    "    animate=True,\n",
    "    delay=0.25\n",
    ")"
   ]
  },
  {
   "cell_type": "code",
   "execution_count": 16,
   "id": "5432c11b",
   "metadata": {
    "tags": []
   },
   "outputs": [
    {
     "name": "stdout",
     "output_type": "stream",
     "text": [
      "13 steps taken and 0 penalties inflicted during searching the goal guided by a Q-table, with a final reward of 8.\n"
     ]
    }
   ],
   "source": [
    "print(f'{num_steps} steps taken and {num_penalties} penalties inflicted'\n",
    "      f' during searching the goal guided by a Q-table, with a final reward of {final_reward}.')"
   ]
  },
  {
   "cell_type": "code",
   "execution_count": 17,
   "id": "9ee97e3f",
   "metadata": {
    "tags": []
   },
   "outputs": [],
   "source": [
    "u6.set_environment_seed(environment=environment_taxi, seed=42)\n",
    "num_steps_total, num_penalties_total, final_reward_total = [], [], []\n",
    "num_repetitions = 100\n",
    "\n",
    "# Collect information over multiple repetitions.\n",
    "for repetition in range(num_repetitions):\n",
    "    environment_taxi.reset()\n",
    "    num_steps, num_penalties, final_reward = apply_q_table(environment=environment_taxi, q_table=q_table)\n",
    "    num_steps_total.append(num_steps)\n",
    "    num_penalties_total.append(num_penalties)\n",
    "    final_reward_total.append(final_reward)\n",
    "\n",
    "# Combine collected information to a data frame for further downstream analysis.\n",
    "collected_experiment_info = pd.DataFrame({\n",
    "    'Steps performed': num_steps_total,\n",
    "    'Penalties inflicted': num_penalties_total,\n",
    "    'Final reward': final_reward_total\n",
    "})"
   ]
  },
  {
   "cell_type": "code",
   "execution_count": 18,
   "id": "4cb53ac4",
   "metadata": {
    "tags": []
   },
   "outputs": [
    {
     "data": {
      "image/png": "[encoded data removed]",
      "text/plain": [
       "<Figure size 1440x504 with 1 Axes>"
      ]
     },
     "metadata": {
      "needs_background": "light"
     },
     "output_type": "display_data"
    }
   ],
   "source": [
    "# Visualize aggregated results of the Q-table guided search procedure.\n",
    "fig, ax = plt.subplots(figsize=(20, 7))\n",
    "sns.boxplot(data=collected_experiment_info, ax=ax, orient='h')\n",
    "sns.stripplot(data=collected_experiment_info, ax=ax, orient='h', linewidth=1)\n",
    "plt.show()"
   ]
  },
  {
   "cell_type": "markdown",
   "id": "d5c59ddc",
   "metadata": {},
   "source": [
    "<a name=\"reinforcement-learning-tasks-three\"></a><h3 style=\"color:rgb(0,120,170)\">Tasks</h3>\n",
    "    <div class=\"alert alert-warning\">\n",
    "        Execute the notebook until here and try to solve the following tasks:\n",
    "        <ul>\n",
    "            <li>Try to interpret the visualization (e.g. the span of the boxes) and keep in mind, that the <i>x-axis</i> is <i>not</i> scaled logarithmically.</li>\n",
    "            <li>Which kind of information does a <i>Q-table guided search</i> procedure incorporate (in contrast to e.g. a <i>random</i> one)?</li>\n",
    "            <li>Compare the amount of steps performed with the numbers you got from the first task block. What do you observe?</li>\n",
    "        </ul>\n",
    "</div>"
   ]
  }
 ],
 "metadata": {
  "interpreter": {
   "hash": "1067ee20f23cf75b48768bdb5f7ec1d4c21e1831c972d070ed1f98bb55bb7e57"
  },
  "kernelspec": {
   "display_name": "Python 3 (ipykernel)",
   "language": "python",
   "name": "python3"
  },
  "language_info": {
   "codemirror_mode": {
    "name": "ipython",
    "version": 3
   },
   "file_extension": ".py",
   "mimetype": "text/x-python",
   "name": "python",
   "nbconvert_exporter": "python",
   "pygments_lexer": "ipython3",
   "version": "3.10.9"
  }
 },
 "nbformat": 4,
 "nbformat_minor": 5
}
