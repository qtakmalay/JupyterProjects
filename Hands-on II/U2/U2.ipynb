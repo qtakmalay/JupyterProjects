{
 "cells": [
  {
   "cell_type": "markdown",
   "id": "welsh-brave",
   "metadata": {},
   "source": [
    "<h1 style=\"color:rgb(0,120,170)\">Hands-on AI II</h1>\n",
    "<h2 style=\"color:rgb(0,120,170)\">Unit 2 &ndash; The Vanishing Gradient Problem</h2>"
   ]
  },
  {
   "cell_type": "markdown",
   "id": "continued-tourism",
   "metadata": {},
   "source": [
    "<b>Authors:</b> B. Schäfl, S. Lehner, J. Brandstetter, A. Schörgenhumer<br>\n",
    "<b>Date:</b> 21-03-2023\n",
    "\n",
    "This file is part of the \"Hands-on AI II\" lecture material. The following copyright statement applies to all code within this file.\n",
    "\n",
    "<b>Copyright statement:</b><br>\n",
    "This material, no matter whether in printed or electronic form, may be used for personal and non-commercial educational use only. Any reproduction of this material, no matter whether as a whole or in parts, no matter whether in printed or in electronic form, requires explicit prior acceptance of the authors."
   ]
  },
  {
   "cell_type": "markdown",
   "id": "located-innocent",
   "metadata": {},
   "source": [
    "<h2>Table of contents</h2>\n",
    "<ol>\n",
    "    <a href=\"#vanishing-gradient-nutshell\"><li style=\"font-size:large;font-weight:bold\">The Vanishing Gradient Problem in a Nutshell</li></a>\n",
    "    <ol style=\"margin-bottom:15px\">\n",
    "        <a href=\"#disclaimer\"><li style=\"font-size:medium\">Disclaimer</li></a>\n",
    "        <a href=\"#fashion-mnist\"><li style=\"font-size:medium\">Fashion-MNIST</li></a>\n",
    "    </ol>\n",
    "    <a href=\"#training-neural-network\"><li style=\"font-size:large;font-weight:bold\">Training of a Neural Network</li></a>\n",
    "    <ol style=\"margin-bottom:15px\">\n",
    "        <a href=\"#forward-pass\"><li style=\"font-size:medium\">Forward pass</li></a>\n",
    "        <a href=\"#backward-pass\"><li style=\"font-size:medium\">Backward pass</li></a>\n",
    "    </ol>\n",
    "    <a href=\"#logistic-regression\"><li style=\"font-size:large;font-weight:bold\">Vanishing Gradients in Logistic Regression</li></a>\n",
    "    <ol style=\"margin-bottom:15px\">\n",
    "        <a href=\"#adding-hidden-layer-one\"><li style=\"font-size:medium\">Adding a hidden layer</li></a>\n",
    "        <a href=\"#adding-hidden-layer-two\"><li style=\"font-size:medium\">Adding a second hidden layer</li></a>\n",
    "        <a href=\"#adding-hidden-layer-three\"><li style=\"font-size:medium\">Adding a third hidden layer</li></a>\n",
    "        <a href=\"#logistic-regression-gradients\"><li style=\"font-size:medium\">Analyzing gradients</li></a>\n",
    "    </ol>\n",
    "        <a href=\"#vanishing-gradient\"><li style=\"font-size:large;font-weight:bold\">The Vanishing Gradient Problem (Revised)</li></a>\n",
    "    <ol style=\"margin-bottom:15px\">\n",
    "        <a href=\"#vanishing-gradient-culprit\"><li style=\"font-size:medium\">The primary culprit</li></a>\n",
    "        <a href=\"#vanishing-gradient-relu\"><li style=\"font-size:medium\">Rectified linear units to the rescue</li></a>\n",
    "        <a href=\"#training-relu\"><li style=\"font-size:medium\">Training of a ReLU-Network</li></a>\n",
    "    </ol>\n",
    "</ol>"
   ]
  },
  {
   "cell_type": "markdown",
   "id": "systematic-transformation",
   "metadata": {},
   "source": [
    "<h3 style=\"color:rgb(0,120,170)\">How to use this notebook</h3>\n",
    "\n",
    "This notebook is designed to run from start to finish. There are different tasks (displayed in <span style=\"color:rgb(248,138,36)\">orange boxes</span>) which might require small code modifications. Most/All of the used functions are imported from the file <code>u2_utils.py</code> which can be seen and treated as a black box. However, for further understanding, you can look at the implementations of the helper functions. In order to run this notebook, the packages which are imported at the beginning of <code>u2_utils.py</code> need to be installed."
   ]
  },
  {
   "cell_type": "code",
   "execution_count": 1,
   "id": "signal-parish",
   "metadata": {},
   "outputs": [
    {
     "data": {
      "text/html": [
       "\n",
       "    <style>\n",
       "        .output_png {\n",
       "            display: table-cell;\n",
       "            text-align: center;\n",
       "            vertical-align: middle;\n",
       "        }\n",
       "        .jp-RenderedImage {\n",
       "            display: table-cell;\n",
       "            text-align: center;\n",
       "            vertical-align: middle;\n",
       "        }\n",
       "    </style>\n",
       "    <p>Setting up notebook ... finished.</p>\n",
       "    "
      ],
      "text/plain": [
       "<IPython.core.display.HTML object>"
      ]
     },
     "execution_count": 1,
     "metadata": {},
     "output_type": "execute_result"
    }
   ],
   "source": [
    "# Import pre-defined utilities specific to this notebook.\n",
    "import u2_utils as u2\n",
    "\n",
    "# Import additional utilities needed in this notebook.\n",
    "import math\n",
    "import matplotlib.pyplot as plt\n",
    "import numpy as np\n",
    "import pandas as pd\n",
    "import seaborn as sns\n",
    "import torch\n",
    "\n",
    "from typing import Dict, Sequence\n",
    "\n",
    "# Set default plotting style.\n",
    "sns.set()\n",
    "\n",
    "# Setup Jupyter notebook (warning: this may affect all Jupyter notebooks running on the same Jupyter server).\n",
    "u2.setup_jupyter()"
   ]
  },
  {
   "cell_type": "markdown",
   "id": "indirect-china",
   "metadata": {},
   "source": [
    "<h3 style=\"color:rgb(0,120,170)\">Module versions</h3>\n",
    "\n",
    "As mentioned in the introductory slides, specific minimum versions of Python itself as well as of used modules are recommended."
   ]
  },
  {
   "cell_type": "code",
   "execution_count": 2,
   "id": "psychological-margin",
   "metadata": {},
   "outputs": [
    {
     "name": "stdout",
     "output_type": "stream",
     "text": [
      "Installed Python version: 3.9 (✓)\n",
      "Installed numpy version: 1.24.2 (✓)\n",
      "Installed pandas version: 1.5.3 (✓)\n",
      "Installed PyTorch version: 1.13.1+cu117 (✓)\n",
      "Installed scikit-learn version: 1.2.2 (✓)\n",
      "Installed matplotlib version: 3.7.1 (✓)\n",
      "Installed seaborn version: 0.12.2 (✓)\n"
     ]
    }
   ],
   "source": [
    "u2.check_module_versions()"
   ]
  },
  {
   "cell_type": "markdown",
   "id": "retained-affairs",
   "metadata": {},
   "source": [
    "<a name=\"vanishing-gradient-nutshell\"></a><h2>The Vanishing Gradient Problem in a Nutshell</h2>\n",
    "<p>In Machine Learning, and especially in Deep Learning, the <i>Vanishing Gradient Problem</i> is often observed when training neural networks with <i>gradient descent by backpropagation</i>. The weights of a neural network receive an update proportional to the <i>partial derivative</i> of the error function with respect to themselves. In some specific cases, however, the gradient will be vanishingly small, effectively preventing the weights from adapting their value. In the worst case, this may completely stop a neural network from further training.</p>\n",
    "    \n",
    "<p>As prominent examples, traditional activation functions such as the <i>sigmoid</i> function or the <i>hyperbolic tangent</i> function have gradients in the range of $(0; 0.25]$ and $\\left(0; 1\\right)$, respectively. Gradient descent by backpropagation computes the gradients by the chain rule, hence this effectively <i>multiplies many small numbers</i> to compute gradients of the first layers in a network. As a result, the gradient (error signal) decreases exponentially and the first layers adapt very slowly &ndash; if at all.</p>\n",
    "\n",
    "<p>Hochreiter's diploma thesis of 1991 formally identified the reason for this failure in the <i>Vanishing Gradient Problem</i>, which not only affects many-layered feedforward networks, but also recurrent networks.</p>\n",
    "<center><cite>Untersuchungen zu dynamischen neuronalen Netzen. Sepp Hochreiter. Master's thesis, Institut fur Informatik, Technische Universität, München</cite></center>"
   ]
  },
  {
   "cell_type": "markdown",
   "id": "amateur-locator",
   "metadata": {},
   "source": [
    "<a name=\"disclaimer\"></a><h3 style=\"color:rgb(0,120,170)\">Disclaimer</h3>\n",
    "<p>The neural networks applied in this unit are not targeted to deliver highest performance but to elaborate on the understanding of the <i>Vanishing Gradient Problem</i>. Moreover, you'll be working with data sets already known to you, as this shifts the focus away from a possible unknown data source towards the gist of this unit: understandind the gradient flow in neural networks.</p>"
   ]
  },
  {
   "cell_type": "markdown",
   "id": "adolescent-spice",
   "metadata": {},
   "source": [
    "<a name=\"fashion-mnist\"></a><h3 style=\"color:rgb(0,120,170)\">Fashion-MNIST</h3>\n",
    "<p>Starting from this section, you will be working with a data set composed of various <i>images</i> of fashion items (e.g., shoes or shirts). You should already be familiar with it, if not, the data set distinguishes <i>ten</i> different classes, one for each type of fashion item. For curious minds, more information regarding this data set can be found at:\n",
    "\n",
    "<center><cite>Fashion-MNIST: a Novel Image Dataset for Benchmarking Machine Learning Algorithms. Han Xiao, Kashif Rasul, Roland Vollgraf. arXiv:1708.07747</cite></center>\n",
    "\n",
    "Summarizing, the popular Fashion-MNIST data set contains grayscale images of  $n=70000$ different fashion items from ten different classes, namely:</p>\n",
    "\n",
    "| Target   | Name        | Examples                                                  |\n",
    "|:--------:|:-----------:|:---------------------------------------------------------:|\n",
    "| 0        | T-shirt/top | ![Image not found!](resources/fashion_mnist_sprite_0.png) |\n",
    "| 1        | Trouser     | ![Image not found!](resources/fashion_mnist_sprite_1.png) |\n",
    "| 2        | Pullover    | ![Image not found!](resources/fashion_mnist_sprite_2.png) |\n",
    "| 3        | Dress       | ![Image not found!](resources/fashion_mnist_sprite_3.png) |\n",
    "| 4        | Coat        | ![Image not found!](resources/fashion_mnist_sprite_4.png) |\n",
    "| 5        | Sandal      | ![Image not found!](resources/fashion_mnist_sprite_5.png) |\n",
    "| 6        | Shirt       | ![Image not found!](resources/fashion_mnist_sprite_6.png) |\n",
    "| 7        | Sneaker     | ![Image not found!](resources/fashion_mnist_sprite_7.png) |\n",
    "| 8        | Bag         | ![Image not found!](resources/fashion_mnist_sprite_8.png) |\n",
    "| 9        | Ankle boot  | ![Image not found!](resources/fashion_mnist_sprite_9.png) |\n",
    "\n",
    "<p>Below you can see a table with all $70000$ samples (we start to count at 0). Remember, tabular data can have columns in various data types. In our case, the $784$ features (the pixels) are given in floating point numbers (recall <i>primitive data types</i>). We would refer to the fashion item type as a <i>label</i>, <i>target</i> or <i>class</i> rather than a feature, because we want to predict the fashion item type using all the (pixel) features.</p>"
   ]
  },
  {
   "cell_type": "code",
   "execution_count": 3,
   "id": "different-corrections",
   "metadata": {},
   "outputs": [
    {
     "data": {
      "text/html": [
       "<div>\n",
       "<style scoped>\n",
       "    .dataframe tbody tr th:only-of-type {\n",
       "        vertical-align: middle;\n",
       "    }\n",
       "\n",
       "    .dataframe tbody tr th {\n",
       "        vertical-align: top;\n",
       "    }\n",
       "\n",
       "    .dataframe thead th {\n",
       "        text-align: right;\n",
       "    }\n",
       "</style>\n",
       "<table border=\"1\" class=\"dataframe\">\n",
       "  <thead>\n",
       "    <tr style=\"text-align: right;\">\n",
       "      <th></th>\n",
       "      <th>pixel1</th>\n",
       "      <th>pixel2</th>\n",
       "      <th>pixel3</th>\n",
       "      <th>pixel4</th>\n",
       "      <th>pixel5</th>\n",
       "      <th>pixel6</th>\n",
       "      <th>pixel7</th>\n",
       "      <th>pixel8</th>\n",
       "      <th>pixel9</th>\n",
       "      <th>pixel10</th>\n",
       "      <th>...</th>\n",
       "      <th>pixel776</th>\n",
       "      <th>pixel777</th>\n",
       "      <th>pixel778</th>\n",
       "      <th>pixel779</th>\n",
       "      <th>pixel780</th>\n",
       "      <th>pixel781</th>\n",
       "      <th>pixel782</th>\n",
       "      <th>pixel783</th>\n",
       "      <th>pixel784</th>\n",
       "      <th>item_type</th>\n",
       "    </tr>\n",
       "  </thead>\n",
       "  <tbody>\n",
       "    <tr>\n",
       "      <th>0</th>\n",
       "      <td>0.0</td>\n",
       "      <td>0.0</td>\n",
       "      <td>0.0</td>\n",
       "      <td>0.0</td>\n",
       "      <td>0.0</td>\n",
       "      <td>0.0</td>\n",
       "      <td>0.0</td>\n",
       "      <td>0.0</td>\n",
       "      <td>0.0</td>\n",
       "      <td>0.0</td>\n",
       "      <td>...</td>\n",
       "      <td>0.0</td>\n",
       "      <td>0.0</td>\n",
       "      <td>0.0</td>\n",
       "      <td>0.0</td>\n",
       "      <td>0.0</td>\n",
       "      <td>0.0</td>\n",
       "      <td>0.0</td>\n",
       "      <td>0.0</td>\n",
       "      <td>0.0</td>\n",
       "      <td>9</td>\n",
       "    </tr>\n",
       "    <tr>\n",
       "      <th>1</th>\n",
       "      <td>0.0</td>\n",
       "      <td>0.0</td>\n",
       "      <td>0.0</td>\n",
       "      <td>0.0</td>\n",
       "      <td>0.0</td>\n",
       "      <td>1.0</td>\n",
       "      <td>0.0</td>\n",
       "      <td>0.0</td>\n",
       "      <td>0.0</td>\n",
       "      <td>0.0</td>\n",
       "      <td>...</td>\n",
       "      <td>114.0</td>\n",
       "      <td>130.0</td>\n",
       "      <td>76.0</td>\n",
       "      <td>0.0</td>\n",
       "      <td>0.0</td>\n",
       "      <td>0.0</td>\n",
       "      <td>0.0</td>\n",
       "      <td>0.0</td>\n",
       "      <td>0.0</td>\n",
       "      <td>0</td>\n",
       "    </tr>\n",
       "    <tr>\n",
       "      <th>2</th>\n",
       "      <td>0.0</td>\n",
       "      <td>0.0</td>\n",
       "      <td>0.0</td>\n",
       "      <td>0.0</td>\n",
       "      <td>0.0</td>\n",
       "      <td>0.0</td>\n",
       "      <td>0.0</td>\n",
       "      <td>0.0</td>\n",
       "      <td>0.0</td>\n",
       "      <td>22.0</td>\n",
       "      <td>...</td>\n",
       "      <td>0.0</td>\n",
       "      <td>1.0</td>\n",
       "      <td>0.0</td>\n",
       "      <td>0.0</td>\n",
       "      <td>0.0</td>\n",
       "      <td>0.0</td>\n",
       "      <td>0.0</td>\n",
       "      <td>0.0</td>\n",
       "      <td>0.0</td>\n",
       "      <td>0</td>\n",
       "    </tr>\n",
       "    <tr>\n",
       "      <th>3</th>\n",
       "      <td>0.0</td>\n",
       "      <td>0.0</td>\n",
       "      <td>0.0</td>\n",
       "      <td>0.0</td>\n",
       "      <td>0.0</td>\n",
       "      <td>0.0</td>\n",
       "      <td>0.0</td>\n",
       "      <td>0.0</td>\n",
       "      <td>33.0</td>\n",
       "      <td>96.0</td>\n",
       "      <td>...</td>\n",
       "      <td>0.0</td>\n",
       "      <td>0.0</td>\n",
       "      <td>0.0</td>\n",
       "      <td>0.0</td>\n",
       "      <td>0.0</td>\n",
       "      <td>0.0</td>\n",
       "      <td>0.0</td>\n",
       "      <td>0.0</td>\n",
       "      <td>0.0</td>\n",
       "      <td>3</td>\n",
       "    </tr>\n",
       "    <tr>\n",
       "      <th>4</th>\n",
       "      <td>0.0</td>\n",
       "      <td>0.0</td>\n",
       "      <td>0.0</td>\n",
       "      <td>0.0</td>\n",
       "      <td>0.0</td>\n",
       "      <td>0.0</td>\n",
       "      <td>0.0</td>\n",
       "      <td>0.0</td>\n",
       "      <td>0.0</td>\n",
       "      <td>0.0</td>\n",
       "      <td>...</td>\n",
       "      <td>0.0</td>\n",
       "      <td>0.0</td>\n",
       "      <td>0.0</td>\n",
       "      <td>0.0</td>\n",
       "      <td>0.0</td>\n",
       "      <td>0.0</td>\n",
       "      <td>0.0</td>\n",
       "      <td>0.0</td>\n",
       "      <td>0.0</td>\n",
       "      <td>0</td>\n",
       "    </tr>\n",
       "    <tr>\n",
       "      <th>...</th>\n",
       "      <td>...</td>\n",
       "      <td>...</td>\n",
       "      <td>...</td>\n",
       "      <td>...</td>\n",
       "      <td>...</td>\n",
       "      <td>...</td>\n",
       "      <td>...</td>\n",
       "      <td>...</td>\n",
       "      <td>...</td>\n",
       "      <td>...</td>\n",
       "      <td>...</td>\n",
       "      <td>...</td>\n",
       "      <td>...</td>\n",
       "      <td>...</td>\n",
       "      <td>...</td>\n",
       "      <td>...</td>\n",
       "      <td>...</td>\n",
       "      <td>...</td>\n",
       "      <td>...</td>\n",
       "      <td>...</td>\n",
       "      <td>...</td>\n",
       "    </tr>\n",
       "    <tr>\n",
       "      <th>69995</th>\n",
       "      <td>0.0</td>\n",
       "      <td>0.0</td>\n",
       "      <td>0.0</td>\n",
       "      <td>0.0</td>\n",
       "      <td>0.0</td>\n",
       "      <td>0.0</td>\n",
       "      <td>0.0</td>\n",
       "      <td>0.0</td>\n",
       "      <td>0.0</td>\n",
       "      <td>0.0</td>\n",
       "      <td>...</td>\n",
       "      <td>0.0</td>\n",
       "      <td>0.0</td>\n",
       "      <td>0.0</td>\n",
       "      <td>0.0</td>\n",
       "      <td>0.0</td>\n",
       "      <td>0.0</td>\n",
       "      <td>0.0</td>\n",
       "      <td>0.0</td>\n",
       "      <td>0.0</td>\n",
       "      <td>9</td>\n",
       "    </tr>\n",
       "    <tr>\n",
       "      <th>69996</th>\n",
       "      <td>0.0</td>\n",
       "      <td>0.0</td>\n",
       "      <td>0.0</td>\n",
       "      <td>0.0</td>\n",
       "      <td>0.0</td>\n",
       "      <td>0.0</td>\n",
       "      <td>0.0</td>\n",
       "      <td>0.0</td>\n",
       "      <td>0.0</td>\n",
       "      <td>31.0</td>\n",
       "      <td>...</td>\n",
       "      <td>0.0</td>\n",
       "      <td>0.0</td>\n",
       "      <td>0.0</td>\n",
       "      <td>0.0</td>\n",
       "      <td>0.0</td>\n",
       "      <td>0.0</td>\n",
       "      <td>0.0</td>\n",
       "      <td>0.0</td>\n",
       "      <td>0.0</td>\n",
       "      <td>1</td>\n",
       "    </tr>\n",
       "    <tr>\n",
       "      <th>69997</th>\n",
       "      <td>0.0</td>\n",
       "      <td>0.0</td>\n",
       "      <td>0.0</td>\n",
       "      <td>0.0</td>\n",
       "      <td>0.0</td>\n",
       "      <td>0.0</td>\n",
       "      <td>0.0</td>\n",
       "      <td>0.0</td>\n",
       "      <td>0.0</td>\n",
       "      <td>0.0</td>\n",
       "      <td>...</td>\n",
       "      <td>0.0</td>\n",
       "      <td>0.0</td>\n",
       "      <td>0.0</td>\n",
       "      <td>0.0</td>\n",
       "      <td>0.0</td>\n",
       "      <td>0.0</td>\n",
       "      <td>0.0</td>\n",
       "      <td>0.0</td>\n",
       "      <td>0.0</td>\n",
       "      <td>8</td>\n",
       "    </tr>\n",
       "    <tr>\n",
       "      <th>69998</th>\n",
       "      <td>0.0</td>\n",
       "      <td>0.0</td>\n",
       "      <td>0.0</td>\n",
       "      <td>0.0</td>\n",
       "      <td>0.0</td>\n",
       "      <td>0.0</td>\n",
       "      <td>0.0</td>\n",
       "      <td>0.0</td>\n",
       "      <td>0.0</td>\n",
       "      <td>0.0</td>\n",
       "      <td>...</td>\n",
       "      <td>0.0</td>\n",
       "      <td>0.0</td>\n",
       "      <td>0.0</td>\n",
       "      <td>0.0</td>\n",
       "      <td>0.0</td>\n",
       "      <td>0.0</td>\n",
       "      <td>0.0</td>\n",
       "      <td>0.0</td>\n",
       "      <td>0.0</td>\n",
       "      <td>1</td>\n",
       "    </tr>\n",
       "    <tr>\n",
       "      <th>69999</th>\n",
       "      <td>0.0</td>\n",
       "      <td>0.0</td>\n",
       "      <td>0.0</td>\n",
       "      <td>0.0</td>\n",
       "      <td>0.0</td>\n",
       "      <td>0.0</td>\n",
       "      <td>0.0</td>\n",
       "      <td>0.0</td>\n",
       "      <td>0.0</td>\n",
       "      <td>0.0</td>\n",
       "      <td>...</td>\n",
       "      <td>0.0</td>\n",
       "      <td>0.0</td>\n",
       "      <td>0.0</td>\n",
       "      <td>0.0</td>\n",
       "      <td>0.0</td>\n",
       "      <td>0.0</td>\n",
       "      <td>0.0</td>\n",
       "      <td>0.0</td>\n",
       "      <td>0.0</td>\n",
       "      <td>5</td>\n",
       "    </tr>\n",
       "  </tbody>\n",
       "</table>\n",
       "<p>70000 rows × 785 columns</p>\n",
       "</div>"
      ],
      "text/plain": [
       "       pixel1  pixel2  pixel3  pixel4  pixel5  pixel6  pixel7  pixel8  pixel9  \\\n",
       "0         0.0     0.0     0.0     0.0     0.0     0.0     0.0     0.0     0.0   \n",
       "1         0.0     0.0     0.0     0.0     0.0     1.0     0.0     0.0     0.0   \n",
       "2         0.0     0.0     0.0     0.0     0.0     0.0     0.0     0.0     0.0   \n",
       "3         0.0     0.0     0.0     0.0     0.0     0.0     0.0     0.0    33.0   \n",
       "4         0.0     0.0     0.0     0.0     0.0     0.0     0.0     0.0     0.0   \n",
       "...       ...     ...     ...     ...     ...     ...     ...     ...     ...   \n",
       "69995     0.0     0.0     0.0     0.0     0.0     0.0     0.0     0.0     0.0   \n",
       "69996     0.0     0.0     0.0     0.0     0.0     0.0     0.0     0.0     0.0   \n",
       "69997     0.0     0.0     0.0     0.0     0.0     0.0     0.0     0.0     0.0   \n",
       "69998     0.0     0.0     0.0     0.0     0.0     0.0     0.0     0.0     0.0   \n",
       "69999     0.0     0.0     0.0     0.0     0.0     0.0     0.0     0.0     0.0   \n",
       "\n",
       "       pixel10  ...  pixel776  pixel777  pixel778  pixel779  pixel780  \\\n",
       "0          0.0  ...       0.0       0.0       0.0       0.0       0.0   \n",
       "1          0.0  ...     114.0     130.0      76.0       0.0       0.0   \n",
       "2         22.0  ...       0.0       1.0       0.0       0.0       0.0   \n",
       "3         96.0  ...       0.0       0.0       0.0       0.0       0.0   \n",
       "4          0.0  ...       0.0       0.0       0.0       0.0       0.0   \n",
       "...        ...  ...       ...       ...       ...       ...       ...   \n",
       "69995      0.0  ...       0.0       0.0       0.0       0.0       0.0   \n",
       "69996     31.0  ...       0.0       0.0       0.0       0.0       0.0   \n",
       "69997      0.0  ...       0.0       0.0       0.0       0.0       0.0   \n",
       "69998      0.0  ...       0.0       0.0       0.0       0.0       0.0   \n",
       "69999      0.0  ...       0.0       0.0       0.0       0.0       0.0   \n",
       "\n",
       "       pixel781  pixel782  pixel783  pixel784  item_type  \n",
       "0           0.0       0.0       0.0       0.0          9  \n",
       "1           0.0       0.0       0.0       0.0          0  \n",
       "2           0.0       0.0       0.0       0.0          0  \n",
       "3           0.0       0.0       0.0       0.0          3  \n",
       "4           0.0       0.0       0.0       0.0          0  \n",
       "...         ...       ...       ...       ...        ...  \n",
       "69995       0.0       0.0       0.0       0.0          9  \n",
       "69996       0.0       0.0       0.0       0.0          1  \n",
       "69997       0.0       0.0       0.0       0.0          8  \n",
       "69998       0.0       0.0       0.0       0.0          1  \n",
       "69999       0.0       0.0       0.0       0.0          5  \n",
       "\n",
       "[70000 rows x 785 columns]"
      ]
     },
     "execution_count": 3,
     "metadata": {},
     "output_type": "execute_result"
    }
   ],
   "source": [
    "data_fashion_mnist = u2.load_fashion_mnist()\n",
    "data_fashion_mnist"
   ]
  },
  {
   "cell_type": "markdown",
   "id": "retained-minnesota",
   "metadata": {},
   "source": [
    "<p>Before we can start with analyzing the gradient flow of a neural network, we have to split our data set into a <i>training set</i> and into a <i>test set</i>. The procedure was discussed during the last unit, so more information may be found in the accompanying lecture notes.\n",
    "\n",
    "<p>We now divide the data set between the training set and the test set in a ratio of $2:1$. Note that the train-test split is performed randomly meaning that by execution of the command, the chance that a sample lands in the training (test) set is a prior given by the split ratio. Therefore, we will hardly obtain the same training (test) data set again using a different random seed.</p>"
   ]
  },
  {
   "cell_type": "code",
   "execution_count": 4,
   "id": "canadian-ribbon",
   "metadata": {},
   "outputs": [
    {
     "name": "stdout",
     "output_type": "stream",
     "text": [
      "  Full data set is of size: 70000\n",
      "Training subset is of size: 46666\n",
      " Testing subset is of size: 23334\n"
     ]
    }
   ],
   "source": [
    "# Set random seed for reproducibility.\n",
    "u2.set_seed(0)\n",
    "\n",
    "# Split the Fashion-MNIST data set into training as well as test set and print their respective size.\n",
    "data_fashion_mnist_train, data_fashion_mnist_test = u2.split_data(data_fashion_mnist, test_size=1.0 / 3.0)\n",
    "print(f'  Full data set is of size: {data_fashion_mnist.shape[0]:>5}')\n",
    "print(f'Training subset is of size: {data_fashion_mnist_train.shape[0]:>5}')\n",
    "print(f' Testing subset is of size: {data_fashion_mnist_test.shape[0]:>5}')"
   ]
  },
  {
   "cell_type": "markdown",
   "id": "mexican-wound",
   "metadata": {},
   "source": [
    "<p>Before actually training a neural network on Fashion-MNIST data for a gradient-flow analysis, we have to pre-process the images in order to have them in the correct shape. For this very purpose, we are creating two <code>TensorDataset</code> instances, which are encapsulated in a separate <code>Dataloader</code> instance for the <i>training</i> as well as <i>test</i> data set.</p>\n",
    "\n",
    "<p>As the definitions of <code>loader_fashion_mnist_train</code> and <code>loader_fashion_mnist_test</code> might be a little bit intimidating at a first glance, it is always a good idea to keep an eye on the corresponding documentation – <a href=\"https://pytorch.org/docs/stable/data.html?highlight=tensordataset#torch.utils.data.TensorDataset\">TensorDataset</a> and <a href=\"https://pytorch.org/docs/stable/data.html?highlight=dataloader#torch.utils.data.DataLoader\">DataLoader</a>.</p>"
   ]
  },
  {
   "cell_type": "code",
   "execution_count": 5,
   "id": "italic-objective",
   "metadata": {},
   "outputs": [],
   "source": [
    "# Create data loader for iterating the Fashion-MNIST training data set.\n",
    "loader_fashion_mnist_train = torch.utils.data.DataLoader(\n",
    "    dataset=torch.utils.data.TensorDataset(\n",
    "        torch.from_numpy(data_fashion_mnist_train.drop(columns=['item_type']).values / 255),  # normalize to range [0; 1]\n",
    "        torch.from_numpy(data_fashion_mnist_train['item_type'].values)\n",
    "    ),\n",
    "    batch_size=128,\n",
    "    shuffle=True\n",
    ")\n",
    "\n",
    "# Create data loader for iterating the Fashion-MNIST test data set.\n",
    "loader_fashion_mnist_test = torch.utils.data.DataLoader(\n",
    "    dataset=torch.utils.data.TensorDataset(\n",
    "        torch.from_numpy(data_fashion_mnist_test.drop(columns=['item_type']).values / 255),  # normalize to range [0; 1]\n",
    "        torch.from_numpy(data_fashion_mnist_test['item_type'].values)\n",
    "    ),\n",
    "    batch_size=128,\n",
    "    shuffle=False\n",
    ")"
   ]
  },
  {
   "cell_type": "markdown",
   "id": "activated-episode",
   "metadata": {},
   "source": [
    "<a name=\"training-neural-network\"></a><h2>Training of a Neural Network</h2>\n",
    "<p>We feed the input vector $\\mathbf{x}_i$ ($28\\times{}28 = 784$ pixels) into the neural network (NN) and receive the output NN($\\mathbf{x}_i; \\mathbf{W}) = \\hat{y}$. In this case, the output is a vector with $K = 10$ entries. Using the softmax function, for the 10 classes $y \\in {0, \\ldots, 9}$, the entries are the probabilities of NN($\\mathbf{x}_i; \\mathbf{W}$) belonging to class $k$:</p>\n",
    "\n",
    "<p>\n",
    "    \\begin{equation}\n",
    "        p(y=k|\\mathbf{x}_i) = \\frac{e^{\\text{NN}_k(\\mathbf{x}_i;\\mathbf{W})}}{\\sum_{K} e^{\\text{NN}_j(\\mathbf{x}_i;\\mathbf{W})}}\n",
    "    \\end{equation}\n",
    "</p>"
   ]
  },
  {
   "cell_type": "markdown",
   "id": "little-savings",
   "metadata": {},
   "source": [
    "<a name=\"forward-pass\"></a><h3 style=\"color:rgb(0,120,170)\">Forward pass</h3>\n",
    "<img src=\"resources/forward.gif\" alt=\"Image not found!\"/>"
   ]
  },
  {
   "cell_type": "markdown",
   "id": "compact-sleeping",
   "metadata": {},
   "source": [
    "<p>Neural networks are nested structures, and can therefore be written down as a nested formula – although graphical representations, like the ones in this section, often help to better grasp what is going on. Nonetheless, the neural network, as depicted above, can be represented by:\n",
    "<center>\n",
    "    \\begin{equation}\n",
    "        \\hat{y} = g\\left(h^{(3)}(h^{(2)}(h^{(1)}(\\mathbf{x};\\mathbf{W}_1);\\mathbf{W}_2);\\mathbf{W}_3);\\mathbf{W}_4 \\right )\n",
    "    \\end{equation}\n",
    "</center>\n",
    "\n",
    "The graphical representation below depicts the computation of a fully connected layer – in this case, the <i>input</i> layer (bias not shown for simplicity reasons):</p>\n",
    "\n",
    "<table>\n",
    "    <td><img src=\"resources/forward_layers.png\" alt=\"Image not found!\"/></td>\n",
    "    <td><img src=\"resources/forward_matrices.png\" alt=\"Image not found!\"/></td>\n",
    "</table>"
   ]
  },
  {
   "cell_type": "markdown",
   "id": "grateful-offer",
   "metadata": {},
   "source": [
    "<a name=\"backward-pass\"></a><h3 style=\"color:rgb(0,120,170)\">Backward pass</h3>\n",
    "<p>We want $\\hat{y}$ to be as close as possible to the true target value $y$. Hence, we apply a loss function $L(y,\\hat{y})$ to measure how close our predictions $\\hat{y}$ are to the true target $y$. Generally speaking, the smaller the loss, the better the prediction. To compute the gradients with respect to all parameters of the network, the error gets backpropagated from the network output (or from the corresponding loss function, to be precise) to the input by application of the <i>chain rule</i>:\n",
    "\n",
    "<center>\n",
    "    \\begin{align*}\n",
    "        \\mathbf{W}_4 & \\leftarrow \\mathbf{W}_4 - \\eta \\frac{\\partial L}{\\partial \\mathbf{W}_4} \\\\\n",
    "        \\mathbf{W}_3 & \\leftarrow \\mathbf{W}_3 - \\eta \\frac{\\partial L}{\\partial h^{(3)}}\\frac{\\partial h^{(3)}}{\\partial \\mathbf{W}_3} \\\\\n",
    "        \\mathbf{W}_2 & \\leftarrow \\mathbf{W}_2 - \\eta \\frac{\\partial L}{\\partial h^{(3)}}\\frac{\\partial h^{(3)}}{\\partial h^{(2)}}\\frac{\\partial h^{(2)}}{\\partial \\mathbf{W}_2} \\\\\n",
    "        \\mathbf{W}_1 & \\leftarrow \\mathbf{W}_1 - \\eta \\frac{\\partial L}{\\partial h^{(3)}}\\frac{\\partial h^{(3)}}{\\partial h^{(2)}}\\frac{\\partial h^{(2)}}{\\partial h^{(1)}}\\frac{\\partial h^{(1)}}{\\partial \\mathbf{W}_1}\n",
    "    \\end{align*}\n",
    "</center>\n",
    "    \n",
    "The graphical representation below depicts the flow of the error singal through the network – starting at the output and directed to the input.</p>\n",
    "\n",
    "<img src=\"resources/backward.gif\" alt=\"Image not found!\"/>"
   ]
  },
  {
   "cell_type": "markdown",
   "id": "burning-patrol",
   "metadata": {},
   "source": [
    "<a name=\"logistic-regression\"></a><h2>Vanishing Gradients in Logistic Regression</h2>\n",
    "<p>As discussed in Hands-on AI I, <i>Logistic Regression</i> is a relatively simple model. It consists of only one weight matrix $\\mathbf{W}$ which maps the input vector to the pre-activated output. In the simplest case, the pre-activated output is activated by a <i>logistic function</i> (hence the name), often simply termed <i>sigmoid</i>.</p>\n",
    "\n",
    "<p><b>Note: In the following code snippets, you do not have to worry about the activation function in the output layer and also not about the loss function. Both are handled internally in the <code>u2_utils.py</code> file for numerical stability. Please keep in mind, if there are <i>multiple</i> classes (more than <i>two</i>) like in the Fashion-MNIST data set, it is sometimes called <i>Softmax Regression</i> since the logistic function at the output is replaced by the <i>softmax</i> function.</b></p>"
   ]
  },
  {
   "cell_type": "code",
   "execution_count": 6,
   "id": "atlantic-citation",
   "metadata": {},
   "outputs": [],
   "source": [
    "def train_and_evaluate(model: torch.nn.Module, optimizer: torch.optim.Optimizer, num_epochs: int,\n",
    "                       loader_train: torch.utils.data.DataLoader, loader_test: torch.utils.data.DataLoader,\n",
    "                       device: torch.device = torch.device('cuda' if torch.cuda.is_available() else 'cpu')) -> None:\n",
    "    \"\"\"\n",
    "    Auxiliary function for training and evaluating a corresponding model.\n",
    "    \n",
    "    :param model: model instance to train and evaluate\n",
    "    :param optimizer: optimizer to use for model training\n",
    "    :param num_epochs: amount of epochs for model training\n",
    "    :param loader_train: data loader supplying the training samples\n",
    "    :param loader_test: data loader supplying the test samples\n",
    "    :param device: device to use for model training and evaluation\n",
    "    \"\"\"\n",
    "    model.to(device)\n",
    "    \n",
    "    for epoch in range(num_epochs):\n",
    "        # Train model instance for one epoch.\n",
    "        u2.train_network(\n",
    "            model=model,\n",
    "            data_loader=loader_train,\n",
    "            device=device,\n",
    "            optimizer=optimizer\n",
    "        )\n",
    "\n",
    "        # Evaluate current model instance.\n",
    "        performance = u2.test_network(\n",
    "            model=model,\n",
    "            data_loader=loader_train,\n",
    "            device=device\n",
    "        )\n",
    "\n",
    "        # Print result of current epoch to standard out.\n",
    "        print(f'Epoch: {str(epoch + 1).zfill(len(str(num_epochs)))} ' +\n",
    "              f'/ Train loss: {performance[0]:.4f} / Train accuracy: {performance[1]:.4f}')\n",
    "\n",
    "    # Evaluate final model on test data set.\n",
    "    performance = u2.test_network(model=model, data_loader=loader_test, device=device)\n",
    "    print(f'\\nTest loss: {performance[0]:.4f} / Test accuracy: {performance[1]:.4f}')"
   ]
  },
  {
   "cell_type": "markdown",
   "id": "weighted-consumer",
   "metadata": {},
   "source": [
    "After defining an auxiliary function for training and evaluating a specified model (we will use this functionality more often in this unit, hence separating it in a corresponding function does make sense), we will create and train a <i>single layer</i> logistic regression model (0 hidden layers)."
   ]
  },
  {
   "cell_type": "code",
   "execution_count": 7,
   "id": "compound-ensemble",
   "metadata": {},
   "outputs": [],
   "source": [
    "class LogisticRegression0H(torch.nn.Module):\n",
    "    \"\"\"\n",
    "    Logistic regression tailored to process Fashion-MNIST data.\n",
    "    \"\"\"\n",
    "    \n",
    "    def __init__(self):\n",
    "        super().__init__()\n",
    "        self.fc1 = torch.nn.Linear(28 * 28, 10)\n",
    "\n",
    "    def forward(self, x: torch.Tensor) -> torch.Tensor:\n",
    "        return self.fc1(x)"
   ]
  },
  {
   "cell_type": "code",
   "execution_count": 8,
   "id": "gothic-yorkshire",
   "metadata": {},
   "outputs": [
    {
     "name": "stdout",
     "output_type": "stream",
     "text": [
      "LogisticRegression0H(\n",
      "  (fc1): Linear(in_features=784, out_features=10, bias=True)\n",
      ")\n"
     ]
    }
   ],
   "source": [
    "# Set random seed for reproducibility.\n",
    "u2.set_seed(0)\n",
    "\n",
    "# Create LogisticRegression instance and the corresponding optimizer to use.\n",
    "logistic_regression_model = LogisticRegression0H()\n",
    "optimizer = torch.optim.SGD(logistic_regression_model.parameters(), lr=1e-3)\n",
    "\n",
    "# Show the architecture of the logistic regression model.\n",
    "print(logistic_regression_model)"
   ]
  },
  {
   "cell_type": "code",
   "execution_count": 9,
   "id": "charitable-heath",
   "metadata": {},
   "outputs": [
    {
     "name": "stdout",
     "output_type": "stream",
     "text": [
      "Epoch: 1 / Train loss: 0.0137 / Train accuracy: 0.5776\n",
      "Epoch: 2 / Train loss: 0.0114 / Train accuracy: 0.6449\n",
      "Epoch: 3 / Train loss: 0.0101 / Train accuracy: 0.6591\n",
      "\n",
      "Test loss: 0.0102 / Test accuracy: 0.6512\n"
     ]
    }
   ],
   "source": [
    "# Set random seed for reproducibility.\n",
    "u2.set_seed(0)\n",
    "\n",
    "# Train and evaluate LogisticRegression instance on the Fashion-MNIST training set.\n",
    "train_and_evaluate(\n",
    "    model=logistic_regression_model,\n",
    "    optimizer=optimizer,\n",
    "    num_epochs=3,\n",
    "    loader_train=loader_fashion_mnist_train,\n",
    "    loader_test=loader_fashion_mnist_test\n",
    ")"
   ]
  },
  {
   "cell_type": "markdown",
   "id": "heated-prime",
   "metadata": {},
   "source": [
    "<a name=\"adding-hidden-layer-one\"></a><h3 style=\"color:rgb(0,120,170)\">Adding a hidden layer</h3>\n",
    "Common knowledge suggests to add a fully connected layer as a hidden one to increase the performance of the network. Hence, we are rewriting the previous implementation of <code>LogisticRegression</code> to include said hidden layer – for simplicity, the amount of output neurons of the input layer should be the same as its input size (this results in a <i>square</i> weight matrix)."
   ]
  },
  {
   "cell_type": "code",
   "execution_count": 10,
   "id": "configured-flash",
   "metadata": {},
   "outputs": [],
   "source": [
    "class LogisticRegression1H(torch.nn.Module):\n",
    "    \"\"\"\n",
    "    Logistic regression tailored to process Fashion-MNIST data.\n",
    "    \"\"\"\n",
    "    \n",
    "    def __init__(self):\n",
    "        super().__init__()\n",
    "        self.fc1 = torch.nn.Linear(28 * 28, 28 * 28)\n",
    "        self.ac1 = torch.nn.Sigmoid()\n",
    "        self.fc2 = torch.nn.Linear(self.fc1.out_features, 10)\n",
    "\n",
    "    def forward(self, x: torch.Tensor) -> torch.Tensor:\n",
    "        x = self.fc1(x)\n",
    "        x = self.ac1(x)\n",
    "        return self.fc2(x)"
   ]
  },
  {
   "cell_type": "code",
   "execution_count": 11,
   "id": "infrared-segment",
   "metadata": {},
   "outputs": [
    {
     "name": "stdout",
     "output_type": "stream",
     "text": [
      "LogisticRegression1H(\n",
      "  (fc1): Linear(in_features=784, out_features=784, bias=True)\n",
      "  (ac1): Sigmoid()\n",
      "  (fc2): Linear(in_features=784, out_features=10, bias=True)\n",
      ")\n"
     ]
    }
   ],
   "source": [
    "# Set random seed for reproducibility.\n",
    "u2.set_seed(0)\n",
    "\n",
    "# Create LogisticRegression instance and the corresponding optimizer to use.\n",
    "logistic_regression_model = LogisticRegression1H()\n",
    "optimizer = torch.optim.SGD(logistic_regression_model.parameters(), lr=1e-3)\n",
    "\n",
    "# Show the architecture of the logistic regression model.\n",
    "print(logistic_regression_model)"
   ]
  },
  {
   "cell_type": "code",
   "execution_count": 12,
   "id": "shaped-inflation",
   "metadata": {},
   "outputs": [
    {
     "name": "stdout",
     "output_type": "stream",
     "text": [
      "Epoch: 1 / Train loss: 0.0177 / Train accuracy: 0.4221\n",
      "Epoch: 2 / Train loss: 0.0174 / Train accuracy: 0.4553\n",
      "Epoch: 3 / Train loss: 0.0171 / Train accuracy: 0.5152\n",
      "\n",
      "Test loss: 0.0171 / Test accuracy: 0.5108\n"
     ]
    }
   ],
   "source": [
    "# Set random seed for reproducibility.\n",
    "u2.set_seed(0)\n",
    "\n",
    "# Train and evaluate LogisticRegression instance on the Fashion-MNIST training set.\n",
    "train_and_evaluate(\n",
    "    model=logistic_regression_model,\n",
    "    optimizer=optimizer,\n",
    "    num_epochs=3,\n",
    "    loader_train=loader_fashion_mnist_train,\n",
    "    loader_test=loader_fashion_mnist_test\n",
    ")"
   ]
  },
  {
   "cell_type": "markdown",
   "id": "editorial-resolution",
   "metadata": {},
   "source": [
    "<a name=\"adding-hidden-layer-two\"></a><h3 style=\"color:rgb(0,120,170)\">Adding a second hidden layer</h3>\n",
    "Adding an additional layer worked unfortunately did <i>not</i> improve the performance. Maybe we were just unlucky, so let's add <i>another</i> layer. Therefore, we are once again rewriting the previous implementation of <code>LogisticRegression</code> to include the <i>second</i> hidden layer. For simplicity reasons, the amount of output neurons of the first hidden layer stays the same as its input size."
   ]
  },
  {
   "cell_type": "code",
   "execution_count": 13,
   "id": "educational-lottery",
   "metadata": {},
   "outputs": [],
   "source": [
    "class LogisticRegression2H(torch.nn.Module):\n",
    "    \"\"\"\n",
    "    Logistic regression tailored to process Fashion-MNIST data.\n",
    "    \"\"\"\n",
    "    \n",
    "    def __init__(self):\n",
    "        super().__init__()\n",
    "        self.fc1 = torch.nn.Linear(28 * 28, 28 * 28)\n",
    "        self.ac1 = torch.nn.Sigmoid()\n",
    "        self.fc2 = torch.nn.Linear(self.fc1.out_features, self.fc1.out_features)\n",
    "        self.ac2 = torch.nn.Sigmoid()\n",
    "        self.fc3 = torch.nn.Linear(self.fc2.out_features, 10)\n",
    "\n",
    "    def forward(self, x: torch.Tensor) -> torch.Tensor:\n",
    "        x = self.fc1(x)\n",
    "        x = self.ac1(x)\n",
    "        x = self.fc2(x)\n",
    "        x = self.ac2(x)\n",
    "        return self.fc3(x)"
   ]
  },
  {
   "cell_type": "code",
   "execution_count": 14,
   "id": "powered-theme",
   "metadata": {},
   "outputs": [
    {
     "name": "stdout",
     "output_type": "stream",
     "text": [
      "LogisticRegression2H(\n",
      "  (fc1): Linear(in_features=784, out_features=784, bias=True)\n",
      "  (ac1): Sigmoid()\n",
      "  (fc2): Linear(in_features=784, out_features=784, bias=True)\n",
      "  (ac2): Sigmoid()\n",
      "  (fc3): Linear(in_features=784, out_features=10, bias=True)\n",
      ")\n"
     ]
    }
   ],
   "source": [
    "# Set random seed for reproducibility.\n",
    "u2.set_seed(0)\n",
    "\n",
    "# Create LogisticRegression instance and the corresponding optimizer to use.\n",
    "logistic_regression_model = LogisticRegression2H()\n",
    "optimizer = torch.optim.SGD(logistic_regression_model.parameters(), lr=1e-3)\n",
    "\n",
    "# Show the architecture of the logistic regression model.\n",
    "print(logistic_regression_model)"
   ]
  },
  {
   "cell_type": "code",
   "execution_count": 15,
   "id": "endangered-seven",
   "metadata": {},
   "outputs": [
    {
     "name": "stdout",
     "output_type": "stream",
     "text": [
      "Epoch: 1 / Train loss: 0.0180 / Train accuracy: 0.1008\n",
      "Epoch: 2 / Train loss: 0.0180 / Train accuracy: 0.1020\n",
      "Epoch: 3 / Train loss: 0.0180 / Train accuracy: 0.1983\n",
      "\n",
      "Test loss: 0.0180 / Test accuracy: 0.1907\n"
     ]
    }
   ],
   "source": [
    "# Set random seed for reproducibility.\n",
    "u2.set_seed(0)\n",
    "\n",
    "# Train and evaluate LogisticRegression instance on the Fashion-MNIST training set.\n",
    "train_and_evaluate(\n",
    "    model=logistic_regression_model,\n",
    "    optimizer=optimizer,\n",
    "    num_epochs=3,\n",
    "    loader_train=loader_fashion_mnist_train,\n",
    "    loader_test=loader_fashion_mnist_test\n",
    ")"
   ]
  },
  {
   "cell_type": "markdown",
   "id": "mighty-individual",
   "metadata": {},
   "source": [
    "<a name=\"adding-hidden-layer-three\"></a><h3 style=\"color:rgb(0,120,170)\">Adding a third hidden layer</h3>\n",
    "Again, the additional hidden layer did <i>not</i> deliver the expected performance gain. Maybe it is simply by coincidence due to weight initialization or other factors. Hence, we are rewriting the previous implementation of <code>LogisticRegression</code> one last time to include a <i>third</i> hidden layer – the weight matrix of the second hidden layer should again be square, identical to the first hidden layer. This time, we are increasing the network performance – for sure."
   ]
  },
  {
   "cell_type": "code",
   "execution_count": 16,
   "id": "funky-bloom",
   "metadata": {},
   "outputs": [],
   "source": [
    "class LogisticRegression3H(torch.nn.Module):\n",
    "    \"\"\"\n",
    "    Logistic regression tailored to process Fashion-MNIST data.\n",
    "    \"\"\"\n",
    "    \n",
    "    def __init__(self):\n",
    "        super().__init__()\n",
    "        self.fc1 = torch.nn.Linear(28 * 28, 28 * 28)\n",
    "        self.ac1 = torch.nn.Sigmoid()\n",
    "        self.fc2 = torch.nn.Linear(self.fc1.out_features, self.fc1.out_features)\n",
    "        self.ac2 = torch.nn.Sigmoid()\n",
    "        self.fc3 = torch.nn.Linear(self.fc2.out_features, self.fc2.out_features)\n",
    "        self.ac3 = torch.nn.Sigmoid()\n",
    "        self.fc4 = torch.nn.Linear(self.fc3.out_features, 10)\n",
    "\n",
    "    def forward(self, x: torch.Tensor) -> torch.Tensor:\n",
    "        x = self.fc1(x)\n",
    "        x = self.ac1(x)\n",
    "        x = self.fc2(x)\n",
    "        x = self.ac2(x)\n",
    "        x = self.fc3(x)\n",
    "        x = self.ac3(x)\n",
    "        return self.fc4(x)"
   ]
  },
  {
   "cell_type": "code",
   "execution_count": 17,
   "id": "verbal-figure",
   "metadata": {},
   "outputs": [
    {
     "name": "stdout",
     "output_type": "stream",
     "text": [
      "LogisticRegression3H(\n",
      "  (fc1): Linear(in_features=784, out_features=784, bias=True)\n",
      "  (ac1): Sigmoid()\n",
      "  (fc2): Linear(in_features=784, out_features=784, bias=True)\n",
      "  (ac2): Sigmoid()\n",
      "  (fc3): Linear(in_features=784, out_features=784, bias=True)\n",
      "  (ac3): Sigmoid()\n",
      "  (fc4): Linear(in_features=784, out_features=10, bias=True)\n",
      ")\n"
     ]
    }
   ],
   "source": [
    "# Set random seed for reproducibility.\n",
    "u2.set_seed(0)\n",
    "\n",
    "# Create LogisticRegression instance and the corresponding optimizer to use.\n",
    "logistic_regression_model = LogisticRegression3H()\n",
    "optimizer = torch.optim.SGD(logistic_regression_model.parameters(), lr=1e-3)\n",
    "\n",
    "# Show the architecture of the logistic regression model.\n",
    "print(logistic_regression_model)"
   ]
  },
  {
   "cell_type": "code",
   "execution_count": 18,
   "id": "uniform-jesus",
   "metadata": {},
   "outputs": [
    {
     "name": "stdout",
     "output_type": "stream",
     "text": [
      "Epoch: 1 / Train loss: 0.0180 / Train accuracy: 0.1007\n",
      "Epoch: 2 / Train loss: 0.0180 / Train accuracy: 0.1020\n",
      "Epoch: 3 / Train loss: 0.0180 / Train accuracy: 0.1024\n",
      "\n",
      "Test loss: 0.0181 / Test accuracy: 0.0965\n"
     ]
    }
   ],
   "source": [
    "# Set random seed for reproducibility.\n",
    "u2.set_seed(0)\n",
    "\n",
    "# Train and evaluate LogisticRegression instance on the Fashion-MNIST training set.\n",
    "train_and_evaluate(\n",
    "    model=logistic_regression_model,\n",
    "    optimizer=optimizer,\n",
    "    num_epochs=3,\n",
    "    loader_train=loader_fashion_mnist_train,\n",
    "    loader_test=loader_fashion_mnist_test\n",
    ")"
   ]
  },
  {
   "cell_type": "markdown",
   "id": "female-stage",
   "metadata": {},
   "source": [
    "<a name=\"logistic-regression-gradients\"></a><h3 style=\"color:rgb(0,120,170)\">Analyzing gradients</h3>\n",
    "<p>As the previous examples showed, naively stacking layers does often <i>not</i> lead to the expected results. The reason for this specific behavior is the <i>Vanishing Gradient</i>. For this very reason, we are now collecting and visualizing the magnitudes of the weight parameter gradients of the different logistic regression models.</p>"
   ]
  },
  {
   "cell_type": "code",
   "execution_count": 19,
   "id": "frequent-channels",
   "metadata": {},
   "outputs": [],
   "source": [
    "def collect_gradients(model: torch.nn.Module, loader: torch.utils.data.DataLoader,\n",
    "                      device: torch.device = torch.device('cuda' if torch.cuda.is_available() else 'cpu')) -> Sequence[Dict[str, np.array]]:\n",
    "    \"\"\"\n",
    "    Auxiliary function for collecting gradients of a corresponding model.\n",
    "    \n",
    "    :param model: model instance to be used for collecting gradients\n",
    "    :param loader: data loader supplying the samples used for collecting gradients\n",
    "    :param device: device to use for gradient collection\n",
    "    :return: sequence of parameter names and gradients, averaged over all parameter elements\n",
    "    \"\"\"\n",
    "    model.to(device)\n",
    "    model_state = model.training\n",
    "    model.train()\n",
    "    model.zero_grad()\n",
    "    \n",
    "    # Iterating over the data set and computing the corresponding gradients.\n",
    "    # Since we are only interested in the gradients, we can skip the optimization step.\n",
    "    gradients = {}\n",
    "    criterion = torch.nn.CrossEntropyLoss()\n",
    "    \n",
    "    for data, target in loader:\n",
    "        data, target = data.float().to(device), target.long().to(device)\n",
    "        output = model(data)\n",
    "        loss = criterion(output, target)\n",
    "        loss.backward()\n",
    "    \n",
    "        # Collecting the (averaged absolute) gradients from the current model.\n",
    "        for name, parameter in model.named_parameters():\n",
    "            if \"weight\" in name and parameter.grad is not None:\n",
    "                gradients.setdefault(name, []).append(parameter.grad.view(-1).abs().mean().item())\n",
    "        model.zero_grad()\n",
    "    \n",
    "    # Reset model state and return collected gradients.\n",
    "    model.train(mode=model_state)\n",
    "    return gradients"
   ]
  },
  {
   "cell_type": "markdown",
   "id": "southern-hygiene",
   "metadata": {},
   "source": [
    "<p>After defining an auxiliary function for collecting gradients of a specified model (we will use this functionality more often in this unit, hence separating it in a corresponding function does make sense), we will create a <i>new</i> instance of each logistic regression model for further analysis.</p>"
   ]
  },
  {
   "cell_type": "code",
   "execution_count": 20,
   "id": "polish-crack",
   "metadata": {},
   "outputs": [],
   "source": [
    "models = []\n",
    "for model_class in [LogisticRegression0H, LogisticRegression1H, LogisticRegression2H, LogisticRegression3H]:\n",
    "    # Set random seed for reproducibility.\n",
    "    u2.set_seed(0)\n",
    "    \n",
    "    # Create logistic regression models.\n",
    "    models.append(model_class())\n",
    "\n",
    "gradients = [(model, collect_gradients(model=model, loader=loader_fashion_mnist_train)) for model in models]"
   ]
  },
  {
   "cell_type": "markdown",
   "id": "surface-spray",
   "metadata": {},
   "source": [
    "<p>After collecting all parameter gradients of all logistic regression model variants, a corresponding comparing visualization is well suited to illustrate the <i>Vanishing Gradient Problem</i>.</p>"
   ]
  },
  {
   "cell_type": "code",
   "execution_count": 21,
   "id": "further-shopper",
   "metadata": {},
   "outputs": [
    {
     "data": {
      "image/png": "[encoded data removed]",
      "text/plain": [
       "<Figure size 1008x504 with 1 Axes>"
      ]
     },
     "metadata": {
      "needs_background": "light"
     },
     "output_type": "display_data"
    }
   ],
   "source": [
    "# Prepare collected gradients for plotting.\n",
    "gradient_dfs = []\n",
    "for model, gradient in gradients:\n",
    "    gradient_data = pd.DataFrame(gradient)\n",
    "    gradient_data.columns = [f\"Layer {i + 1}\" for i in range(len(gradient))]\n",
    "    gradient_data = pd.melt(gradient_data, var_name=\"Layer\", value_name=\"Gradient Magnitude\")\n",
    "    gradient_data[\"Model\"] = type(model).__name__\n",
    "    gradient_dfs.append(gradient_data)\n",
    "\n",
    "# Combine all gradients in a single data frame.\n",
    "gradients_df = pd.concat(gradient_dfs)\n",
    "\n",
    "# Define plotting figure and corresponding attributes.\n",
    "fig, ax = plt.subplots(figsize=(14, 7))\n",
    "ax.set(yscale='log')\n",
    "\n",
    "# Plot pre-processed gradients.\n",
    "sns.boxplot(x='Model', y='Gradient Magnitude', hue='Layer', data=gradients_df, ax=ax)\n",
    "plt.show()"
   ]
  },
  {
   "cell_type": "markdown",
   "id": "broke-apparel",
   "metadata": {},
   "source": [
    "<a name=\"vanishing-gradient\"></a><h2>The Vanishing Gradient Problem (Revised)</h2>\n",
    "<p>The <i>Vanishing Gradient Problem</i> describes the effect of <i>losing</i> the error signal on its way from the loss function to the network's input. As a result, the gradients in the lower layers of a network receive almost no error signal to adapt the parameters accordingly. It is especially pronounced in deep neural networks, so more layers can be counterproductive.</p>"
   ]
  },
  {
   "cell_type": "markdown",
   "id": "surrounded-termination",
   "metadata": {},
   "source": [
    "<a name=\"vanishing-gradient-culprit\"></a><h3 style=\"color:rgb(0,120,170)\">The primary culprit</h3>\n",
    "<p>Remember the <i>backward</i> pass as discussed earlier in this unit. Gradients multiply according to the <i>chain rule</i>. Hence, with respect to our logistic regression models, this includes many derivatives of the sigmoid activation function.\n",
    "\n",
    "<center>\n",
    "    \\begin{align*}\n",
    "    \\mathbf{W}_4 & \\leftarrow \\mathbf{W}_4 - \\eta \\frac{\\partial L}{\\partial \\mathbf{W}_4} \\\\\n",
    "    \\mathbf{W}_3 & \\leftarrow \\mathbf{W}_3 - \\eta \\frac{\\partial L}{\\partial h^{(3)}}\\frac{\\partial h^{(3)}}{\\partial \\mathbf{W}_3} \\\\\n",
    "    \\mathbf{W}_2 & \\leftarrow \\mathbf{W}_2 - \\eta \\frac{\\partial L}{\\partial h^{(3)}}\\frac{\\partial h^{(3)}}{\\partial h^{(2)}}\\frac{\\partial h^{(2)}}{\\partial \\mathbf{W}_2} \\\\\n",
    "    \\mathbf{W}_1 & \\leftarrow \\mathbf{W}_1 - \\eta \\underbrace{\\frac{\\partial L}{\\partial h^{(3)}}}_{\\sim\\sigma'}\\underbrace{\\frac{\\partial h^{(3)}}{\\partial h^{(2)}}}_{\\sim\\sigma'}\\underbrace{\\frac{\\partial h^{(2)}}{\\partial h^{(1)}}}_{\\sim\\sigma'}\\underbrace{\\frac{\\partial h^{(1)}}{\\partial \\mathbf{W}_1}}_{\\sim\\sigma'}\n",
    "    \\end{align*}\n",
    "</center>\n",
    "\n",
    "For this very reason, let's have a closer look at the <i>sigmoid</i> activation function and its derivative.</p>"
   ]
  },
  {
   "cell_type": "code",
   "execution_count": 22,
   "id": "caroline-presence",
   "metadata": {},
   "outputs": [
    {
     "name": "stdout",
     "output_type": "stream",
     "text": [
      "sigmoid(-10.0): 0.0000 | sigmoid'(-10.0): 0.0000\n",
      "sigmoid(  0.0): 0.5000 | sigmoid'(  0.0): 0.2500\n",
      "sigmoid( 10.0): 1.0000 | sigmoid'( 10.0): 0.0000\n"
     ]
    }
   ],
   "source": [
    "def sigmoid(x: float) -> float:\n",
    "    \"\"\"\n",
    "    Compute the logistic function.\n",
    "    \n",
    "    :param x: the input on which to apply the logistic function\n",
    "    :return: the result of the logistic function applied to its input\n",
    "    \"\"\"\n",
    "    return 1.0 / (1.0 + math.exp(-x))\n",
    "\n",
    "\n",
    "def sigmoid_d(x: float) -> float:\n",
    "    \"\"\"\n",
    "    Compute the derivate of the logistic function.\n",
    "    \n",
    "    :param x: the input to the logistic function for computing its derivative\n",
    "    :return: the derivative of the logistic function with respect to its input\n",
    "    \"\"\"\n",
    "    return sigmoid(x) * (1.0 - sigmoid(x))\n",
    "\n",
    "\n",
    "# Crudly check the value range of the sigmoid function and its derivative.\n",
    "for x in [-10.0, 0.0, 10.0]:\n",
    "    print(f'sigmoid({x:>5}): {sigmoid(x):.4f} | sigmoid\\'({x:>5}): {sigmoid_d(x):.4f}')"
   ]
  },
  {
   "cell_type": "markdown",
   "id": "aggressive-klein",
   "metadata": {},
   "source": [
    "<p>The previous computation of the value range of the sigmoid function and its derivative already suggests that the derivative vanishes if the corresponding input is either <i>small</i> or <i>big</i> – which already seems problematic. For a more thorough analysis, let's visualize the value ranges accordingly.</p>"
   ]
  },
  {
   "cell_type": "code",
   "execution_count": 23,
   "id": "south-tonight",
   "metadata": {},
   "outputs": [
    {
     "data": {
      "image/png": "[encoded data removed]",
      "text/plain": [
       "<Figure size 1008x504 with 1 Axes>"
      ]
     },
     "metadata": {
      "needs_background": "light"
     },
     "output_type": "display_data"
    }
   ],
   "source": [
    "def plot_sigmoid_with_derivative(x_min: float = -5.0, x_max: float = 5.0, granularity: int = 1000) -> None:\n",
    "    \"\"\"\n",
    "    Plot the logistic function including its derivative.\n",
    "    \n",
    "    :param x_min: minimum value of the input value range\n",
    "    :param x_max: maximum value of the input value range\n",
    "    :param granularity: granularity controlling the stepsize of the input value range\n",
    "    \"\"\"\n",
    "    data = np.linspace(x_min, x_max, granularity)\n",
    "\n",
    "    fig, ax = plt.subplots(figsize=(14, 7))\n",
    "    ax.spines['left'].set_position('center')\n",
    "\n",
    "    plt.plot(data, tuple(map(sigmoid, data)), color='#307EC7', linewidth=3, label='sigmoid')\n",
    "    plt.plot(data, tuple(map(sigmoid_d, data)), color='#accbe8', linewidth=3, label=\"sigmoid'\")\n",
    "    plt.title('Sigmoid function', fontsize=20)\n",
    "    plt.legend(prop={'size': 15})\n",
    "    plt.show()\n",
    "\n",
    "# Plot logistic function including its derivative.\n",
    "plot_sigmoid_with_derivative()"
   ]
  },
  {
   "cell_type": "markdown",
   "id": "worst-webcam",
   "metadata": {},
   "source": [
    "<a name=\"vanishing-gradient-relu\"></a><h3 style=\"color:rgb(0,120,170)\">Rectified linear units to the rescue</h3>\n",
    "<p>It seems quite clear, that we need to exchange the <i>sigmoid</i> activation function with a different one. Ideally, the new activation function should have a derivative close to $1$ in order to mitigate a <i>vanishing gradient</i> (likewise an <i>exploding gradient</i>). A common activation function is the <i>rectified linear unit</i> (often abbreviated as <i>ReLU</i>), which is easy and efficient to compute and provides a derivative of <i>exactly</i> $1$ for all positive inputs.</p>"
   ]
  },
  {
   "cell_type": "code",
   "execution_count": 24,
   "id": "vanilla-mixture",
   "metadata": {},
   "outputs": [
    {
     "name": "stdout",
     "output_type": "stream",
     "text": [
      "relu(-10.0):  0.0000 | relu'(-10.0): 0.0000\n",
      "relu(  0.0):  0.0000 | relu'(  0.0): 0.0000\n",
      "relu( 10.0): 10.0000 | relu'( 10.0): 1.0000\n"
     ]
    }
   ],
   "source": [
    "def relu(x: float) -> float:\n",
    "    \"\"\"\n",
    "    Compute the rectified linear unit function.\n",
    "    \n",
    "    :param x: the input on which to apply the rectified linear unit function\n",
    "    :return: the result of the rectified linear unit function applied to its input\n",
    "    \"\"\"\n",
    "    return max(0.0, x)\n",
    "\n",
    "\n",
    "def relu_d(x: float) -> float:\n",
    "    \"\"\"\n",
    "    Compute the derivate of the rectified linear unit function.\n",
    "    \n",
    "    :param x: the input to the rectified linear unit function for computing its derivative\n",
    "    :return: the derivative of the rectified linear unit function with respect to its input\n",
    "    \"\"\"\n",
    "    return 0.0 if x <= 0.0 else 1.0\n",
    "\n",
    "\n",
    "# Crudly check the value range of the rectified linear unit function and its derivative.\n",
    "for x in [-10.0, 0.0, 10.0]:\n",
    "    print(f'relu({x:>5}): {relu(x):7.4f} | relu\\'({x:>5}): {relu_d(x):.4f}')"
   ]
  },
  {
   "cell_type": "code",
   "execution_count": 25,
   "id": "early-baghdad",
   "metadata": {},
   "outputs": [
    {
     "data": {
      "image/png": "[encoded data removed]",
      "text/plain": [
       "<Figure size 1008x504 with 1 Axes>"
      ]
     },
     "metadata": {
      "needs_background": "light"
     },
     "output_type": "display_data"
    }
   ],
   "source": [
    "def plot_relu_with_derivative(x_min: float = -2.5, x_max: float = 2.5, granularity: int = 1000) -> None:\n",
    "    \"\"\"\n",
    "    Plot the rectified linear unit function including its derivative.\n",
    "    \n",
    "    :param x_min: minimum value of the input value range\n",
    "    :param x_max: maximum value of the input value range\n",
    "    :param granularity: granularity controlling the stepsize of the input value range\n",
    "    \"\"\"\n",
    "    data = np.linspace(x_min, x_max, granularity)\n",
    "    data_pivot_neg = np.where(data <= 0)\n",
    "    data_pivot_pos = np.where(data > 0)\n",
    "\n",
    "    fig, ax = plt.subplots(figsize=(14, 7))\n",
    "    ax.spines['left'].set_position('center')\n",
    "\n",
    "    plt.plot(data, tuple(map(relu, data)), color='#e22182', linewidth=3, label='relu')\n",
    "    # Plot derivative of negative/positive data separately to avoid a linked line plot.\n",
    "    if len(data_pivot_neg) > 0:\n",
    "        data_neg = data[data_pivot_neg]\n",
    "        plt.plot(data_neg, tuple(map(relu_d, data_neg)), color='#accbe8', linewidth=3, label=\"relu'\")\n",
    "    if len(data_pivot_pos) > 0:\n",
    "        data_pos = data[data_pivot_pos]\n",
    "        plt.plot(data_pos, tuple(map(relu_d, data_pos)), color='#accbe8', linewidth=3)\n",
    "    plt.title('ReLU function', fontsize=20)\n",
    "    plt.legend(prop={'size': 15})\n",
    "    plt.show()\n",
    "\n",
    "# Plot rectified linear unit function including its derivative.\n",
    "plot_relu_with_derivative()"
   ]
  },
  {
   "cell_type": "markdown",
   "id": "explicit-bleeding",
   "metadata": {},
   "source": [
    "<a name=\"training-relu\"></a><h3 style=\"color:rgb(0,120,170)\">Training of a ReLU-Network</h3>\n",
    "<p>After analyzing the value range of the <i>rectified linear unit</i> function including its derivative, we are now creating a corresponding network to check how the performance changes with respect to the previous <code>LogisticRegression3H</code> implementation.</p>"
   ]
  },
  {
   "cell_type": "code",
   "execution_count": 26,
   "id": "accomplished-trail",
   "metadata": {},
   "outputs": [],
   "source": [
    "class ReLU3H(torch.nn.Module):\n",
    "    \"\"\"\n",
    "    ReLU network tailored to process Fashion-MNIST data.\n",
    "    \"\"\"\n",
    "    \n",
    "    def __init__(self):\n",
    "        super().__init__()\n",
    "        self.fc1 = torch.nn.Linear(28 * 28, 28 * 28)\n",
    "        self.ac1 = torch.nn.ReLU()\n",
    "        self.fc2 = torch.nn.Linear(self.fc1.out_features, self.fc1.out_features)\n",
    "        self.ac2 = torch.nn.ReLU()\n",
    "        self.fc3 = torch.nn.Linear(self.fc2.out_features, self.fc2.out_features)\n",
    "        self.ac3 = torch.nn.ReLU()\n",
    "        self.fc4 = torch.nn.Linear(self.fc3.out_features, 10)\n",
    "\n",
    "    def forward(self, x: torch.Tensor) -> torch.Tensor:\n",
    "        x = self.fc1(x)\n",
    "        x = self.ac1(x)\n",
    "        x = self.fc2(x)\n",
    "        x = self.ac2(x)\n",
    "        x = self.fc3(x)\n",
    "        x = self.ac3(x)\n",
    "        return self.fc4(x)"
   ]
  },
  {
   "cell_type": "code",
   "execution_count": 27,
   "id": "fitted-allen",
   "metadata": {},
   "outputs": [
    {
     "name": "stdout",
     "output_type": "stream",
     "text": [
      "ReLU3H(\n",
      "  (fc1): Linear(in_features=784, out_features=784, bias=True)\n",
      "  (ac1): ReLU()\n",
      "  (fc2): Linear(in_features=784, out_features=784, bias=True)\n",
      "  (ac2): ReLU()\n",
      "  (fc3): Linear(in_features=784, out_features=784, bias=True)\n",
      "  (ac3): ReLU()\n",
      "  (fc4): Linear(in_features=784, out_features=10, bias=True)\n",
      ")\n"
     ]
    }
   ],
   "source": [
    "# Set random seed for reproducibility.\n",
    "u2.set_seed(0)\n",
    "\n",
    "# Create ReLU network instance and the corresponding optimizer to use.\n",
    "relu_model = ReLU3H()\n",
    "optimizer = torch.optim.SGD(relu_model.parameters(), lr=1e-3)\n",
    "\n",
    "# Show the architecture of the ReLU network model.\n",
    "print(relu_model)"
   ]
  },
  {
   "cell_type": "code",
   "execution_count": 28,
   "id": "small-estate",
   "metadata": {},
   "outputs": [
    {
     "name": "stdout",
     "output_type": "stream",
     "text": [
      "Epoch: 1 / Train loss: 0.0179 / Train accuracy: 0.1850\n",
      "Epoch: 2 / Train loss: 0.0178 / Train accuracy: 0.2204\n",
      "Epoch: 3 / Train loss: 0.0177 / Train accuracy: 0.2431\n",
      "\n",
      "Test loss: 0.0177 / Test accuracy: 0.2410\n"
     ]
    }
   ],
   "source": [
    "# Set random seed for reproducibility.\n",
    "u2.set_seed(0)\n",
    "\n",
    "# Train and evaluate ReLU network instance on the Fashion-MNIST training set.\n",
    "train_and_evaluate(\n",
    "    model=relu_model,\n",
    "    optimizer=optimizer,\n",
    "    num_epochs=3,\n",
    "    loader_train=loader_fashion_mnist_train,\n",
    "    loader_test=loader_fashion_mnist_test\n",
    ")"
   ]
  },
  {
   "cell_type": "markdown",
   "id": "moved-flight",
   "metadata": {},
   "source": [
    "<p>Compared to the 3-layer logisitc regression model from above, the results seem to have improved significantly. We are performing a corresponding <i>gradient analysis</i> to investigate if the <i>vanishing gradient</i> is now absent. Assumptions are all nice and good, but a in a proper workflow, checking of assumptions is a <i>must</i> (if possible). For this very reason, we are creating <i>new</i> instances of <code>ReLU3H</code> as well as <code>LogisticRegression3H</code> for a comparison.</p>"
   ]
  },
  {
   "cell_type": "code",
   "execution_count": 29,
   "id": "experimental-extreme",
   "metadata": {},
   "outputs": [],
   "source": [
    "models = []\n",
    "for model_class in [LogisticRegression3H, ReLU3H]:\n",
    "    # Set random seed for reproducibility.\n",
    "    u2.set_seed(0)\n",
    "    \n",
    "    # Create logistic regression models.\n",
    "    models.append(model_class())\n",
    "\n",
    "gradients = [(model, collect_gradients(model=model, loader=loader_fashion_mnist_train)) for model in models]"
   ]
  },
  {
   "cell_type": "markdown",
   "id": "cooked-sacrifice",
   "metadata": {},
   "source": [
    "<p>After collecting all parameter gradients of the rectified linear unit as well as the corresponding logistic regression model, an adequate comparing visualization is well suited to illustrate the <i>Vanishing Gradient Problem</i> (or its <i>absence</i>).</p>"
   ]
  },
  {
   "cell_type": "code",
   "execution_count": 30,
   "id": "finite-recruitment",
   "metadata": {
    "tags": []
   },
   "outputs": [
    {
     "data": {
      "image/png": "[encoded data removed]",
      "text/plain": [
       "<Figure size 1008x504 with 1 Axes>"
      ]
     },
     "metadata": {
      "needs_background": "light"
     },
     "output_type": "display_data"
    }
   ],
   "source": [
    "# Prepare collected gradients for plotting.\n",
    "gradient_dfs = []\n",
    "for model, gradient in gradients:\n",
    "    gradient_data = pd.DataFrame(gradient)\n",
    "    gradient_data.columns = [f\"Layer {i + 1}\" for i in range(len(gradient))]\n",
    "    gradient_data = pd.melt(gradient_data, var_name=\"Layer\", value_name=\"Gradient Magnitude\")\n",
    "    gradient_data[\"Model\"] = type(model).__name__\n",
    "    gradient_dfs.append(gradient_data)\n",
    "\n",
    "# Combine all gradients in a single data frame.\n",
    "gradients_df = pd.concat(gradient_dfs)\n",
    "\n",
    "# Define plotting figure and corresponding attributes.\n",
    "fig, ax = plt.subplots(figsize=(14, 7))\n",
    "ax.set(yscale='log')\n",
    "\n",
    "# Plot pre-processed gradients.\n",
    "sns.boxplot(x='Model', y='Gradient Magnitude', hue='Layer', data=gradients_df, ax=ax)\n",
    "plt.show()"
   ]
  }
 ],
 "metadata": {
  "kernelspec": {
   "display_name": "Python 3 (ipykernel)",
   "language": "python",
   "name": "python3"
  },
  "language_info": {
   "codemirror_mode": {
    "name": "ipython",
    "version": 3
   },
   "file_extension": ".py",
   "mimetype": "text/x-python",
   "name": "python",
   "nbconvert_exporter": "python",
   "pygments_lexer": "ipython3",
   "version": "3.9.7"
  }
 },
 "nbformat": 4,
 "nbformat_minor": 5
}
