{
 "cells": [
  {
   "cell_type": "markdown",
   "metadata": {},
   "source": [
    "Name | Matr.Nr. | Due Date\n",
    ":--- | ---: | ---:\n",
    "Azat Vakhitov | 12148222 | 05.12.2022, 08:00"
   ]
  },
  {
   "cell_type": "markdown",
   "metadata": {},
   "source": [
    "<h1 style=\"color:rgb(0,120,170)\">Hands-on AI I</h1>\n",
    "<h2 style=\"color:rgb(0,120,170)\">Unit 4 &ndash; Logistic Regression as a Door Opener to Deep Learning</h2>"
   ]
  },
  {
   "cell_type": "markdown",
   "metadata": {},
   "source": [
    "<b>Authors:</b> Brandstetter, Schäfl, Winter, Parada-Cabaleiro, Schörgenhumer<br>\n",
    "<b>Date:</b> 21-11-2022\n",
    "\n",
    "This file is part of the \"Hands-on AI I\" lecture material. The following copyright statement applies to all code within this file.\n",
    "\n",
    "<b>Copyright statement:</b><br>\n",
    "This material, no matter whether in printed or electronic form, may be used for personal and non-commercial educational use only. Any reproduction of this material, no matter whether as a whole or in parts, no matter whether in printed or in electronic form, requires explicit prior acceptance of the authors."
   ]
  },
  {
   "cell_type": "markdown",
   "metadata": {},
   "source": [
    "<h3 style=\"color:rgb(0,120,170)\">How to use this notebook</h3>\n",
    "\n",
    "This notebook is designed to run from start to finish. There are different tasks (displayed in <span style=\"color:rgb(248,138,36)\">orange boxes</span>) which require your contribution (in form of code, plain text, ...). Most/All of the supplied functions are imported from the file <code>u4_utils.py</code> which can be seen and treated as a black box. However, for further understanding, you can look at the implementations of the helper functions. In order to run this notebook, the packages which are imported at the beginning of <code>u4_utils.py</code> need to be installed."
   ]
  },
  {
   "cell_type": "markdown",
   "metadata": {},
   "source": [
    "<div class=\"alert alert-warning\">\n",
    "    <b>Important:</b> When specifying a seed for the sources of randomness, use the <code>u4.set_seed(seed=XYZ)</code> function.\n",
    "</div>"
   ]
  },
  {
   "cell_type": "code",
   "execution_count": 4,
   "metadata": {},
   "outputs": [
    {
     "data": {
      "text/html": [
       "\n",
       "    <style>\n",
       "        .output_png {\n",
       "            display: table-cell;\n",
       "            text-align: center;\n",
       "            vertical-align: middle;\n",
       "        }\n",
       "        .jp-RenderedImage {\n",
       "            display: table-cell;\n",
       "            text-align: center;\n",
       "            vertical-align: middle;\n",
       "        }\n",
       "    </style>\n",
       "    <p>Setting up notebook ... finished.</p>\n",
       "    "
      ],
      "text/plain": [
       "<IPython.core.display.HTML object>"
      ]
     },
     "execution_count": 4,
     "metadata": {},
     "output_type": "execute_result"
    }
   ],
   "source": [
    "# Required packages and the u4_utils file\n",
    "import u4_utils as u4\n",
    "import matplotlib.pyplot as plt\n",
    "import numpy as np\n",
    "import pandas as pd\n",
    "import seaborn as sns\n",
    "import torch\n",
    "\n",
    "# Set plotting style of seaborn related plots.\n",
    "sns.set()\n",
    "\n",
    "# Setup Jupyter notebook (warning: this may affect all Jupyter notebooks running on the same Jupyter server).\n",
    "u4.setup_jupyter()"
   ]
  },
  {
   "cell_type": "code",
   "execution_count": 5,
   "metadata": {},
   "outputs": [
    {
     "name": "stdout",
     "output_type": "stream",
     "text": [
      "Installed Python version: 3.9 (✓)\n",
      "Installed numpy version: 1.21.5 (✓)\n",
      "Installed pandas version: 1.4.2 (✓)\n",
      "Installed scikit-learn version: 1.0.2 (✓)\n",
      "Installed matplotlib version: 3.5.1 (✓)\n",
      "Installed seaborn version: 0.11.2 (✓)\n",
      "Installed scipy version: 1.7.3 (✓)\n",
      "Installed torch version: 1.13.0+cpu (✓)\n"
     ]
    }
   ],
   "source": [
    "u4.check_module_versions()"
   ]
  },
  {
   "cell_type": "markdown",
   "metadata": {},
   "source": [
    "<h2>Exercise 1</h2>\n",
    "\n",
    "Given the dataset defined below, use the functions from <code>u4_utils.py</code> (according to the instructions given in the lecture notebook) to perform the following tasks:\n",
    "\n",
    "<table>\n",
    "    <tr>\n",
    "        <th>Parameter</th>\n",
    "        <th>Value (used in this notebook)</th>\n",
    "        <th>Description</th>\n",
    "    </tr>\n",
    "    <tr>\n",
    "        <td><code>num_pairs</code></td>\n",
    "        <td>75</td>\n",
    "        <td>amount of $(x, y)$ pairs to generate</td>\n",
    "    </tr>\n",
    "    <tr>\n",
    "        <td><code>variance</code></td>\n",
    "        <td>0.2</td>\n",
    "        <td>variance within $y$ w.r.t. defining function</td>\n",
    "    </tr>\n",
    "</table>"
   ]
  },
  {
   "cell_type": "code",
   "execution_count": 6,
   "metadata": {},
   "outputs": [
    {
     "data": {
      "image/png": "[encoded data removed]",
      "text/plain": [
       "<Figure size 432x288 with 1 Axes>"
      ]
     },
     "metadata": {},
     "output_type": "display_data"
    }
   ],
   "source": [
    "# Set seed for reproducibility.\n",
    "u4.set_seed(seed=42)\n",
    "\n",
    "# Create dataset consisting of random (x, y) pairs.\n",
    "dataset = u4.get_dataset(\n",
    "    num_pairs=75,\n",
    "    variance=0.2\n",
    ")\n",
    "\n",
    "# Plot the dataset.\n",
    "sns.scatterplot(data=dataset, x=\"x\", y=\"y\");"
   ]
  },
  {
   "cell_type": "markdown",
   "metadata": {},
   "source": [
    "<div class=\"alert alert-warning\">\n",
    "    <b>Exercise 1.1. [4 Points]</b>\n",
    "    <ul>\n",
    "        <li>In order to find the <b>linear</b> model which best describes the given dataset, look for the optimal parameters $d$ and $k$ manually.</li>\n",
    "        <li>Then, plot both the data pairs and the linear model (defined by your coefficients).</li>\n",
    "        <li>For reproducibility, set a fixed seed (seed=42).</li>\n",
    "    </ul>\n",
    "</div>"
   ]
  },
  {
   "cell_type": "code",
   "execution_count": 8,
   "metadata": {},
   "outputs": [
    {
     "data": {
      "image/png": "[encoded data removed]",
      "text/plain": [
       "<Figure size 432x288 with 1 Axes>"
      ]
     },
     "metadata": {},
     "output_type": "display_data"
    }
   ],
   "source": [
    "# Manually define coefficients of an underlying linear model (here: a simple straight line, i.e., a polynomial of degree 1).\n",
    "u4.set_seed(seed=42)\n",
    "coefficients = (\n",
    "    0.2,  # intercept\n",
    "    0.4   # slope\n",
    ")\n",
    "\n",
    "# Plot data pairs as well as the defined linear model.\n",
    "u4.plot_model(\n",
    "    dataset=dataset,\n",
    "    coefficients=coefficients\n",
    ")"
   ]
  },
  {
   "cell_type": "markdown",
   "metadata": {},
   "source": [
    "<div class=\"alert alert-warning\">\n",
    "    <b>Exercise 1.2. [2 Points]</b>\n",
    "    <ul>\n",
    "        <li>Perform the previous task but this time by setting the parameters \"automatically\", in a way that the <b>Mean Squared Error</b> between the linear model and the data pairs is minimized.</li>\n",
    "        <li>Again, plot both the data pairs and the linear model.</li>\n",
    "    </ul>"
   ]
  },
  {
   "cell_type": "code",
   "execution_count": 23,
   "metadata": {},
   "outputs": [
    {
     "name": "stdout",
     "output_type": "stream",
     "text": [
      "The coefficients minimizing the MSE are:\n",
      "    coefficient 0: -0.05094816174105334\n",
      "    coefficient 1: 0.9817693267934595\n",
      "    coefficient 2: 0.5264009123090942\n"
     ]
    }
   ],
   "source": [
    "coefficients = u4.minimize_mse(\n",
    "    dataset=dataset,\n",
    "    degree=2  # just as above, use a polynomial of degree 1, i.e., a straight line\n",
    ")\n",
    "\n",
    "print(\"The coefficients minimizing the MSE are:\")\n",
    "for i, c in enumerate(coefficients):\n",
    "    print(f\"    coefficient {i}: {c}\")"
   ]
  },
  {
   "cell_type": "markdown",
   "metadata": {},
   "source": [
    "<div class=\"alert alert-warning\">\n",
    "    <b>Exercise 1.3. [2 Points]</b>\n",
    "    <ul>\n",
    "        <li>Assume that the automatically found parameter values differ from the true, underlying parameter values.</li>\n",
    "        <li>Briefly describe at least two possible reasons for this behavior.</li>\n",
    "    </ul>\n",
    "</div>"
   ]
  },
  {
   "cell_type": "code",
   "execution_count": null,
   "metadata": {},
   "outputs": [],
   "source": []
  },
  {
   "cell_type": "markdown",
   "metadata": {},
   "source": [
    "<h2>Exercise 2</h2>"
   ]
  },
  {
   "cell_type": "markdown",
   "metadata": {},
   "source": [
    "<div class=\"alert alert-warning\">\n",
    "    <b>Important:</b> For reproducibility, for each of the following tasks, set a fixed seed (seed=43).\n",
    "</div>"
   ]
  },
  {
   "cell_type": "markdown",
   "metadata": {},
   "source": [
    "<div class=\"alert alert-warning\">\n",
    "    <b>Exercise 2.1. [6 Points]</b>\n",
    "    <ul>\n",
    "        <li>Generate a new dataset considering the characteristics defined below and plot both the dataset and the underlying model.</li>\n",
    "        <table>\n",
    "            <tr>\n",
    "                <th>Parameter</th>\n",
    "                <th>Value (used in this notebook)</th>\n",
    "                <th>Description</th>\n",
    "            </tr>\n",
    "            <tr>\n",
    "                <td><code>num_pairs</code></td>\n",
    "                <td>25</td>\n",
    "                <td>amount of $(x, y)$ pairs to generate</td>\n",
    "            </tr>\n",
    "            <tr>\n",
    "                <td><code>variance</code></td>\n",
    "                <td>0.5</td>\n",
    "                <td>variance within $y$ w.r.t. defining function</td>\n",
    "            </tr>\n",
    "            <tr>\n",
    "                <td><code>coefficients</code></td>\n",
    "                <td><code>np.random.rand(4)</code></td>\n",
    "                <td>upper bound of random polynomial degree</td>\n",
    "            </tr>\n",
    "        </table>\n",
    "        <li>When defining the dataset, pass the random coefficients for the underlying model via the parameter <code>coefficients</code>. Also make sure to use the same random coefficients for plotting.</li>\n",
    "    </ul>\n",
    "</div>"
   ]
  },
  {
   "cell_type": "code",
   "execution_count": 24,
   "metadata": {},
   "outputs": [
    {
     "name": "stdout",
     "output_type": "stream",
     "text": [
      "The coefficients minimizing the MSE are:\n",
      "    coefficient 0: -0.05094816174105334\n",
      "    coefficient 1: 0.9817693267934595\n",
      "    coefficient 2: 0.5264009123090942\n"
     ]
    },
    {
     "data": {
      "image/png": "[encoded data removed]",
      "text/plain": [
       "<Figure size 432x288 with 1 Axes>"
      ]
     },
     "metadata": {},
     "output_type": "display_data"
    }
   ],
   "source": [
    "# Set seed for reproducibility.\n",
    "u4.set_seed(seed=43)\n",
    "\n",
    "# Create dataset conisting of random (x, y) pairs.\n",
    "dataset = u4.get_dataset(\n",
    "    num_pairs=25,\n",
    "    variance=0.5,\n",
    "    coefficients = np.random.rand(4)\n",
    ")\n",
    "\n",
    "\n",
    "print(\"The coefficients minimizing the MSE are:\")\n",
    "for i, c in enumerate(coefficients):\n",
    "    print(f\"    coefficient {i}: {c}\")\n",
    "# Plot data pairs as well as the defined linear model.\n",
    "u4.plot_model(\n",
    "    dataset=dataset,\n",
    "    coefficients=coefficients\n",
    ")"
   ]
  },
  {
   "cell_type": "markdown",
   "metadata": {},
   "source": [
    "<div class=\"alert alert-warning\">\n",
    "    <b>Exercise 2.2. [6 Points]</b>\n",
    "    <ul>\n",
    "        <li>Define a model by \"automatically\" retrieving the optimal coefficients which minimize the MSE.</li>\n",
    "        <li>Then, print out the optimal coefficients and plot both the data pairs and the optimized model.</li>\n",
    "    </ul>\n",
    "</div>"
   ]
  },
  {
   "cell_type": "code",
   "execution_count": 26,
   "metadata": {},
   "outputs": [
    {
     "name": "stdout",
     "output_type": "stream",
     "text": [
      "The coefficients minimizing the MSE are:\n",
      "    coefficient 0: -0.025967011953043368\n",
      "    coefficient 1: 0.6757793478191279\n",
      "    coefficient 2: 0.5394012393655183\n",
      "    coefficient 3: 0.021610770668783728\n",
      "    coefficient 4: -0.07017222227892873\n",
      "    coefficient 5: 0.046577167132001045\n"
     ]
    }
   ],
   "source": [
    "coefficients = u4.minimize_mse(\n",
    "    dataset=dataset,\n",
    "    degree=5\n",
    ")\n",
    "\n",
    "print(\"The coefficients minimizing the MSE are:\")\n",
    "for i, c in enumerate(coefficients):\n",
    "    print(f\"    coefficient {i}: {c}\")"
   ]
  },
  {
   "cell_type": "markdown",
   "metadata": {},
   "source": [
    "<div class=\"alert alert-warning\">\n",
    "    <b>Exercise 2.3. [4 Points]</b>\n",
    "    <ul>\n",
    "        <li>Compute and print out the difference between the random coefficients from the underlying model (used to generate the dataset) and the optimal coefficients (\"automatically\" computed) which minimize the MSE.</li>\n",
    "    </ul>\n",
    "</div>"
   ]
  },
  {
   "cell_type": "code",
   "execution_count": 27,
   "metadata": {},
   "outputs": [
    {
     "data": {
      "image/png": "[encoded data removed]",
      "text/plain": [
       "<Figure size 432x288 with 1 Axes>"
      ]
     },
     "metadata": {},
     "output_type": "display_data"
    }
   ],
   "source": [
    "# Plot data pairs as well as the defined linear model.\n",
    "u4.plot_model(\n",
    "    dataset=dataset,\n",
    "    coefficients=coefficients\n",
    ")"
   ]
  },
  {
   "cell_type": "markdown",
   "metadata": {},
   "source": [
    "<div class=\"alert alert-warning\">\n",
    "    <b>Exercise 2.4. [1 Points]</b>\n",
    "    <ul>\n",
    "        <li>Visually inspect the previous plot and keep the (possible) differences in parameter values in mind, which regions are especially prone to high errors?</li>\n",
    "        <li>Please keep in mind that \"prone to\" does not automatically and always imply \"guaranteed to\".</li>\n",
    "        <li>You do not need to set a seed for this task.</li>\n",
    "    </ul>\n",
    "</div>"
   ]
  },
  {
   "cell_type": "code",
   "execution_count": null,
   "metadata": {},
   "outputs": [],
   "source": [
    "# your code goes here (you may use a markdown cell)"
   ]
  },
  {
   "cell_type": "markdown",
   "metadata": {},
   "source": [
    "<h2>Exercise 3</h2>\n",
    "\n",
    "In this exercise, we will consider that $y$ is a binary variable, i.e., the label of each data point is either 0 or 1. Under this premise, we will create a new dataset."
   ]
  },
  {
   "cell_type": "markdown",
   "metadata": {},
   "source": [
    "<div class=\"alert alert-warning\">\n",
    "    <b>Exercise 3.1. [5 Points]</b>\n",
    "    <ul>\n",
    "        <li>Following the lecture notebook, choose the correct function from <code>u4_utils.py</code> to generate a dataset with binary labels consisting of 15 data pairs (feature, label). Then, plot it.</li>\n",
    "        <li>For reproducibility, choose a fixed random seed of seed=43.</li>\n",
    "    </ul>\n",
    "</div>"
   ]
  },
  {
   "cell_type": "code",
   "execution_count": 29,
   "metadata": {},
   "outputs": [],
   "source": [
    "# Set seed for reproducibility.\n",
    "u4.set_seed(seed=43)\n",
    "\n",
    "# Create dataset conisting of random (x, y) pairs.\n",
    "dataset = u4.get_dataset(\n",
    "    num_pairs=15,\n",
    "    variance=0.5,\n",
    "    coefficients = np.random.rand(4)\n",
    ")"
   ]
  },
  {
   "cell_type": "markdown",
   "metadata": {},
   "source": [
    "<div class=\"alert alert-warning\">\n",
    "    <b>Exercise 3.2. [5 Points]</b>\n",
    "    <ul>\n",
    "        <li>Use the corresponding function in <code>u4_utils.py</code> to minimize the cross entropy loss and choose the combination of hyperparameters that enables the logistic regression model to best separate the two classes.</li>\n",
    "        <li>Then, plot the dataset and the logistic regression model. Retrieve the optimal combination by taking the following values for each hyperparameter into account:</li>\n",
    "        <table style=\"text-align:center;vertical-align:middle\">\n",
    "            <th>Hyperparameter</th>\n",
    "            <th>Values</th>\n",
    "            <tr>\n",
    "                <td><code>iterations</code></td>\n",
    "                <td>10, 100</td>\n",
    "            </tr>\n",
    "            <tr>\n",
    "                <td><code>learning_rate</code></td>\n",
    "                <td>0.1, 1.0, 10.0</td>\n",
    "            </tr>\n",
    "            <tr>\n",
    "                <td><code>momentum</code></td>\n",
    "                <td>0.0, 0.8</td>\n",
    "            </tr>\n",
    "        </table>\n",
    "        <li>For determining the best hyperparameters in this example, it is enough to simply look at the resulting model plot, i.e., you do not have to make any computations, a visual check is sufficient.</li>\n",
    "    </ul>\n",
    "</div>"
   ]
  },
  {
   "cell_type": "code",
   "execution_count": 32,
   "metadata": {},
   "outputs": [
    {
     "ename": "SyntaxError",
     "evalue": "positional argument follows keyword argument (1009117436.py, line 14)",
     "output_type": "error",
     "traceback": [
      "\u001b[1;36m  Input \u001b[1;32mIn [32]\u001b[1;36m\u001b[0m\n\u001b[1;33m    )\u001b[0m\n\u001b[1;37m    ^\u001b[0m\n\u001b[1;31mSyntaxError\u001b[0m\u001b[1;31m:\u001b[0m positional argument follows keyword argument\n"
     ]
    }
   ],
   "source": [
    "# Minimize mean squared error given a specific degree.\n",
    "coefficients = u4.minimize_mse(\n",
    "    dataset=dataset,\n",
    "    degree=10\n",
    ")\n",
    "\n",
    "# Plot data pairs as well as the defined linear model.\n",
    "u4.plot_model(\n",
    "    dataset=dataset,\n",
    "    coefficients=coefficients,\n",
    "    iterations=10,100,\n",
    "    learning_rate=[0.1, 1.0, 10.0],\n",
    "    momentum=0.0, 0.8\n",
    ")"
   ]
  },
  {
   "cell_type": "markdown",
   "metadata": {},
   "source": [
    "<h2>Exercise 4</h2>\n",
    "\n",
    "Considering again a binary classification problem, we will now workwith the <code>DataSet_LR_a.csv</code> (same as in the lecture notebook)."
   ]
  },
  {
   "cell_type": "markdown",
   "metadata": {},
   "source": [
    "<div class=\"alert alert-warning\">\n",
    "    <b>Exercise 4.1. [5 Points]</b>\n",
    "    <ul>\n",
    "        <li>Load and process the dataset as shown in the lecture notebook but this time considering 65% (parameter <code>frac</code>) of the samples for training and 35% for testing.</li>\n",
    "        <li>For reproducibility, set a seed=43.</li>\n",
    "    </ul>\n",
    "</div>"
   ]
  },
  {
   "cell_type": "code",
   "execution_count": null,
   "metadata": {},
   "outputs": [],
   "source": [
    "# your code goes here"
   ]
  },
  {
   "cell_type": "markdown",
   "metadata": {},
   "source": [
    "<div class=\"alert alert-warning\">\n",
    "    <b>Exercise 4.2. [8 Points]</b>\n",
    "    <ul>\n",
    "        <li>Considering <code>iterations=750</code> and <code>momentum=0.95</code> and by using the function to minimize the cross entropy loss, find a learning rate that enables the logistic regression model to achieve an accuracy on the <b>test set</b> higher than 85.5%.</li>\n",
    "        <li>Print out the model's accuracy.</li>\n",
    "        <li>For reproducibility, set a seed=43.</li>\n",
    "    </ul>\n",
    "</div>"
   ]
  },
  {
   "cell_type": "code",
   "execution_count": null,
   "metadata": {},
   "outputs": [],
   "source": [
    "# your code goes here"
   ]
  },
  {
   "cell_type": "markdown",
   "metadata": {},
   "source": [
    "<div class=\"alert alert-warning\">\n",
    "    <b>Exercise 4.3. [8 Points]</b>\n",
    "    <ul>\n",
    "        <li>Plot the 2D test dataset, once showing the true, actual labels (ground truth) and once showing the predicted labels.</li>\n",
    "    </ul>\n",
    "</div>"
   ]
  },
  {
   "cell_type": "code",
   "execution_count": null,
   "metadata": {},
   "outputs": [],
   "source": [
    "# your code goes here"
   ]
  },
  {
   "cell_type": "markdown",
   "metadata": {},
   "source": [
    "<h2>Exercise 5</h2>\n",
    "\n",
    "Considering the framework PyTorch and the instructions given in the lecture notebook, perform the following tasks:"
   ]
  },
  {
   "cell_type": "markdown",
   "metadata": {},
   "source": [
    "<div class=\"alert alert-warning\">\n",
    "    <b>Exercise 5.1. [5 Points]</b>\n",
    "    <ul>\n",
    "        <li>Generate a tensor of 2 dimensions with a shape of 2 x 5, containing random numbers from a standard normal distribution with (mean=0 and stddev=variance=1).</li>\n",
    "        <li>Print out the tensor and its shape to be sure that your answer is correct.</li>\n",
    "        <li>For reproducibility, set seed=43.</li>\n",
    "    </ul>\n",
    "</div>"
   ]
  },
  {
   "cell_type": "code",
   "execution_count": null,
   "metadata": {},
   "outputs": [],
   "source": [
    "# your code goes here"
   ]
  },
  {
   "cell_type": "markdown",
   "metadata": {},
   "source": [
    "<div class=\"alert alert-warning\">\n",
    "    <b>Exercise 5.2. [5 Points]</b>\n",
    "    <ul>\n",
    "        <li>Implement the function $g\\left(x\\right) = 2.5\\cdot{}{x}^3$ related to the previously generated tensor using PyTorch.</li>\n",
    "        <li>Print the output of the function considering as input the tensor you have created in the first task of this exercise.</li>\n",
    "    </ul>\n",
    "</div>"
   ]
  },
  {
   "cell_type": "code",
   "execution_count": null,
   "metadata": {},
   "outputs": [],
   "source": [
    "# your code goes here"
   ]
  },
  {
   "cell_type": "markdown",
   "metadata": {},
   "source": [
    "<div class=\"alert alert-warning\">\n",
    "    <b>Exercise 5.3. [5 Points]</b>\n",
    "    <ul>\n",
    "        <li>Compute the gradient of the previously defined function $g\\left(x\\right)$ for $x = 0.35$ using the automatic differentiation functionality of PyTorch.</li>\n",
    "        <li>Following the lecture notebook, print $x$ as a tensor, the output of the function $g(x)$, and the gradient $g'(x)$.</li>\n",
    "    </ul>\n",
    "</div>"
   ]
  },
  {
   "cell_type": "code",
   "execution_count": null,
   "metadata": {},
   "outputs": [],
   "source": [
    "# your code goes here"
   ]
  },
  {
   "cell_type": "markdown",
   "metadata": {},
   "source": [
    "<h2>Exercise 6</h2>\n",
    "\n",
    "With the MNIST dataset, perform the following tasks:"
   ]
  },
  {
   "cell_type": "markdown",
   "metadata": {},
   "source": [
    "<div class=\"alert alert-warning\">\n",
    "    <b>Important:</b> For reproducibility, for each of the following tasks, set a fixed seed (seed=43).\n",
    "</div>"
   ]
  },
  {
   "cell_type": "markdown",
   "metadata": {},
   "source": [
    "<div class=\"alert alert-warning\">\n",
    "    <b>Exercise 6.1. [5 Points]</b>\n",
    "    <ul>\n",
    "        <li>Set the following hyperparameters (hint: <code>epochs</code> is the same as <code>iterations</code>):</li>\n",
    "    </ul>\n",
    "\n",
    "Hyperparameter | Value\n",
    ":--- | :---\n",
    "`batch_size` | 7\n",
    "`epochs` | 2\n",
    "`learning_rate` | 0.001\n",
    "`momentum` | 0.1\n",
    "</div>"
   ]
  },
  {
   "cell_type": "code",
   "execution_count": null,
   "metadata": {},
   "outputs": [],
   "source": [
    "# your code goes here"
   ]
  },
  {
   "cell_type": "markdown",
   "metadata": {},
   "source": [
    "<div class=\"alert alert-warning\">\n",
    "    <b>Exercise 6.2. [5 Points]</b>\n",
    "    <ul>\n",
    "        <li>As shown in the lecture notebook, get the data loaders for the training and test MNIST data. Fetch the samples and targets.</li>\n",
    "    </ul>\n",
    "</div>"
   ]
  },
  {
   "cell_type": "code",
   "execution_count": null,
   "metadata": {},
   "outputs": [],
   "source": [
    "# your code goes here"
   ]
  },
  {
   "cell_type": "markdown",
   "metadata": {},
   "source": [
    "<div class=\"alert alert-warning\">\n",
    "    <b>Exercise 6.3. [7 Points]</b>\n",
    "    <ul>\n",
    "        <li>Minimize the cross entropy loss using the training data to get the coefficients of the logistic model.</li>\n",
    "        <li>Get the predictions for the test data using this model and print the accuracy on the test set.</li>\n",
    "    </ul>\n",
    "</div>"
   ]
  },
  {
   "cell_type": "code",
   "execution_count": null,
   "metadata": {},
   "outputs": [],
   "source": [
    "# your code goes here"
   ]
  },
  {
   "cell_type": "markdown",
   "metadata": {},
   "source": [
    "<div class=\"alert alert-warning\">\n",
    "    <b>Exercise 6.4. [12 Points]</b>\n",
    "    <ul>\n",
    "        <li>Keeping <code>batch_size=7</code> and <code>epochs=2</code>, optimize the other two hyperparameters <code>learning_rate</code> and/or <code>momentum</code> in a way that you achieve a better performance (accuracy). Then, print out the results.</li>\n",
    "        <li>Hint: You might consider some of the concepts learned in the previous units to automatize this process.</li>\n",
    "        <li>Hint: Do not forget to set the seed if you want reproducible and comparable results.</li>\n",
    "    </ul>\n",
    "</div>"
   ]
  },
  {
   "cell_type": "code",
   "execution_count": null,
   "metadata": {},
   "outputs": [],
   "source": [
    "# your code goes here"
   ]
  }
 ],
 "metadata": {
  "kernelspec": {
   "display_name": "Python 3 (ipykernel)",
   "language": "python",
   "name": "python3"
  },
  "language_info": {
   "codemirror_mode": {
    "name": "ipython",
    "version": 3
   },
   "file_extension": ".py",
   "mimetype": "text/x-python",
   "name": "python",
   "nbconvert_exporter": "python",
   "pygments_lexer": "ipython3",
   "version": "3.9.12"
  }
 },
 "nbformat": 4,
 "nbformat_minor": 4
}
