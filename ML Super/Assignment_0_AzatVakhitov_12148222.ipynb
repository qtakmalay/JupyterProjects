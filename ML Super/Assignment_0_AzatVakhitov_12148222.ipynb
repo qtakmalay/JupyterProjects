{
 "cells": [
  {
   "cell_type": "markdown",
   "id": "db5f82b5",
   "metadata": {
    "editable": true,
    "slideshow": {
     "slide_type": ""
    },
    "tags": []
   },
   "source": [
    "<h1 style=\"color:rgb(0,120,170)\">Supervised ML WS23 <br> Assignment 0</h1>\n",
    "\n",
    "Within this introductory assignment we want to give you the chance to familiarise yourself with Jupyter Notebooks and this course's requirements for your submissions."
   ]
  },
  {
   "cell_type": "markdown",
   "id": "a64d8527",
   "metadata": {},
   "source": [
    "<h2 style=\"color:rgb(0,120,170)\">Copyrighting and Fare Use</h2>\n",
    "\n",
    "This material, no matter whether in printed or electronic form,\n",
    "may be used for personal and non-commercial educational use\n",
    "only. Any reproduction of this material, no matter whether as a\n",
    "whole or in parts, no matter whether in printed or in electronic\n",
    "form, requires explicit prior acceptance of the authors."
   ]
  },
  {
   "cell_type": "markdown",
   "id": "9c63335f",
   "metadata": {},
   "source": [
    "<h2 style=\"color:rgb(0,120,170)\">Automatic Testing Guidelines</h2>\n",
    "\n",
    "Your submissions are tested for correctness and plagiarism automatically.\n",
    "Automatic unittesting requires you, as a student, to submit a notebook which contains strictly defined objects.\n",
    "Cell tags, predefined function and variable names,dtypes and more.<br>\n",
    "Within the notebook we provide detailed instruction which you may want to follow, in order to maximise your final grade.\n",
    "\n",
    "**Name your notebook properly**; follow the pattern in the template name:\n",
    "\n",
    "**Assignment_N_NameSurname_matrnumber**\n",
    "<ol>\n",
    "    <li>N - number of assignment</li>\n",
    "    <li>NameSurname - your full name where every part of the name starts with a captial letter, no spaces</li>\n",
    "    <li>matrnumber - your student number as it appears on your ID card (without K)</li>\n",
    "</ol>\n",
    "\n",
    "You may notice, that most cells are tagged, that is for the unittest routine to recognise them.\n",
    "We highly recommend you to develop your code within provided cells.\n",
    "Adding (and definitley removing) cells might badly influence your sumbission grade.\n",
    "Also changing given function and variable names will cause the unittest to break and therefore lead to point deductions.\n",
    "\n",
    "**Please be careful**, and may the force be with you."
   ]
  },
  {
   "cell_type": "markdown",
   "id": "7bdbf4bd",
   "metadata": {},
   "source": [
    "<h2 style=\"color:rgb(0,120,170)\">LaTeX</h2>\n",
    "<p>\n",
    "    During the course you will be often supposed to derive formulas and perform calculations.<br>\n",
    "    The perfect tool to use in that case is LaTeX.<br>\n",
    "    By developers definition: <i>\"LaTeX is a high-quality typesetting system which includes features designed for the production of technical and scientific documentation.\"</i>\n",
    "</p>\n",
    "<p>\n",
    "    Tips how to use LaTeX:\n",
    "    <ul>\n",
    "    <li>Enter LaTeX mode (inline) by typing iside of <b>two dollar signs.</b><br>\n",
    "        Your first LaTeX statement $y = x^2$\n",
    "    </li>\n",
    "    <li> For centered, larger, stand-alone formulas use <b>double dollar signs</b> on each side: \n",
    "        $$\\sqrt{x^2} = y $$\n",
    "    </li>\n",
    "    <li>Use <b>curly brackets</b> to define arguments:<br>\n",
    "        No argument definition: $x^2 \\cdot x^3 \\neq x^2+3$<br>\n",
    "        Using brackets for argument definition: $x^2 \\cdot x^3 = x^{2+3}$<br>\n",
    "    </li>\n",
    "    <li>\n",
    "        Go for fancy tags to make your styling readable.<br>\n",
    "        Blackboard Bold style can be used for sets of numbers. Use <b>\\mathbb</b> tag. Examples: $\\mathbb{R}, \\mathbb{Z}, \\mathbb{I}, \\mathbb{Q}$<br>\n",
    "        Fractions can be written with <b>\\frac</b> tag. Example: $\\frac{x^2-1}{x-1}=\\frac{(x-1)(x+1)}{x-1}=x+1$\n",
    "    </li>\n",
    "    <li>Adjust bracked hight with <b>\\left \\right</b> tags.<br>\n",
    "        Formula without brackets adjustments: $y = (\\frac{\\mathbb{E}(X)}{\\mathbb{E}(Y)})^{x-y}$<br>\n",
    "        Formula with brackets adjustments: $y = \\left(\\frac{\\mathbb{E}(X)}{\\mathbb{E}(Y)}\\right)^{x-y}$\n",
    "    </li>\n",
    "     <li> <a href=\"https://wch.github.io/latexsheet/\">Full latex cheatsheet</a>\n",
    "    </li>\n",
    "    </ul>\n",
    "</p>\n",
    "    "
   ]
  },
  {
   "cell_type": "markdown",
   "id": "bf37cd95",
   "metadata": {
    "editable": true,
    "slideshow": {
     "slide_type": ""
    },
    "tags": []
   },
   "source": [
    "<h2 style=\"color:rgb(210,90,80)\">Write a LaTeX formula (7 points)</h2>\n",
    "<p>\n",
    "    Show that for $ax^2+bx+c$ roots are:$$x_{1,2}=\\frac{-b\\pm\\sqrt{b^2-4ac}}{2a}$$\n",
    "</p>"
   ]
  },
  {
   "cell_type": "markdown",
   "id": "f6e60197",
   "metadata": {
    "editable": true,
    "slideshow": {
     "slide_type": ""
    },
    "tags": [
     "solution"
    ]
   },
   "source": [
    "Your solution goes here ↓↓↓\n",
    "<p> $x^2+\\frac{bx}{a}+\\frac{c}{a}=0$ </p>\n",
    "<p>$x^2+2*\\frac{b}{2a}x+\\frac{b^2}{4a^2}-\\frac{b^2}{4a^2}+\\frac{c}{a} = 0 $</p>\n",
    "<p>$(x+\\frac{b}{2a})^2=\\frac{b^2}{4a^2}-\\frac{c}{a}$</p>\n",
    "<p>$(x+\\frac{b}{2a})^2=\\frac{b^2-4a^2c}{4a^2}$</p>\n",
    "<p>$x=\\frac{-b\\pm\\sqrt{b^2-4ac}}{2a}$</p>"
   ]
  },
  {
   "cell_type": "markdown",
   "id": "cba5fd18",
   "metadata": {
    "editable": true,
    "slideshow": {
     "slide_type": ""
    },
    "tags": []
   },
   "source": [
    "<h2 style=\"color:rgb(0,120,170)\">Coding</h2>\n",
    "\n",
    "In order to pass unittests please follow the instructions carefully.\n",
    "\n",
    "<h3 style=\"color:rgb(210,90,80)\">Imports</h3>\n",
    "Install and import packages you need."
   ]
  },
  {
   "cell_type": "code",
   "execution_count": 1,
   "id": "e0c66511",
   "metadata": {
    "editable": true,
    "slideshow": {
     "slide_type": ""
    },
    "tags": [
     "imports"
    ]
   },
   "outputs": [],
   "source": [
    "import numpy as np\n",
    "from matplotlib import pyplot as plt"
   ]
  },
  {
   "cell_type": "markdown",
   "id": "ebabf977",
   "metadata": {},
   "source": [
    "<h3 style=\"color:rgb(210,90,80)\">Write a function (5 points)</h3><br>\n",
    "Write a function <b>bivar_normal()</b> which returns a numpy array of shape (100,2) filled with normally distributed random datapoints with mean=0, std=1."
   ]
  },
  {
   "cell_type": "code",
   "execution_count": 2,
   "id": "17457b09",
   "metadata": {
    "editable": true,
    "slideshow": {
     "slide_type": ""
    },
    "tags": [
     "bivar"
    ]
   },
   "outputs": [],
   "source": [
    "def bivar_normal():#do not change function name\n",
    "    \"\"\"Function bivar_normal takes no argument and returns a numpy array\n",
    "\n",
    "    Returns\n",
    "    -------\n",
    "    np.ndarray\n",
    "        numpy array of shape (100,2) of np.float32 dtype with no rounding of values.\n",
    "    \"\"\"\n",
    "    #your code goes here ↓↓↓\n",
    "    return np.random.randn(100, 2).astype(np.float32)"
   ]
  },
  {
   "cell_type": "markdown",
   "id": "0ad08d41",
   "metadata": {
    "editable": true,
    "slideshow": {
     "slide_type": ""
    },
    "tags": []
   },
   "source": [
    "<h3 style=\"color:rgb(210,90,80)\">Plot (5 points)</h3>\n",
    "Define a variable <b>data</b> through calling a <b>bivar_normal()</b> function developed above.<br>\n",
    "Plot your <b>data</b> in a scatterplot by using matplotlib library. Set axis labels and plot title properly."
   ]
  },
  {
   "cell_type": "code",
   "execution_count": 3,
   "id": "ffcdd337",
   "metadata": {
    "editable": true,
    "slideshow": {
     "slide_type": ""
    },
    "tags": [
     "data"
    ]
   },
   "outputs": [],
   "source": [
    "#please use predefined names of varibales\n",
    "data = bivar_normal(); #define data variable\n",
    "assert data.dtype == np.float32\n",
    "assert data.shape == (100, 2)"
   ]
  },
  {
   "cell_type": "code",
   "execution_count": 4,
   "id": "2cd9b0c8",
   "metadata": {
    "editable": true,
    "slideshow": {
     "slide_type": ""
    },
    "tags": [
     "plot"
    ]
   },
   "outputs": [],
   "source": [
    "def gen_plot(data):#do not change formula name\n",
    "    \"\"\"write a function that plots the data\n",
    "\n",
    "    Returns\n",
    "    -------\n",
    "    matplotlib figure\n",
    "        generated figure object\n",
    "    \"\"\"\n",
    "    fig = plt.figure()\n",
    "    plt.scatter(data[:, 0], data[:, 1], color='blue', alpha=0.5)\n",
    "    plt.xlabel('X-axis')\n",
    "    plt.ylabel('Y-axis')\n",
    "    plt.title('Bivariate Normal Distribution')\n",
    "    return fig"
   ]
  },
  {
   "cell_type": "code",
   "execution_count": 5,
   "id": "12a293f2",
   "metadata": {
    "editable": true,
    "slideshow": {
     "slide_type": ""
    },
    "tags": [
     "show_plot"
    ]
   },
   "outputs": [
    {
     "name": "stderr",
     "output_type": "stream",
     "text": [
      "C:\\Users\\azatv\\AppData\\Local\\Temp\\ipykernel_26700\\962695308.py:3: UserWarning: Matplotlib is currently using module://matplotlib_inline.backend_inline, which is a non-GUI backend, so cannot show the figure.\n",
      "  fig.show()\n"
     ]
    },
    {
     "data": {
      "image/png": "[encoded data removed]",
      "text/plain": [
       "<Figure size 640x480 with 1 Axes>"
      ]
     },
     "metadata": {},
     "output_type": "display_data"
    },
    {
     "data": {
      "text/plain": [
       "<Figure size 640x480 with 0 Axes>"
      ]
     },
     "metadata": {},
     "output_type": "display_data"
    }
   ],
   "source": [
    "# in here the plot is shown\n",
    "fig = gen_plot(data)\n",
    "fig.show()\n",
    "\n",
    "assert isinstance(fig, type(plt.figure()))"
   ]
  },
  {
   "cell_type": "markdown",
   "id": "431ae4c6",
   "metadata": {
    "editable": true,
    "slideshow": {
     "slide_type": ""
    },
    "tags": []
   },
   "source": [
    "<h3 style=\"color:rgb(210,90,80)\">Test question (2 points)</h3>\n",
    "\n",
    "What is true? Multiple answers might be correct.<br> \n",
    "\n",
    "Pegasus is:<br>\n",
    "a_) half horse, half human<br>\n",
    "b_) a horse with wings<br>\n",
    "c_) an elephant flying with its huge ears<br>\n",
    "d_) a mythical creature<br>\n",
    "\n",
    "To answer the question assign to variables in the next cell **True** or **False** boolean values.<br>\n",
    "To earn points **assign values to all variables**"
   ]
  },
  {
   "cell_type": "code",
   "execution_count": 6,
   "id": "023268aa",
   "metadata": {
    "editable": true,
    "slideshow": {
     "slide_type": ""
    },
    "tags": [
     "testquestion"
    ]
   },
   "outputs": [],
   "source": [
    "#examples for you\n",
    "example_of_true_variable = True\n",
    "example_of_false_variable = False\n",
    "\n",
    "#your answers go here ↓↓↓,\n",
    "a_ = False\n",
    "b_ = True\n",
    "c_ = False\n",
    "d_ = True"
   ]
  },
  {
   "cell_type": "markdown",
   "id": "14d405f6",
   "metadata": {},
   "source": [
    "<h3 style=\"color:rgb(210,90,80)\">Make sure your submission has no errors (1 point)</h3>\n",
    "\n",
    "Remove all errors in code and run all cells to make sure your code is executable."
   ]
  },
  {
   "cell_type": "code",
   "execution_count": null,
   "id": "3c4a4f73",
   "metadata": {
    "editable": true,
    "slideshow": {
     "slide_type": ""
    },
    "tags": [
     "err"
    ]
   },
   "outputs": [],
   "source": []
  },
  {
   "cell_type": "markdown",
   "id": "6f4db6af",
   "metadata": {},
   "source": [
    "<h2 style=\"color:rgb(0,120,170)\">Technical cells</h2>\n",
    "\n",
    "The cells below are needed for efficient unittesting.\n",
    "Do not delete or change them in order to receive proper evaluation.<br>\n",
    "The executability check might help you."
   ]
  },
  {
   "cell_type": "code",
   "execution_count": 7,
   "id": "3b02525e",
   "metadata": {
    "editable": true,
    "slideshow": {
     "slide_type": ""
    },
    "tags": [
     "tech"
    ]
   },
   "outputs": [],
   "source": [
    "def bivar_normal_tl():\n",
    "    try:\n",
    "        return bivar_normal().tolist()\n",
    "    except:\n",
    "        raise ValueError(\"Check if your bivar_normal() functions returns numpy nd array\")\n",
    "    "
   ]
  },
  {
   "cell_type": "code",
   "execution_count": 8,
   "id": "a9cecdb2",
   "metadata": {
    "editable": true,
    "slideshow": {
     "slide_type": ""
    },
    "tags": [
     "exec"
    ]
   },
   "outputs": [
    {
     "name": "stdout",
     "output_type": "stream",
     "text": [
      "Executable\n"
     ]
    }
   ],
   "source": [
    "#executability check\n",
    "bivar_normal_tl()\n",
    "print(\"Executable\")"
   ]
  },
  {
   "cell_type": "code",
   "execution_count": null,
   "id": "c3c93f77",
   "metadata": {},
   "outputs": [],
   "source": []
  }
 ],
 "metadata": {
  "celltoolbar": "Tags",
  "kernelspec": {
   "display_name": "Python 3 (ipykernel)",
   "language": "python",
   "name": "python3"
  },
  "language_info": {
   "codemirror_mode": {
    "name": "ipython",
    "version": 3
   },
   "file_extension": ".py",
   "mimetype": "text/x-python",
   "name": "python",
   "nbconvert_exporter": "python",
   "pygments_lexer": "ipython3",
   "version": "3.10.9"
  }
 },
 "nbformat": 4,
 "nbformat_minor": 5
}
