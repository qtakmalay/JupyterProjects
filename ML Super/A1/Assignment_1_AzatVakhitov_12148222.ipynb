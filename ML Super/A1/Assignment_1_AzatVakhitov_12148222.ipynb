{
 "cells": [
  {
   "cell_type": "markdown",
   "metadata": {
    "slideshow": {
     "slide_type": ""
    },
    "tags": [
     "text"
    ]
   },
   "source": [
    "<h1 style=\"color:rgb(0,120,170)\">Assignment 1: k-nearest neighbors</h1>"
   ]
  },
  {
   "cell_type": "markdown",
   "metadata": {
    "tags": [
     "text"
    ]
   },
   "source": [
    "This material, no matter whether in printed or electronic form,\n",
    "may be used for personal and non-commercial educational use\n",
    "only. Any reproduction of this material, no matter whether as a\n",
    "whole or in parts, no matter whether in printed or in electronic\n",
    "form, requires explicit prior acceptance of the authors."
   ]
  },
  {
   "cell_type": "markdown",
   "metadata": {
    "slideshow": {
     "slide_type": ""
    },
    "tags": [
     "text"
    ]
   },
   "source": [
    "<h2 style=\"color:rgb(0,120,170)\">Automatic Testing Guidelines</h2>\n",
    "\n",
    "Automatic unittesting requires you to submit a notebook which contains strictly defined objects.\n",
    "Strictness of definition consists of unified shapes, dtypes, variable names and more.\n",
    "\n",
    "Within the notebook, we provide detailed instruction which you should follow in order to maximise your final grade.\n",
    "\n",
    "**Name your notebook properly**, follow the pattern in the template name:\n",
    "\n",
    "**Assignment_N_NameSurname_matrnumber**\n",
    "<ol>\n",
    "    <li>N - number of assignment</li>\n",
    "    <li>NameSurname - your full name where every part of the name starts with a capital letter, no spaces</li>\n",
    "    <li>matrnumber - you student number on ID card (without k, potenitially with a leading zero)</li>\n",
    "</ol>\n",
    "\n",
    "Don't add any cells but use the ones provided by us. You may notice that all cells are tagged such that the unittest routine can recognise them. Before you sumbit your solution, make sure every cell has its (correct) tag!\n",
    "\n",
    "You can implement helper functions where needed unless you put them in the same cell they are actually called. Always make sure that implemented functions have the correct output and given variables contain the correct data type. In the descriptions for every function you can find information on what datatype an output should have and you should stick to that in order to minimize conflicts with the unittest. Don't import any other packages than listed in the cell with the \"imports\" tag.\n",
    "\n",
    "Questions are usually multiple choice (except the task description says otherwise) and can be answered by changing the given variables to either \"True\" or \"False\". \"None\" is counted as a wrong answer in any case!\n",
    "\n",
    "**Note:** Never use variables you defined in another cell in your functions directly; always pass them to the function as a parameter. In the unitest, they won't be available either. If you want to make sure that everything is executable for the unittest, try executing cells/functions individually (instead of running the whole notebook)."
   ]
  },
  {
   "cell_type": "markdown",
   "metadata": {
    "slideshow": {
     "slide_type": ""
    },
    "tags": []
   },
   "source": [
    "<h2 style=\"color:rgb(0,120,170)\">Plagiarism</h2>\n",
    "\n",
    "Your submissions will be scanned for plagiarism! \\\n",
    "If plagiarism is detected, all involved students will automatically receive 0 points for the whole submission, until further explanation is brought forward to us."
   ]
  },
  {
   "cell_type": "markdown",
   "metadata": {
    "slideshow": {
     "slide_type": ""
    },
    "tags": [
     "text"
    ]
   },
   "source": [
    "<h2 style=\"color:rgb(0,120,170)\">Task 1: Risk Calulation (10 Points)</h2>"
   ]
  },
  {
   "cell_type": "markdown",
   "metadata": {
    "slideshow": {
     "slide_type": ""
    },
    "tags": [
     "text"
    ]
   },
   "source": [
    "Assume the simple situation of a binary classification task, i.e. $y = \\pm 1$, and a 1-dimensional feature $x$, i.e. $d=1$. Moreover, the feature is discrete (categorical) and can only have 3 possible values $x=1,2,3$.\n",
    "\n",
    "Data is drawn from the following distribution:\n",
    "\n",
    "\\begin{align}\n",
    "p(x=1,y=+1) &= 0.1\\\\\n",
    "p(x=1,y=-1) &= 0.2\\\\\n",
    "p(x=2,y=+1) &= 0.2\\\\\n",
    "p(x=2,y=-1) &= 0.1\\\\\n",
    "p(x=3,y=+1) &= 0.3\\\\\n",
    "p(x=3,y=-1) &= 0.1\\\\\n",
    "\\end{align}\n",
    "\n",
    "Compute the risk for the 0-1-loss for these two classifiers:\n",
    "\n",
    "(1) The Bayes-optimal classifier $g_\\textrm{opt}$.<br>\n",
    "(2) A classifier $g_\\textrm{dom}$ which always outputs $+1$, i.e. the dominant label, independent of $x$."
   ]
  },
  {
   "cell_type": "markdown",
   "metadata": {
    "slideshow": {
     "slide_type": ""
    },
    "tags": [
     "calculation1"
    ]
   },
   "source": [
    "p(y∣x)=p(x)p(x∣y)p(y)"
   ]
  },
  {
   "cell_type": "markdown",
   "metadata": {
    "slideshow": {
     "slide_type": ""
    },
    "tags": [
     "text"
    ]
   },
   "source": [
    "<h2 style=\"color:rgb(0,120,170)\">Task 2: Visualization</h2>"
   ]
  },
  {
   "cell_type": "code",
   "execution_count": 1,
   "metadata": {
    "slideshow": {
     "slide_type": ""
    },
    "tags": [
     "imports"
    ]
   },
   "outputs": [],
   "source": [
    "import sklearn\n",
    "import numpy as np\n",
    "import matplotlib.pyplot as plt\n",
    "from matplotlib.figure import Figure\n",
    "from matplotlib.collections import PathCollection"
   ]
  },
  {
   "cell_type": "code",
   "execution_count": 2,
   "metadata": {
    "scrolled": true,
    "slideshow": {
     "slide_type": ""
    },
    "tags": [
     "dataset"
    ]
   },
   "outputs": [],
   "source": [
    "# read data, split into X(features) and y(labels)\n",
    "Z = np.genfromtxt('DataSet1.csv', delimiter=';')\n",
    "X, y = Z[:,:-1], Z[:,-1]"
   ]
  },
  {
   "cell_type": "markdown",
   "metadata": {
    "tags": [
     "text"
    ]
   },
   "source": [
    "<h3 style=\"color:rgb(210,90,80)\">Task 2.1:</h3>\n",
    "\n",
    "Now visualize the data stored in `DataSet1.csv` with a scatter plot.<br>\n",
    "The first two columns are the features which hold the $x_1$ and $x_2$ coordinates of the data.<br>\n",
    "The last column provides the labels $y$ ($\\pm1$) of the data. Use different colors for different labels.<br>\n",
    "Always label the axes of all your plots."
   ]
  },
  {
   "cell_type": "markdown",
   "metadata": {
    "tags": [
     "text"
    ]
   },
   "source": [
    "<h3 style=\"color:rgb(210,90,80)\">Code & Question 2.1 (5 points):</h3>"
   ]
  },
  {
   "cell_type": "markdown",
   "metadata": {},
   "source": [
    "### Plotting\n",
    "\n",
    "Visualize the data stored in `DataSet1.csv` with a scatter plot by filling out the function below.\n",
    "Make sure to only use function-parameters in your plot."
   ]
  },
  {
   "cell_type": "code",
   "execution_count": 3,
   "metadata": {
    "slideshow": {
     "slide_type": ""
    },
    "tags": [
     "code2.1"
    ]
   },
   "outputs": [],
   "source": [
    "def scatter_plot(X, y):\n",
    "    \"\"\"creates a scatter-plot for the dataset X with labels y\n",
    "\n",
    "    Parameters\n",
    "    ----------\n",
    "    X : np.ndarray\n",
    "        data\n",
    "    y : np.ndarray\n",
    "        labels\n",
    "\n",
    "    Returns\n",
    "    -------\n",
    "    Figure\n",
    "        a matplotlib figure object\n",
    "    \"\"\"\n",
    "    fig = plt.figure()\n",
    "    # your code goes here ↓↓↓\n",
    "    plt.scatter(X[y==1][:,0], X[y==1][:,1], color=\"blue\", label=\"y=1\")\n",
    "    plt.scatter(X[y==-1][:,0], X[y==-1][:,1], color=\"red\", label=\"y=-1\")\n",
    "    plt.title(\"Dataset1\")\n",
    "    plt.xlabel(\"x_1-axis\")\n",
    "    plt.ylabel(\"x_2-axis\")\n",
    "    return fig"
   ]
  },
  {
   "cell_type": "code",
   "execution_count": 4,
   "metadata": {
    "slideshow": {
     "slide_type": ""
    },
    "tags": []
   },
   "outputs": [
    {
     "data": {
      "image/png": "[encoded data removed]",
      "text/plain": [
       "<Figure size 640x480 with 1 Axes>"
      ]
     },
     "metadata": {},
     "output_type": "display_data"
    }
   ],
   "source": [
    "fig = scatter_plot(X, y)\n",
    "assert isinstance(fig, Figure)"
   ]
  },
  {
   "cell_type": "markdown",
   "metadata": {
    "tags": [
     "text"
    ]
   },
   "source": [
    "***Answer the following yes/no questions concerning the distribution of the data:***<br>\n",
    "\n",
    "**Are the two classes linearly seperable?**<br>\n",
    "\n",
    "a_) Yes<br>\n",
    "b_) No<br>\n",
    "\n",
    "**Are there any outliers?**<br>\n",
    "\n",
    "c_) Yes<br>\n",
    "d_) No<br>\n",
    "\n",
    "<!--- **Would outliers affect a kNN algorithm if k is small (<= 2)?**<br> \n",
    "e_) Yes<br>\n",
    "f_) No<br> --->\n",
    "\n",
    "**Outliers would affect a kNN algorithm when k is ...?**<br>\n",
    "\n",
    "e_) large (>2)<br>\n",
    "f_) small (<=2)<br>\n",
    "\n",
    "\n",
    "To answer the question assign to variables in the next cell \"True\" or \"False\" boolean values. \n",
    "To earn points, assign values to all variables. Note: Do not reuse these variable names. They are used for testing."
   ]
  },
  {
   "cell_type": "code",
   "execution_count": 5,
   "metadata": {
    "slideshow": {
     "slide_type": ""
    },
    "tags": [
     "q2.1"
    ]
   },
   "outputs": [],
   "source": [
    "#examples for you\n",
    "example_of_true_variable = True\n",
    "example_of_false_variable = False\n",
    "\n",
    "#your answers go here ↓↓↓\n",
    "a_ = True\n",
    "b_ = False\n",
    "\n",
    "c_ = True\n",
    "d_ = False\n",
    "\n",
    "e_ = False\n",
    "f_ = True"
   ]
  },
  {
   "cell_type": "markdown",
   "metadata": {
    "tags": [
     "text"
    ]
   },
   "source": [
    "<h3 style=\"color:rgb(210,90,80)\">Question 2.2 (5 points):</h3>\n",
    "\n",
    "***Which of the following statements about $k$-nearest neighbors are correct?***<br>\n",
    "(Multiple answers might be correct)\n",
    "\n",
    "g_) requires very long training time already for small data sets <br>\n",
    "h_) not suited for large datasets<br>\n",
    "i_) sensitive to the rescaling of individual features (individual dimensions of feature vectors)<br>\n",
    "j_) has many trainable model parameters <br>\n",
    "k_) k-NN only allows for classification, not for regression <br>"
   ]
  },
  {
   "cell_type": "code",
   "execution_count": 6,
   "metadata": {
    "slideshow": {
     "slide_type": ""
    },
    "tags": [
     "q2.2"
    ]
   },
   "outputs": [],
   "source": [
    "#examples for you\n",
    "example_of_true_variable = True\n",
    "example_of_false_variable = False\n",
    "\n",
    "#your answers go here ↓↓↓\n",
    "g_ = False\n",
    "h_ = True\n",
    "i_ = True\n",
    "j_ = False\n",
    "k_ = False"
   ]
  },
  {
   "cell_type": "markdown",
   "metadata": {
    "tags": [
     "text"
    ]
   },
   "source": [
    "<h2 style=\"color:rgb(0,120,170)\">Task 3: Training the model</h2>\n",
    "\n",
    "Now we want to put the kNN into action. To this end, work through the following points\n",
    "\n",
    "* Implement `train_kNN` which fits newly created instance of `KNeighborsClassifier` (`sklearn`) to some training data\n",
    "* Complete `eval_kNN`such that it outputs the prediction for some input data using a passed classifier\n",
    "* Program the function `mean_zero_one_loss` that calculates the mean zero-one loss (see lecture slides) of predicted values and samples from the test set\n",
    "* Put all of these functions together in `run_kNN` to fit a model to training data, make predictions on left-out (test) data and compute the loss for these predictions. To split the dataset into training and test sets, use 10-fold cross validation (CV), loop over all the splits and collect the mean error for each split.\n",
    "\n",
    "At the end of this task, visualize the mean error for $k \\in \\{1,3,5,...,177,179\\}$ in a plot and answer the following questions."
   ]
  },
  {
   "cell_type": "code",
   "execution_count": 7,
   "metadata": {
    "slideshow": {
     "slide_type": ""
    },
    "tags": [
     "imports2"
    ]
   },
   "outputs": [],
   "source": [
    "from sklearn.model_selection import KFold\n",
    "from sklearn import neighbors"
   ]
  },
  {
   "cell_type": "markdown",
   "metadata": {
    "tags": [
     "text"
    ]
   },
   "source": [
    "<h3 style=\"color:rgb(210,90,80)\">Code 3.1 (5 points):</h3>"
   ]
  },
  {
   "cell_type": "code",
   "execution_count": 8,
   "metadata": {
    "slideshow": {
     "slide_type": ""
    },
    "tags": [
     "code3.1"
    ]
   },
   "outputs": [],
   "source": [
    "def train_kNN(X_train,y_train,k_train): \n",
    "    \"\"\"\n",
    "    Function that fits a kNN to given data\n",
    "    @param X_train, np array, training data\n",
    "    @param y_train, np array, training labels\n",
    "    @param k_train, integer, k for the kNN\n",
    "    \n",
    "    @output classifier, kNN instance, classifier that was fitted to training data\n",
    "    \"\"\"\n",
    "    #your code goes here ↓↓↓\n",
    "    classifier = neighbors.KNeighborsClassifier(n_neighbors=k_train)\n",
    "    classifier.fit(X_train, y_train)\n",
    "    return classifier "
   ]
  },
  {
   "cell_type": "markdown",
   "metadata": {
    "slideshow": {
     "slide_type": ""
    },
    "tags": [
     "text"
    ]
   },
   "source": [
    "<h3 style=\"color:rgb(210,90,80)\">Code 3.2 (5 points):</h3>"
   ]
  },
  {
   "cell_type": "code",
   "execution_count": 9,
   "metadata": {
    "slideshow": {
     "slide_type": ""
    },
    "tags": [
     "code3.2"
    ]
   },
   "outputs": [],
   "source": [
    "def eval_kNN(classifier, X_eval): \n",
    "    \"\"\"\n",
    "    Function that returns predictions for some input data\n",
    "    @param classifier, kNN instance, trained kNN classifier\n",
    "    @param X_eval, np array, data that you want to predict the labels for\n",
    "\n",
    "    @output predicitons, np array, predicted labels\n",
    "    \"\"\"\n",
    "    #your code goes here ↓↓↓\n",
    "    predictions = classifier.predict(X_eval)\n",
    "    return predictions"
   ]
  },
  {
   "cell_type": "markdown",
   "metadata": {
    "slideshow": {
     "slide_type": ""
    },
    "tags": [
     "text"
    ]
   },
   "source": [
    "<h3 style=\"color:rgb(210,90,80)\">Code 3.3 (5 points):</h3>"
   ]
  },
  {
   "cell_type": "code",
   "execution_count": 10,
   "metadata": {
    "slideshow": {
     "slide_type": ""
    },
    "tags": [
     "code3.3"
    ]
   },
   "outputs": [],
   "source": [
    "def mean_zero_one_loss(y_true, y_pred):\n",
    "    \"\"\"\n",
    "    Function that calculates the mean zero-one loss for given true and predicted labels\n",
    "    @param y_true, np array, true labels\n",
    "    @param y_pred, np array, predicted labels\n",
    "\n",
    "    @output loss, float, mean zero-one loss\n",
    "    \"\"\"\n",
    "    #your code goes here ↓↓↓\n",
    "    zero_one_loss = (y_true != y_pred).astype(int)\n",
    "    \n",
    "    loss = zero_one_loss.mean()\n",
    "    return loss"
   ]
  },
  {
   "cell_type": "markdown",
   "metadata": {
    "slideshow": {
     "slide_type": ""
    },
    "tags": [
     "text"
    ]
   },
   "source": [
    "<h3 style=\"color:rgb(210,90,80)\">Code 3.4 (5 points):</h3>"
   ]
  },
  {
   "cell_type": "code",
   "execution_count": 11,
   "metadata": {
    "slideshow": {
     "slide_type": ""
    },
    "tags": [
     "code3.4.1"
    ]
   },
   "outputs": [],
   "source": [
    "def run_kNN(X,y,nf,k):\n",
    "    \"\"\"\n",
    "    Function that combines all functions using CV\n",
    "    @param X, np array, training data\n",
    "    @param y, np array, training labels\n",
    "    @param nf, integer, number of folds for CV\n",
    "    @param k, integer, k for kNN\n",
    "\n",
    "    @output mean_error, float, mean error over all folds\n",
    "    \"\"\"\n",
    "    #your code goes here ↓↓↓\n",
    "    kfold = KFold(n_splits=nf)\n",
    "    errors = []\n",
    "    \n",
    "    for train_index, val_index in kfold.split(X):\n",
    "        X_train, X_val = X[train_index], X[val_index]\n",
    "        y_train, y_val = y[train_index], y[val_index]\n",
    "        classifier = train_kNN(X_train, y_train, k)\n",
    "        predictions = eval_kNN(classifier, X_val)\n",
    "        loss = mean_zero_one_loss(y_val, predictions)\n",
    "        errors.append(loss)\n",
    "    mean_error = np.mean(errors)\n",
    "    return mean_error"
   ]
  },
  {
   "cell_type": "code",
   "execution_count": 12,
   "metadata": {
    "slideshow": {
     "slide_type": ""
    },
    "tags": [
     "code3.4.2"
    ]
   },
   "outputs": [],
   "source": [
    "# Nothing to do here - just run this cell\n",
    "m = 179\n",
    "nf = 10\n",
    "error_holder = []\n",
    "for k in range(1,m+1,2): #range with 179 included and step of 2\n",
    "    error_holder.append(run_kNN(X,y,nf,k))"
   ]
  },
  {
   "cell_type": "markdown",
   "metadata": {
    "tags": [
     "text"
    ]
   },
   "source": [
    "<h3 style=\"color:rgb(210,90,80)\">Code & Question 3.5 (5 points):</h3>"
   ]
  },
  {
   "cell_type": "code",
   "execution_count": 13,
   "metadata": {
    "slideshow": {
     "slide_type": ""
    },
    "tags": [
     "code3.5"
    ]
   },
   "outputs": [],
   "source": [
    "#implement the plot as described in the task description within the function below\n",
    "\n",
    "def plot_error_vs_k(error_holder, m):\n",
    "    \"\"\"create a plot\n",
    "\n",
    "    Parameters\n",
    "    ----------\n",
    "    error_holder : list[float]\n",
    "        the error list generated bove\n",
    "    m : int\n",
    "        range in the error list (see above)\n",
    "\n",
    "    Returns\n",
    "    -------\n",
    "    Figure\n",
    "        matplotlib figure object\n",
    "    \"\"\"\n",
    "    fig = plt.figure(figsize=(12, 6)) \n",
    "    # your code goes here ↓↓↓\n",
    "    plt.plot(range(1, m+1, 2), error_holder, marker='o')\n",
    "    plt.title(\"error list\")\n",
    "    plt.xlabel(\"error_holder\")\n",
    "    plt.ylabel(\"range\")\n",
    "    return fig"
   ]
  },
  {
   "cell_type": "code",
   "execution_count": 14,
   "metadata": {
    "slideshow": {
     "slide_type": ""
    },
    "tags": []
   },
   "outputs": [
    {
     "data": {
      "image/png": "[encoded data removed]",
      "text/plain": [
       "<Figure size 1200x600 with 1 Axes>"
      ]
     },
     "metadata": {},
     "output_type": "display_data"
    }
   ],
   "source": [
    "fig = plot_error_vs_k(error_holder, m)\n",
    "assert isinstance(fig, Figure)\n",
    "plt.show()"
   ]
  },
  {
   "cell_type": "markdown",
   "metadata": {
    "tags": [
     "text"
    ]
   },
   "source": [
    "***Answer the following questions about the plot you just created:***<br>\n",
    "\n",
    "What range for $k$ holds the lowest errors (on average) - by visual inspection?<br>\n",
    "\n",
    "l_) [0,5]<br>\n",
    "m_) [50,60]<br>\n",
    "n_) [150,175]<br>\n",
    "\n",
    "Is the error larger for $k=175$ or for $k=1$?<br>\n",
    "\n",
    "o_) 175<br>\n",
    "p_) 1<br>"
   ]
  },
  {
   "cell_type": "code",
   "execution_count": 15,
   "metadata": {
    "slideshow": {
     "slide_type": ""
    },
    "tags": [
     "q3.5"
    ]
   },
   "outputs": [],
   "source": [
    "#examples for you\n",
    "example_of_true_variable = True\n",
    "example_of_false_variable = False\n",
    "\n",
    "#your answers go here ↓↓↓\n",
    "l_ = False\n",
    "m_ = True\n",
    "n_ = False\n",
    "\n",
    "o_ = True\n",
    "p_ = False"
   ]
  },
  {
   "cell_type": "markdown",
   "metadata": {
    "tags": [
     "text"
    ]
   },
   "source": [
    "<h3 style=\"color:rgb(210,90,80)\">Question 3.6 (10 points):</h3>\n",
    "\n",
    "<i><b>Thinking of model complexity as the ability of the model to fit to noise, what choice of $k$ leads to complex models? Why?</b></i><br>\n",
    "(Multiple answers might be correct)\n",
    "\n",
    "q_) Model complexity increases with increasing $k$, as larger $k$ means the model has more parameters. <br>\n",
    "r_) Model complexity increases with increasing $k$, as larger $k$ means that more neighbors influence the decision. <br>\n",
    "s_) Model complexity increases with decreasing $k$, as smaller $k$ means that fewer neighbors influence the decision. <br>\n",
    "t_) Model complexity increases with decreasing $k$, as smaller $k$ means the model has fewer parameters. <br>\n",
    "\n",
    "u_) Very small values of $k$ lead to underfitting <br>\n",
    "v_) Very small values of $k$ lead to overfitting <br>\n",
    "w_) Very large values of $k$ lead to underfitting <br>\n",
    "x_) Very large values of $k$ lead to overfitting <br>"
   ]
  },
  {
   "cell_type": "code",
   "execution_count": 16,
   "metadata": {
    "slideshow": {
     "slide_type": ""
    },
    "tags": [
     "q3.6"
    ]
   },
   "outputs": [],
   "source": [
    "#your answers go here ↓↓↓\n",
    "q_ = False\n",
    "r_ = False\n",
    "s_ = True\n",
    "t_ = False\n",
    "\n",
    "u_ = False\n",
    "v_ = True\n",
    "w_ = True\n",
    "x_ = False"
   ]
  },
  {
   "cell_type": "markdown",
   "metadata": {
    "tags": [
     "text"
    ]
   },
   "source": [
    "<h2 style=\"color:rgb(0,120,170)\">Task 4: Adding noise to dataset</h2>\n",
    "\n",
    "To make things more interesting, mix up the dataset a bit:\n",
    "\n",
    "* Implement `generate_flip_vector` which should return a 1-dimensional array of length $n$ where exactly $\\left \\lfloor{n/5}\\right \\rfloor $ entries are $-1$ and the rest are $+1$. The entries in the array should appear in a random order.\n",
    "* Now implement `flip_labels` that flips the labels according to the flip vector.\n",
    "\n",
    "\n",
    "Then perform the same steps as before. Generate the following 4 subplots in one big plot:  \n",
    "(1) top left: visualize the original dataset (with data points colored differently according to the binary labels)  \n",
    "(2) top right: visualize the flipped dataset (with data points colored differently according to the binary labels)  \n",
    "(3) bottom left: visualize the mean error for $k \\in \\{1,3,5,...,177,179\\}$ (same as in Task 2) for the original dataset  \n",
    "(4) bottom right: visualize the mean error for $k \\in \\{1,3,5,...,177,179\\}$ (same as in Task 2) for the flipped dataset  \n",
    "\n",
    "plot the data and plot the error (estimated via the empirical risk) vs. $k$ for 10-fold cross validation.\n",
    "\n",
    "<h3 style=\"color:rgb(210,90,80)\">Code 4.1 (5 points):</h3>"
   ]
  },
  {
   "cell_type": "code",
   "execution_count": 26,
   "metadata": {
    "slideshow": {
     "slide_type": ""
    },
    "tags": [
     "code4.1"
    ]
   },
   "outputs": [],
   "source": [
    "def generate_flip_vector(n):\n",
    "    \"\"\"\n",
    "    Function that produces a flip vector consisting of -1's and 1's (1/5,4/5)\n",
    "    @param n, integer, the length of the vector that should be returned\n",
    "\n",
    "    @output flip_vector, np array, the vector that indicates what labels will be flipped\n",
    "    \"\"\"\n",
    "    #your code goes here ↓↓↓\n",
    "    neg_ones = np.array([-1] * int(n/5))\n",
    "    ones = np.array([1] * (n - int(n/5)))\n",
    "    flip_vector = np.concatenate((neg_ones, ones))\n",
    "    return flip_vector"
   ]
  },
  {
   "cell_type": "markdown",
   "metadata": {
    "slideshow": {
     "slide_type": ""
    },
    "tags": [
     "text"
    ]
   },
   "source": [
    "<h3 style=\"color:rgb(210,90,80)\">Code 4.2 (5 points):</h3>"
   ]
  },
  {
   "cell_type": "code",
   "execution_count": 18,
   "metadata": {
    "slideshow": {
     "slide_type": ""
    },
    "tags": [
     "4.2.1"
    ]
   },
   "outputs": [],
   "source": [
    "def flip_labels(y,flip_vector):\n",
    "    \"\"\"\n",
    "    Function that flips labels given a flip vector\n",
    "    @param y, np array, labels to flip (don't forget to copy the data in order not to alter the original labels). Note that y is of the same length as the flip vector.\n",
    "    @param flip_vector, np array, array that should be used to flip the labels\n",
    "\n",
    "    @output flipped_labels, np array, the labels where 1/5 labels are flipped\n",
    "    \"\"\"\n",
    "    flipped_labels = np.copy(y)  # copy the original labels to avoid altering them\n",
    "    for i, item in enumerate(flip_vector):\n",
    "        if item == -1:\n",
    "            flipped_labels[i] = -y[i] \n",
    "    return flipped_labels"
   ]
  },
  {
   "cell_type": "code",
   "execution_count": 19,
   "metadata": {
    "slideshow": {
     "slide_type": ""
    },
    "tags": [
     "4.2.2"
    ]
   },
   "outputs": [
    {
     "name": "stdout",
     "output_type": "stream",
     "text": [
      "[-1 -1 -1 -1 -1 -1 -1 -1 -1 -1 -1 -1 -1 -1 -1 -1 -1 -1 -1 -1 -1 -1 -1 -1\n",
      " -1 -1 -1 -1 -1 -1 -1 -1 -1 -1 -1 -1 -1 -1 -1 -1 -1 -1  1  1  1  1  1  1\n",
      "  1  1  1  1  1  1  1  1  1  1  1  1  1  1  1  1  1  1  1  1  1  1  1  1\n",
      "  1  1  1  1  1  1  1  1  1  1  1  1  1  1  1  1  1  1  1  1  1  1  1  1\n",
      "  1  1  1  1  1  1  1  1  1  1  1  1  1  1  1  1  1  1  1  1  1  1  1  1\n",
      "  1  1  1  1  1  1  1  1  1  1  1  1  1  1  1  1  1  1  1  1  1  1  1  1\n",
      "  1  1  1  1  1  1  1  1  1  1  1  1  1  1  1  1  1  1  1  1  1  1  1  1\n",
      "  1  1  1  1  1  1  1  1  1  1  1  1  1  1  1  1  1  1  1  1  1  1  1  1\n",
      "  1  1  1  1  1  1  1  1  1  1  1  1  1  1  1  1  1  1]\n"
     ]
    }
   ],
   "source": [
    "# Nothing to do here - just run this cell\n",
    "# define new y vector by calling flip function\n",
    "fl_vec = generate_flip_vector(len(y))\n",
    "y_fl = flip_labels(y,fl_vec)\n",
    "\n",
    "error_holder_flipped = []\n",
    "for k in range(1,m+1,2): # range with 179 included and step of 2\n",
    "    error_holder_flipped.append(run_kNN(X,y_fl,nf,k))"
   ]
  },
  {
   "cell_type": "markdown",
   "metadata": {
    "tags": [
     "text"
    ]
   },
   "source": [
    "<h3 style=\"color:rgb(210,90,80)\">Plot & Question 4.3 (10 points)</h3>"
   ]
  },
  {
   "cell_type": "code",
   "execution_count": 20,
   "metadata": {
    "slideshow": {
     "slide_type": ""
    },
    "tags": [
     "code4.3"
    ]
   },
   "outputs": [],
   "source": [
    "def plot_subplots(X, y, y_fl, m, error_holder, error_holder_flipped):\n",
    "    \"\"\"The function creating the plots as described above.\n",
    "\n",
    "    The Parameters are called the same as in the notebook.\n",
    "    Do not use anything besides them.\n",
    "    \"\"\"\n",
    "    fig, axs = plt.subplots(2,2,figsize=(14, 14), gridspec_kw = {'wspace':0.15,'hspace':0.3})\n",
    "    #your plotting code goes here ↓↓↓\n",
    "    axs[0, 0].scatter(X[y == 1][:, 0], X[y == 1][:, 1], c='r', label='Class 1')\n",
    "    axs[0, 0].scatter(X[y == -1][:, 0], X[y == -1][:, 1], c='b', label='Class -1')\n",
    "    axs[0, 0].set_title('Original Dataset')\n",
    "    axs[0, 0].legend()\n",
    "    \n",
    "    axs[0, 1].scatter(X[y_fl == 1][:, 0], X[y_fl == 1][:, 1], c='r', label='Class 1')\n",
    "    axs[0, 1].scatter(X[y_fl == -1][:, 0], X[y_fl == -1][:, 1], c='b', label='Class -1')\n",
    "    axs[0, 1].set_title('Flipped Dataset')\n",
    "    axs[0, 1].legend()\n",
    "    \n",
    "    k_values = list(range(1, m+1, 2))\n",
    "    axs[1, 0].plot(k_values, error_holder, marker='o', linestyle='-', color='g')\n",
    "    axs[1, 0].set_title('Error vs. k (Original Labels)')\n",
    "    axs[1, 0].set_xlabel('k')\n",
    "    axs[1, 0].set_ylabel('Mean Error')\n",
    "    \n",
    "    axs[1, 1].plot(k_values, error_holder_flipped, marker='o', linestyle='-', color='m')\n",
    "    axs[1, 1].set_title('Error vs. k (Flipped Labels)')\n",
    "    axs[1, 1].set_xlabel('k')\n",
    "    axs[1, 1].set_ylabel('Mean Error')\n",
    "    \n",
    "\n",
    "    return fig"
   ]
  },
  {
   "cell_type": "code",
   "execution_count": 21,
   "metadata": {
    "slideshow": {
     "slide_type": ""
    },
    "tags": []
   },
   "outputs": [
    {
     "data": {
      "image/png": "[encoded data removed]",
      "text/plain": [
       "<Figure size 1400x1400 with 4 Axes>"
      ]
     },
     "metadata": {},
     "output_type": "display_data"
    }
   ],
   "source": [
    "fig = plot_subplots(X, y, y_fl, m, error_holder, error_holder_flipped)\n",
    "assert isinstance(fig, Figure)\n",
    "plt.show()"
   ]
  },
  {
   "cell_type": "markdown",
   "metadata": {
    "tags": [
     "text"
    ]
   },
   "source": [
    "***Which differences do you observe?<br>\n",
    "Which conclusions do you draw from that?***\n",
    "<br>(Multiple answers might be correct)\n",
    "\n",
    "\n",
    "y_) After flipping, the two classes are well separable and have nearly no overlap anymore <br>\n",
    "z_) After flipping, the two classes are less separable (than before) and have a larger overlap (than before) <br>\n",
    "\n",
    "a2_) Random label flipping brings noise into the data <br>\n",
    "b2_) Random label flipping simply swaps data, but does not add noise <br>\n",
    "\n",
    "c2_) Overall, the error remains nearly unchanged compared to the original data set. <br>\n",
    "d2_) Overall, the error increases compared to the original data set. <br>\n",
    "\n",
    "To answer the question assign to variables in the next cell \"True\" or \"False\" boolean values. To earn points, assign values to all variables. Note: Do not reuse these variable names. They are used for testing."
   ]
  },
  {
   "cell_type": "code",
   "execution_count": 22,
   "metadata": {
    "slideshow": {
     "slide_type": ""
    },
    "tags": [
     "q4.3"
    ]
   },
   "outputs": [],
   "source": [
    "#your answers go here ↓↓↓\n",
    "y_ = False\n",
    "z_ = True\n",
    "\n",
    "a2_ = True\n",
    "b2_ = False\n",
    "\n",
    "c2_ = False\n",
    "d2_ = True"
   ]
  },
  {
   "cell_type": "markdown",
   "metadata": {
    "tags": [
     "text"
    ]
   },
   "source": [
    "<h2 style=\"color:rgb(0,120,170)\">Task 5: k-NN in higher dimensions</h2>\n",
    "\n",
    "Going back to unflipped labels: Write a function \"add_features(X)\" which will add 4 additional features $x_3,x_4,x_5,x_6$ to the matrix X, calling the resulting matrix X_new. Each of the new features should be uniformly distributed between $0$ and $1$.<br>\n",
    "\n",
    "As before, plot the error versus $k$ for 10-folds CV for with 1, 2, 3, 4 incrementally added features. (4 plots) <br>\n",
    "\n",
    "Additionaly, for the particular choice $k=11$, plot the mean error versus $f$ with $f = 2,3,4,5,6$ being the number of features. Thus, the first data point in this plot (where $f=2$) shows the error for the original feature matrix X without extra dimensions. The second data point in this plot (where $f=3$) shows the error for the feature matrix X with one additional dimension, and so on.<br>\n",
    "\n",
    "<h3 style=\"color:rgb(210,90,80)\">Code 5.1 (10 points):</h3>"
   ]
  },
  {
   "cell_type": "code",
   "execution_count": 23,
   "metadata": {
    "slideshow": {
     "slide_type": ""
    },
    "tags": [
     "code5.1.1"
    ]
   },
   "outputs": [],
   "source": [
    "def add_features(X):\n",
    "    \"\"\"\n",
    "    Function that adds random features to dataset\n",
    "    @param X, np array, dataset\n",
    "\n",
    "    @output X_new, np array, dataset enhanced with 4 random features\n",
    "    \"\"\"\n",
    "    np.random.seed(1234)\n",
    "    #your code goes here ↓↓↓\n",
    "    \n",
    "    return X_new"
   ]
  },
  {
   "cell_type": "code",
   "execution_count": 24,
   "metadata": {
    "slideshow": {
     "slide_type": ""
    },
    "tags": [
     "code5.1.2"
    ]
   },
   "outputs": [
    {
     "ename": "NameError",
     "evalue": "name 'X_new' is not defined",
     "output_type": "error",
     "traceback": [
      "\u001b[1;31m---------------------------------------------------------------------------\u001b[0m",
      "\u001b[1;31mNameError\u001b[0m                                 Traceback (most recent call last)",
      "Cell \u001b[1;32mIn[24], line 3\u001b[0m\n\u001b[0;32m      1\u001b[0m \u001b[38;5;66;03m# Nothing to do here - just run this cell\u001b[39;00m\n\u001b[0;32m      2\u001b[0m \u001b[38;5;66;03m# define new feature matrix by calling add_features function\u001b[39;00m\n\u001b[1;32m----> 3\u001b[0m X_new \u001b[38;5;241m=\u001b[39m \u001b[43madd_features\u001b[49m\u001b[43m(\u001b[49m\u001b[43mX\u001b[49m\u001b[43m)\u001b[49m\n",
      "Cell \u001b[1;32mIn[23], line 11\u001b[0m, in \u001b[0;36madd_features\u001b[1;34m(X)\u001b[0m\n\u001b[0;32m      8\u001b[0m np\u001b[38;5;241m.\u001b[39mrandom\u001b[38;5;241m.\u001b[39mseed(\u001b[38;5;241m1234\u001b[39m)\n\u001b[0;32m      9\u001b[0m \u001b[38;5;66;03m#your code goes here ↓↓↓\u001b[39;00m\n\u001b[1;32m---> 11\u001b[0m \u001b[38;5;28;01mreturn\u001b[39;00m \u001b[43mX_new\u001b[49m\n",
      "\u001b[1;31mNameError\u001b[0m: name 'X_new' is not defined"
     ]
    }
   ],
   "source": [
    "# Nothing to do here - just run this cell\n",
    "# define new feature matrix by calling add_features function\n",
    "X_new = add_features(X)"
   ]
  },
  {
   "cell_type": "markdown",
   "metadata": {
    "tags": [
     "text"
    ]
   },
   "source": [
    "<h3 style=\"color:rgb(210,90,80)\">Code & Question 5.2 (15 points):</h3>"
   ]
  },
  {
   "cell_type": "code",
   "execution_count": null,
   "metadata": {
    "scrolled": true,
    "slideshow": {
     "slide_type": ""
    },
    "tags": [
     "code5.2"
    ]
   },
   "outputs": [],
   "source": [
    "m = 179\n",
    "def plot_error_vs_k_extra_dims(X_new, y, m):\n",
    "    \"\"\"function that implements the plot from Task5.\n",
    "\n",
    "    This function should create 2! plots.\n",
    "    The first plot to visualize error vs k with 10 folds and <X> extra dimensions.\n",
    "    The second plot to visualize the error versus dimension with k=11\n",
    "    \n",
    "    Returns\n",
    "    -------\n",
    "    tuple[Figure, Figure]\n",
    "        A tuple with 2! matplotlib figures\n",
    "    \"\"\"\n",
    "    #your code goes here ↓↓↓\n",
    "    fig1, axs = plt.subplots(2,2,figsize=(14, 14),gridspec_kw = {'wspace':0.15,'hspace':0.3})\n",
    "    # implement first plot\n",
    "\n",
    "    fig2 = plt.figure(figsize=(12, 6))\n",
    "    # implement second plot\n",
    "    \n",
    "    return fig1, fig2"
   ]
  },
  {
   "cell_type": "code",
   "execution_count": null,
   "metadata": {
    "slideshow": {
     "slide_type": ""
    },
    "tags": []
   },
   "outputs": [],
   "source": [
    "fig1, fig2 = plot_error_vs_k_extra_dims(X_new, y, m)\n",
    "assert isinstance(fig, Figure)\n",
    "assert isinstance(fig2, Figure)"
   ]
  },
  {
   "cell_type": "markdown",
   "metadata": {
    "tags": [
     "text"
    ]
   },
   "source": [
    "***Try to explain possible changes of the error.***\n",
    "\n",
    "e2_) $k$-nearest neighbors is robust against randomly added further features; noise is filtered out <br>\n",
    "f2_) $k$-nearest neighbors is not robust aginst randomly added further features; the error increases if extra dimension(s) with noise are added\n",
    "\n",
    "g2_) The error with additional features ($f \\ge 3$) is overall larger than for $f=2$<br>\n",
    "h2_) The error with additional features ($f \\ge 3$) is overall smaller than for $f=2$<br>\n",
    "i2_) The error stays overall the same with additional features"
   ]
  },
  {
   "cell_type": "code",
   "execution_count": null,
   "metadata": {
    "slideshow": {
     "slide_type": ""
    },
    "tags": [
     "q5.2"
    ]
   },
   "outputs": [],
   "source": [
    "#your answers go here ↓↓↓\n",
    "e2_ = None\n",
    "f2_ = None\n",
    "\n",
    "g2_ = None\n",
    "h2_ = None\n",
    "i2_ = None"
   ]
  }
 ],
 "metadata": {
  "celltoolbar": "Tags",
  "kernelspec": {
   "display_name": "Python 3 (ipykernel)",
   "language": "python",
   "name": "python3"
  },
  "language_info": {
   "codemirror_mode": {
    "name": "ipython",
    "version": 3
   },
   "file_extension": ".py",
   "mimetype": "text/x-python",
   "name": "python",
   "nbconvert_exporter": "python",
   "pygments_lexer": "ipython3",
   "version": "3.10.13"
  }
 },
 "nbformat": 4,
 "nbformat_minor": 4
}
